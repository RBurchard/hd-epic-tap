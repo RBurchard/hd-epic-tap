{
 "cells": [
  {
   "cell_type": "code",
   "execution_count": 1,
   "id": "059733c4",
   "metadata": {},
   "outputs": [],
   "source": [
    "import h5py"
   ]
  },
  {
   "cell_type": "code",
   "execution_count": 2,
   "id": "68c0c5c5",
   "metadata": {},
   "outputs": [],
   "source": [
    "import numpy as np\n",
    "import matplotlib.pyplot as plt"
   ]
  },
  {
   "cell_type": "code",
   "execution_count": null,
   "id": "d52602b2",
   "metadata": {},
   "outputs": [],
   "source": []
  },
  {
   "cell_type": "code",
   "execution_count": 3,
   "id": "d0997dac",
   "metadata": {},
   "outputs": [],
   "source": [
    "import gc"
   ]
  },
  {
   "cell_type": "code",
   "execution_count": 4,
   "id": "76e81cd6",
   "metadata": {},
   "outputs": [],
   "source": [
    "import pandas as pd\n",
    "import seaborn as sns"
   ]
  },
  {
   "cell_type": "code",
   "execution_count": 26,
   "id": "cf0548ab",
   "metadata": {},
   "outputs": [],
   "source": [
    "from sklearn.ensemble import RandomForestClassifier as RFC\n",
    "from sklearn.svm import SVC\n",
    "from sklearn.ensemble import GradientBoostingClassifier as GBC\n",
    "from sklearn.dummy import DummyClassifier\n",
    "from sklearn.metrics import precision_score, recall_score, accuracy_score, f1_score\n",
    "from sklearn.model_selection import train_test_split as tts"
   ]
  },
  {
   "cell_type": "code",
   "execution_count": 6,
   "id": "6a8a2720",
   "metadata": {},
   "outputs": [],
   "source": [
    "%load_ext autoreload\n",
    "%autoreload 2"
   ]
  },
  {
   "cell_type": "code",
   "execution_count": 7,
   "id": "e61a99ac",
   "metadata": {},
   "outputs": [],
   "source": [
    "from glob import glob"
   ]
  },
  {
   "cell_type": "code",
   "execution_count": 8,
   "id": "b0be0d0f",
   "metadata": {},
   "outputs": [],
   "source": [
    "from tqdm.auto import tqdm\n",
    "import shelve"
   ]
  },
  {
   "cell_type": "code",
   "execution_count": 25,
   "id": "7868dff3",
   "metadata": {},
   "outputs": [],
   "source": [
    "from sklearn.metrics import ConfusionMatrixDisplay\n",
    "from sklearn.model_selection import LeaveOneOut as LOSO\n",
    "import torch\n",
    "import torch.nn as nn\n",
    "from torch.utils.data import Dataset, DataLoader, TensorDataset"
   ]
  },
  {
   "cell_type": "code",
   "execution_count": 10,
   "id": "51b65605",
   "metadata": {},
   "outputs": [],
   "source": []
  },
  {
   "cell_type": "code",
   "execution_count": 11,
   "id": "4a65cee5-5c8f-4788-af33-0cc7d4923436",
   "metadata": {},
   "outputs": [],
   "source": [
    "import seaborn as sns\n",
    "import matplotlib.pyplot as plt\n",
    "from matplotlib.patches import Patch"
   ]
  },
  {
   "cell_type": "code",
   "execution_count": null,
   "id": "bc24c281-a78f-4aed-b860-5c40ceec4a65",
   "metadata": {},
   "outputs": [],
   "source": []
  },
  {
   "cell_type": "code",
   "execution_count": 12,
   "id": "0d8ca73f",
   "metadata": {
    "scrolled": true
   },
   "outputs": [],
   "source": [
    "all_files = [h5py.File(x) for x in glob(\"Audio/*/*.hdf5\")]"
   ]
  },
  {
   "cell_type": "code",
   "execution_count": null,
   "id": "d4bc8b27",
   "metadata": {},
   "outputs": [],
   "source": []
  },
  {
   "cell_type": "code",
   "execution_count": 13,
   "id": "4337bef1",
   "metadata": {
    "scrolled": true
   },
   "outputs": [],
   "source": [
    "new_annot_filename = \"HD_EPIC_Sounds_annot.csv\"\n",
    "new_annot_df = pd.read_csv(new_annot_filename)"
   ]
  },
  {
   "cell_type": "code",
   "execution_count": 14,
   "id": "15f0df85-46ab-4a79-a182-4ddbc5789cfd",
   "metadata": {},
   "outputs": [],
   "source": [
    "new_annot_df = new_annot_df.sort_values([\"participant_id\", \"video_id\", \"start_sample\"])"
   ]
  },
  {
   "cell_type": "code",
   "execution_count": null,
   "id": "233b7004-1f84-4cd4-b51b-77efa40c1068",
   "metadata": {},
   "outputs": [],
   "source": []
  },
  {
   "cell_type": "markdown",
   "id": "7c5a39e0",
   "metadata": {},
   "source": [
    "#### sampling rate: 48kHz"
   ]
  },
  {
   "cell_type": "code",
   "execution_count": 15,
   "id": "c3c3ac0d",
   "metadata": {},
   "outputs": [],
   "source": [
    "import matplotlib"
   ]
  },
  {
   "cell_type": "code",
   "execution_count": null,
   "id": "ecbf8f0f",
   "metadata": {},
   "outputs": [],
   "source": []
  },
  {
   "cell_type": "code",
   "execution_count": 16,
   "id": "639b0118",
   "metadata": {},
   "outputs": [],
   "source": [
    "import scipy as sp\n",
    "\n",
    "def windowed_fft(wav_form, labels_csv, window_size=48000, non_overlap=24000, plot=True):\n",
    "    #stft_obj = sp.signal.ShortTimeFFT() TODO: use this more moder api?\n",
    "    f, t, stft = sp.signal.stft(x=wav_form, fs=48000, nperseg=window_size, noverlap=non_overlap)\n",
    "    \n",
    "    if plot:\n",
    "        try:\n",
    "            plt.pcolormesh(t, f, np.abs(stft), shading='gouraud', norm=matplotlib.colors.LogNorm())\n",
    "            plt.title('STFT Magnitude')\n",
    "            plt.ylabel('Frequency [Hz]')\n",
    "            plt.xlabel('Time [sec]')\n",
    "            plt.show()\n",
    "        except:\n",
    "            print(\"could not plot\")\n",
    "\n",
    "    stft = np.abs(stft.transpose((1, 0)))\n",
    "    labels = np.zeros(len(stft))\n",
    "    if labels_csv is not None:\n",
    "        for _, line in labels_csv.iterrows():\n",
    "            start = (line.start_sample - window_size + non_overlap) // non_overlap\n",
    "            stop = (line.stop_sample - window_size + non_overlap) // non_overlap\n",
    "            #print(start, stop)\n",
    "            labels[start:stop] = 1\n",
    "    return f,t, stft, labels"
   ]
  },
  {
   "cell_type": "code",
   "execution_count": null,
   "id": "8b28558f-0921-4766-abda-a5788aa9a7d4",
   "metadata": {},
   "outputs": [],
   "source": []
  },
  {
   "cell_type": "code",
   "execution_count": 17,
   "id": "41982275",
   "metadata": {
    "scrolled": true
   },
   "outputs": [],
   "source": [
    "import librosa"
   ]
  },
  {
   "cell_type": "code",
   "execution_count": 18,
   "id": "dca8741c",
   "metadata": {},
   "outputs": [],
   "source": [
    "def spectral_cover(y, sr=48000, gamma=1.5):\n",
    "    \"\"\"\n",
    "    Computes the Spectral Cover (SP) feature, which boosts high-frequency components \n",
    "    and makes the feature sensitive to absolute signal level.\n",
    "    \n",
    "    Parameters:\n",
    "        - y: Raw audio signal (NumPy array)\n",
    "        - sr: Sampling rate (default: 48 kHz)\n",
    "        - gamma: Sensitivity parameter (1 ≤ gamma ≤ 2)\n",
    "\n",
    "    Returns:\n",
    "        - Spectral Cover value (scalar)\n",
    "    \"\"\"\n",
    "    # Compute magnitude spectrum (STFT)\n",
    "    stft = np.abs(librosa.stft(y, n_fft=2048))  # Ensure n_fft matches librosa default\n",
    "    freqs = librosa.fft_frequencies(sr=sr, n_fft=2048)  # Match n_fft to STFT\n",
    "\n",
    "    amplitude_spectrum = np.mean(stft, axis=1)  # Averaging across time\n",
    "\n",
    "    if amplitude_spectrum.shape[0] != freqs.shape[0]:  # Ensure same shape\n",
    "        freqs = np.linspace(0, sr / 2, amplitude_spectrum.shape[0])\n",
    "\n",
    "    numerator = np.sum((amplitude_spectrum * freqs) ** 2)\n",
    "    denominator = np.sum(amplitude_spectrum) ** gamma\n",
    "    return numerator / denominator if denominator > 0 else 0"
   ]
  },
  {
   "cell_type": "code",
   "execution_count": 19,
   "id": "f5141167",
   "metadata": {},
   "outputs": [],
   "source": [
    "def extract_audio_features_sliding_window(audio_data, sr=48000, window_size=2, hop_size=2, n_mfcc=13, labels_df=None):\n",
    "    \"\"\"\n",
    "    Extracts audio features using a sliding window approach.\n",
    "    \n",
    "    Parameters:\n",
    "        - audio_data: NumPy array containing the raw audio signal\n",
    "        - sr: Sampling rate (default: 48 kHz)\n",
    "        - window_size: Window length in seconds\n",
    "        - hop_size: Hop length in seconds (overlap control)\n",
    "        - n_mfcc: Number of MFCC coefficients to extract\n",
    "    \n",
    "    Returns:\n",
    "        - feature_matrix: (num_windows, feature_dim) numpy array\n",
    "    \"\"\"\n",
    "    # Convert seconds to samples\n",
    "    win_length = int(window_size * sr)\n",
    "    hop_length = int(hop_size * sr)\n",
    "\n",
    "    # Compute number of windows\n",
    "    num_windows = (len(audio_data) - win_length) // hop_length + 1\n",
    "    feature_matrix = []\n",
    "\n",
    "    for i in range(num_windows):\n",
    "        start = i * hop_length\n",
    "        end = start + win_length\n",
    "        y_win = audio_data[start:end]\n",
    "\n",
    "        # Compute features for the window\n",
    "        mfccs = librosa.feature.mfcc(y=y_win, sr=sr, n_mfcc=n_mfcc)\n",
    "        spectral_centroid = librosa.feature.spectral_centroid(y=y_win, sr=sr)\n",
    "        spectral_bandwidth = librosa.feature.spectral_bandwidth(y=y_win, sr=sr)\n",
    "        spectral_contrast = librosa.feature.spectral_contrast(y=y_win, sr=sr)\n",
    "        spectral_rolloff = librosa.feature.spectral_rolloff(y=y_win, sr=sr)\n",
    "        spectral_cover_res = spectral_cover(y=y_win, sr=sr, gamma=1.5)\n",
    "        chroma = librosa.feature.chroma_stft(y=y_win, sr=sr)\n",
    "        zero_crossing_rate = librosa.feature.zero_crossing_rate(y=y_win)\n",
    "        rms_energy = librosa.feature.rms(y=y_win)\n",
    "\n",
    "        # Aggregation function (Mean, Std, Min, Max, Median)\n",
    "        def aggregate_feature(feature):\n",
    "            return np.array([np.mean(feature), np.std(feature), np.min(feature), np.max(feature), np.median(feature)])\n",
    "\n",
    "        # Flatten and collect features\n",
    "        feature_vector = np.hstack([\n",
    "            aggregate_feature(mfccs),\n",
    "            aggregate_feature(spectral_centroid),\n",
    "            aggregate_feature(spectral_bandwidth),\n",
    "            aggregate_feature(spectral_contrast),\n",
    "            aggregate_feature(spectral_rolloff),            \n",
    "            aggregate_feature(chroma),\n",
    "            aggregate_feature(zero_crossing_rate),\n",
    "            aggregate_feature(rms_energy),\n",
    "            spectral_cover_res\n",
    "        ])\n",
    "        feature_matrix.append(feature_vector)\n",
    "        \n",
    "    labels = np.zeros(len(feature_matrix))\n",
    "        \n",
    "    if labels_df is not None:\n",
    "        for _, line in labels_df.iterrows():\n",
    "            if (line.stop_sample - line.start_sample) / sr < 2:\n",
    "                continue\n",
    "            start = (line.start_sample - win_length + hop_length) // hop_length\n",
    "            stop = (line.stop_sample - win_length + hop_length) // hop_length\n",
    "            labels[start:stop] = 1\n",
    "\n",
    "    return np.array(feature_matrix), labels"
   ]
  },
  {
   "cell_type": "code",
   "execution_count": 27,
   "id": "a6089773",
   "metadata": {},
   "outputs": [],
   "source": [
    "features = [\"mfccs\", \"sp_centroid\", \"sp_bandwidth\", \"sp_contrast\", \"sp_rolloff\", \"chroma\", \"ZCR\", \"rms_energy\"]\n",
    "feat_agg = np.concatenate([[f\"{feat}_mean\", f\"{feat}_std\", f\"{feat}_min\", f\"{feat}_max\", f\"{feat}_median\"] for feat in features] + [[\"sp_cover\"]])"
   ]
  },
  {
   "cell_type": "code",
   "execution_count": 28,
   "id": "2129e18d-607f-42bd-a538-ef7b842ecdf4",
   "metadata": {},
   "outputs": [
    {
     "data": {
      "text/plain": [
       "(41,)"
      ]
     },
     "execution_count": 28,
     "metadata": {},
     "output_type": "execute_result"
    }
   ],
   "source": [
    "feat_agg.shape"
   ]
  },
  {
   "cell_type": "code",
   "execution_count": 29,
   "id": "bd9933fc",
   "metadata": {},
   "outputs": [],
   "source": [
    "def extract_log_mel_spectrogram_sliding_window(audio_data, sr=48000, window_size=2, hop_size=2, n_mels=128, n_fft=2048, hop_length=None, labels_df=None):\n",
    "    \"\"\"\n",
    "    Computes log-Mel spectrogram features using a sliding window approach.\n",
    "    \n",
    "    Parameters:\n",
    "        - audio_data: 1D numpy array of raw audio\n",
    "        - sr: Sampling rate\n",
    "        - window_size: Duration of each window in seconds\n",
    "        - hop_size: Hop size between windows in seconds\n",
    "        - n_mels: Number of Mel bands\n",
    "        - n_fft: FFT window size\n",
    "        - hop_length: STFT hop length (in samples); defaults to 1/4 of n_fft\n",
    "    \n",
    "    Returns:\n",
    "        - A 3D numpy array of shape (num_windows, n_mels, num_frames_per_window)\n",
    "    \"\"\"\n",
    "    win_length = int(window_size * sr)\n",
    "    hop_samples = int(hop_size * sr)\n",
    "    hop_length = hop_length or n_fft // 4\n",
    "    num_windows = (len(audio_data) - win_length) // hop_samples + 1\n",
    "\n",
    "    segments = []\n",
    "\n",
    "    for i in range(num_windows):\n",
    "        start = i * hop_samples\n",
    "        end = start + win_length\n",
    "        y_win = audio_data[start:end]\n",
    "\n",
    "        # Compute Mel spectrogram\n",
    "        mel_spec = librosa.feature.melspectrogram(\n",
    "            y=y_win,\n",
    "            sr=sr,\n",
    "            n_fft=n_fft,\n",
    "            hop_length=hop_length,\n",
    "            n_mels=n_mels,\n",
    "            power=2.0  # Power spectrogram (amplitude squared)\n",
    "        )\n",
    "\n",
    "        # Convert to log scale (dB)\n",
    "        log_mel_spec = librosa.power_to_db(mel_spec, ref=np.max)\n",
    "\n",
    "        segments.append(log_mel_spec)\n",
    "\n",
    "            \n",
    "    labels = np.zeros(len(segments))\n",
    "        \n",
    "    if labels_df is not None:\n",
    "        for _, line in labels_df.iterrows():\n",
    "            if (line.stop_sample - line.start_sample) / sr < 2:\n",
    "                continue\n",
    "            start = (line.start_sample - win_length + hop_samples) // hop_samples\n",
    "            stop = (line.stop_sample - win_length + hop_samples) // hop_samples\n",
    "            labels[start:stop] = 1\n",
    "\n",
    "    return np.array(segments), labels # Shape: (num_windows, n_mels, frames_per_window)"
   ]
  },
  {
   "cell_type": "code",
   "execution_count": 30,
   "id": "1e825400",
   "metadata": {},
   "outputs": [],
   "source": [
    "def extract_raw_data_sliding_window(audio_data, sr=48000, window_size=2, hop_size=2, labels_df=None):\n",
    "    # Convert seconds to samples\n",
    "    win_length = int(window_size * sr)\n",
    "    hop_length = int(hop_size * sr)\n",
    "\n",
    "    # Compute number of windows\n",
    "    num_windows = (len(audio_data) - win_length) // hop_length + 1\n",
    "    feature_matrix = []\n",
    "    \n",
    "    for i in range(num_windows):\n",
    "        start = i * hop_length\n",
    "        end = start + win_length\n",
    "        y_win = audio_data[start:end]\n",
    "        if len(y_win) == win_length:\n",
    "            feature_matrix.append(y_win)\n",
    "        \n",
    "    labels = np.zeros(len(feature_matrix))\n",
    "        \n",
    "    if labels_df is not None:\n",
    "        for _, line in labels_df.iterrows():\n",
    "            start = (line.start_sample - win_length + hop_length) // hop_length\n",
    "            stop = (line.stop_sample - win_length + hop_length) // hop_length\n",
    "            labels[start:stop] = 1\n",
    "\n",
    "    return np.array(feature_matrix), labels"
   ]
  },
  {
   "cell_type": "code",
   "execution_count": 104,
   "id": "d4500120",
   "metadata": {},
   "outputs": [],
   "source": [
    "class LogMelDataset(Dataset):\n",
    "    def __init__(self, X, y):\n",
    "        self.X = torch.tensor(X, dtype=torch.float32).unsqueeze(1)\n",
    "        self.y = torch.tensor(y, dtype=torch.long)\n",
    "\n",
    "    def __len__(self):\n",
    "        return len(self.X)\n",
    "\n",
    "    def __getitem__(self, idx):\n",
    "        return self.X[idx], self.y[idx]"
   ]
  },
  {
   "cell_type": "code",
   "execution_count": 31,
   "id": "8243f910",
   "metadata": {},
   "outputs": [],
   "source": [
    "import torch.nn.functional as F\n",
    "\n",
    "class CNNClassifier(nn.Module):\n",
    "    def __init__(self, num_classes):\n",
    "        super(CNNClassifier, self).__init__()\n",
    "        self.conv1 = nn.Conv2d(1, 16, kernel_size=3, padding=1)\n",
    "        self.conv2 = nn.Conv2d(16, 32, kernel_size=3, padding=1)\n",
    "        self.conv3 = nn.Conv2d(32, 64, kernel_size=3, padding=1)\n",
    "        self.conv4 = nn.Conv2d(64, 128, kernel_size=3, padding=1)\n",
    "        self.conv5 = nn.Conv2d(128, 256, kernel_size=3, padding=1)\n",
    "        self.pool = nn.MaxPool2d(2, 2)\n",
    "\n",
    "        self.fc1 = nn.Linear(256 * 4 * 5, 128)\n",
    "        self.fc2 = nn.Linear(128, num_classes)\n",
    "\n",
    "    def forward(self, x):\n",
    "        x = self.pool(F.relu(self.conv1(x)))  # -> (16, 64, 94)\n",
    "        x = self.pool(F.relu(self.conv2(x)))  # -> (32, 32, 47)\n",
    "        x = self.pool(F.relu(self.conv3(x)))  # -> (64, 16, 23)\n",
    "        x = self.pool(F.relu(self.conv4(x)))  # -> (128, 8, 11)\n",
    "        x = self.pool(F.relu(self.conv5(x)))  # -> (256, 4, 5)\n",
    "        x = x.view(x.size(0), -1)             # flatten\n",
    "        x = F.relu(self.fc1(x))\n",
    "        x = self.fc2(x)\n",
    "        return x"
   ]
  },
  {
   "cell_type": "code",
   "execution_count": null,
   "id": "3df6f636",
   "metadata": {},
   "outputs": [],
   "source": []
  },
  {
   "cell_type": "code",
   "execution_count": 32,
   "id": "cd891bde",
   "metadata": {},
   "outputs": [],
   "source": [
    "def load_all_recs_from_file(f, features=\"classic\", reset=False, target=\"water\"):\n",
    "    save_str = str(f) + (\"_\" + features if features != \"classic\" else \"\") + \"_\" + target\n",
    "    if not reset:\n",
    "        with shelve.open(\"shelves/saved_features\") as shf:\n",
    "            \n",
    "            Xs, ys = shf.get(save_str, (None, None))\n",
    "        \n",
    "        if Xs is not None and not reset:\n",
    "            return Xs, ys\n",
    "\n",
    "    print(\"calculating, load_all_recs_from_file, target:\", target)\n",
    "    Xs = []\n",
    "    ys = []\n",
    "    for key in tqdm(f.keys()):\n",
    "        water_df = new_annot_df[(new_annot_df.video_id == key) & (new_annot_df[\"class\"]==target)]\n",
    "        if features == \"classic\":\n",
    "            X, y = extract_audio_features_sliding_window(np.array(f[key]), labels_df=water_df)\n",
    "        elif features == \"raw\":\n",
    "            X, y = extract_raw_data_sliding_window(np.array(f[key]), labels_df=water_df)\n",
    "        elif features == \"logmel\":\n",
    "            X, y = extract_log_mel_spectrogram_sliding_window(np.array(f[key]), labels_df=water_df)\n",
    "        Xs.append(X)\n",
    "        ys.append(y)\n",
    "    Xs = np.concatenate(Xs)\n",
    "    ys = np.concatenate(ys)\n",
    "    with shelve.open(\"shelves/saved_features\") as shf:\n",
    "        shf[save_str] = (Xs, ys)\n",
    "    return Xs, ys"
   ]
  },
  {
   "cell_type": "code",
   "execution_count": 33,
   "id": "507d4fc0",
   "metadata": {},
   "outputs": [],
   "source": [
    "def load_files(files, concat=True, features=\"classic\", reset=False, target=\"water\"):\n",
    "    X_all, y_all = [], []\n",
    "    for file in tqdm(files):\n",
    "        Xs, ys = load_all_recs_from_file(file, features=features, reset=reset, target=target)\n",
    "        X_all.append(Xs)\n",
    "        y_all.append(ys)\n",
    "    if concat:\n",
    "        return np.concatenate(X_all), np.concatenate(y_all)\n",
    "    else:\n",
    "        return X_all, y_all"
   ]
  },
  {
   "cell_type": "code",
   "execution_count": 83,
   "id": "831e6201",
   "metadata": {
    "scrolled": true
   },
   "outputs": [
    {
     "data": {
      "application/vnd.jupyter.widget-view+json": {
       "model_id": "ff53b17d882a4c4da3e2f9e66cfda8e8",
       "version_major": 2,
       "version_minor": 0
      },
      "text/plain": [
       "  0%|          | 0/9 [00:00<?, ?it/s]"
      ]
     },
     "metadata": {},
     "output_type": "display_data"
    }
   ],
   "source": [
    "X_all, y_all = load_files(all_files, target=\"water\", reset=False)"
   ]
  },
  {
   "cell_type": "code",
   "execution_count": 84,
   "id": "0f28bc63-b5a1-4fb9-b326-fa77720d0834",
   "metadata": {
    "scrolled": true
   },
   "outputs": [
    {
     "data": {
      "application/vnd.jupyter.widget-view+json": {
       "model_id": "5ac79ac75c6748c0be2093a4f1255322",
       "version_major": 2,
       "version_minor": 0
      },
      "text/plain": [
       "  0%|          | 0/9 [00:00<?, ?it/s]"
      ]
     },
     "metadata": {},
     "output_type": "display_data"
    }
   ],
   "source": [
    "X_all_tap, y_all_tap = load_files(all_files, target=\"tap water\", reset=False)"
   ]
  },
  {
   "cell_type": "code",
   "execution_count": 85,
   "id": "a30d621a",
   "metadata": {},
   "outputs": [
    {
     "data": {
      "application/vnd.jupyter.widget-view+json": {
       "model_id": "411bdbd9b280437cba27ddb76696c0ad",
       "version_major": 2,
       "version_minor": 0
      },
      "text/plain": [
       "  0%|          | 0/9 [00:00<?, ?it/s]"
      ]
     },
     "metadata": {},
     "output_type": "display_data"
    },
    {
     "data": {
      "application/vnd.jupyter.widget-view+json": {
       "model_id": "1db8e42e05bd44f88dcce8e5feaa358b",
       "version_major": 2,
       "version_minor": 0
      },
      "text/plain": [
       "  0%|          | 0/9 [00:00<?, ?it/s]"
      ]
     },
     "metadata": {},
     "output_type": "display_data"
    }
   ],
   "source": [
    "X_all_lo, y_all_lo = load_files(all_files, False, reset=False)\n",
    "X_all_tap_lo, y_all_tap_lo = load_files(all_files, False, reset=False, target=\"tap water\")"
   ]
  },
  {
   "cell_type": "code",
   "execution_count": 86,
   "id": "0388b8fe-2be5-4cdc-9b77-7515e6f0c8a8",
   "metadata": {},
   "outputs": [
    {
     "data": {
      "application/vnd.jupyter.widget-view+json": {
       "model_id": "471edeb72db541b1ad7b9f7ff727e992",
       "version_major": 2,
       "version_minor": 0
      },
      "text/plain": [
       "  0%|          | 0/10 [00:00<?, ?it/s]"
      ]
     },
     "metadata": {},
     "output_type": "display_data"
    },
    {
     "name": "stdout",
     "output_type": "stream",
     "text": [
      "0: water - F1: 0.6697572947913827\n",
      "0: tap water - F1: 0.7407407407407408\n",
      "1: water - F1: 0.6756090884204763\n",
      "1: tap water - F1: 0.7391127391127391\n",
      "2: water - F1: 0.6797599563557011\n",
      "2: tap water - F1: 0.7472712006717044\n",
      "3: water - F1: 0.6786803437759912\n",
      "3: tap water - F1: 0.7393126571668064\n",
      "4: water - F1: 0.6814109742441209\n",
      "4: tap water - F1: 0.7418244406196213\n",
      "5: water - F1: 0.6722314969393434\n",
      "5: tap water - F1: 0.7371090448013525\n",
      "6: water - F1: 0.6790568654646325\n",
      "6: tap water - F1: 0.7246252676659528\n",
      "7: water - F1: 0.68060522696011\n",
      "7: tap water - F1: 0.7264957264957265\n",
      "8: water - F1: 0.6781326781326782\n",
      "8: tap water - F1: 0.7316444826105626\n",
      "9: water - F1: 0.6674069961132705\n",
      "9: tap water - F1: 0.7621824239900041\n"
     ]
    }
   ],
   "source": [
    "try:\n",
    "    with shelve.open(\"shelves/ml_res\") as shf:\n",
    "        res_df = shf[\"res_df\"]\n",
    "    raise Exception()\n",
    "except:\n",
    "    results = []\n",
    "    for k in tqdm(range(10)):\n",
    "        for X, y, target in [(X_all, y_all, \"water\"), (X_all_tap, y_all_tap, \"tap water\")]:\n",
    "            clf = RFC(n_estimators=200, class_weight=\"balanced\")\n",
    "            X_train, X_test, y_train, y_test = tts(X,y, test_size=0.3)\n",
    "            clf.fit(X_train, y_train)\n",
    "            preds = clf.predict(X_test)\n",
    "            f1 = f1_score(y_test, preds)\n",
    "            acc = accuracy_score(y_test, preds)\n",
    "            prec = precision_score(y_test, preds)\n",
    "            rec = recall_score(y_test, preds)\n",
    "            results.append({\"test_part\": \"all\", \"target\": target, \"f1\" : f1, \"acc\" : acc, \"precision\" : prec, \"recall\" : rec})\n",
    "            print(f\"{k}: {target} - F1: {f1}\")\n",
    "    \n",
    "    res_df = pd.DataFrame(results)\n",
    "    with shelve.open(\"shelves/ml_res\") as shf:\n",
    "        shf[\"res_df\"] = res_df"
   ]
  },
  {
   "cell_type": "code",
   "execution_count": 118,
   "id": "82532fe3-3fd7-441c-ad03-5939c51c723d",
   "metadata": {},
   "outputs": [],
   "source": [
    "res_df[\"classifier\"] = \"Random Forest\""
   ]
  },
  {
   "cell_type": "code",
   "execution_count": 119,
   "id": "b439192c",
   "metadata": {},
   "outputs": [
    {
     "data": {
      "text/html": [
       "<div>\n",
       "<style scoped>\n",
       "    .dataframe tbody tr th:only-of-type {\n",
       "        vertical-align: middle;\n",
       "    }\n",
       "\n",
       "    .dataframe tbody tr th {\n",
       "        vertical-align: top;\n",
       "    }\n",
       "\n",
       "    .dataframe thead th {\n",
       "        text-align: right;\n",
       "    }\n",
       "</style>\n",
       "<table border=\"1\" class=\"dataframe\">\n",
       "  <thead>\n",
       "    <tr style=\"text-align: right;\">\n",
       "      <th></th>\n",
       "      <th>f1</th>\n",
       "      <th>acc</th>\n",
       "      <th>precision</th>\n",
       "      <th>recall</th>\n",
       "    </tr>\n",
       "    <tr>\n",
       "      <th>target</th>\n",
       "      <th></th>\n",
       "      <th></th>\n",
       "      <th></th>\n",
       "      <th></th>\n",
       "    </tr>\n",
       "  </thead>\n",
       "  <tbody>\n",
       "    <tr>\n",
       "      <th>tap water</th>\n",
       "      <td>0.739032</td>\n",
       "      <td>0.972229</td>\n",
       "      <td>0.921162</td>\n",
       "      <td>0.617109</td>\n",
       "    </tr>\n",
       "    <tr>\n",
       "      <th>water</th>\n",
       "      <td>0.676265</td>\n",
       "      <td>0.947321</td>\n",
       "      <td>0.920514</td>\n",
       "      <td>0.534498</td>\n",
       "    </tr>\n",
       "  </tbody>\n",
       "</table>\n",
       "</div>"
      ],
      "text/plain": [
       "                 f1       acc  precision    recall\n",
       "target                                            \n",
       "tap water  0.739032  0.972229   0.921162  0.617109\n",
       "water      0.676265  0.947321   0.920514  0.534498"
      ]
     },
     "execution_count": 119,
     "metadata": {},
     "output_type": "execute_result"
    }
   ],
   "source": [
    "res_df.groupby(\"target\").mean(numeric_only=True)"
   ]
  },
  {
   "cell_type": "code",
   "execution_count": 120,
   "id": "3c9511b2",
   "metadata": {
    "scrolled": true
   },
   "outputs": [],
   "source": [
    "try:\n",
    "    with shelve.open(\"shelves/ml_res\") as shf:\n",
    "        res_df_lo = shf[\"res_df_lo\"]\n",
    "except:\n",
    "    results_lo = []\n",
    "    for k in range(10):\n",
    "        for Xs_lo, ys_lo, target in [(X_all_lo, y_all_lo, \"water\"), (X_all_tap_lo, y_all_tap_lo, \"tap water\")]:\n",
    "            cv = LOSO()\n",
    "            for train_ind, test_ind in tqdm(cv.split(Xs_lo), total=9):\n",
    "                X_train = np.concatenate(np.array(Xs_lo, dtype=object)[train_ind])\n",
    "                y_train = np.concatenate(np.array(ys_lo, dtype=object)[train_ind])\n",
    "                \n",
    "                X_test = np.concatenate(np.array(Xs_lo, dtype=object)[test_ind])\n",
    "                y_test = np.concatenate(np.array(ys_lo, dtype=object)[test_ind])\n",
    "                clf = RFC(n_estimators=200, class_weight=\"balanced\")\n",
    "                clf.fit(X_train, y_train)\n",
    "                preds = clf.predict(X_test)\n",
    "                print(\"testing rf on\", test_ind, f1_score(y_test, preds))\n",
    "                f1 = f1_score(y_test, preds)\n",
    "                acc = accuracy_score(y_test, preds)\n",
    "                prec = precision_score(y_test, preds)\n",
    "                rec = recall_score(y_test, preds)\n",
    "                results_lo.append({\"test_part\": str(test_ind[0]), \"target\": target, \"f1\" : f1, \"acc\" : acc, \"precision\" : prec, \"recall\" : rec})\n",
    "    \n",
    "    res_df_lo = pd.DataFrame(results_lo)\n",
    "    with shelve.open(\"shelves/ml_res\") as shf:\n",
    "        shf[\"res_df_lo\"] = res_df_lo"
   ]
  },
  {
   "cell_type": "code",
   "execution_count": 121,
   "id": "35bce06f-c547-4040-81aa-e97ac8f314e8",
   "metadata": {},
   "outputs": [
    {
     "data": {
      "text/html": [
       "<div>\n",
       "<style scoped>\n",
       "    .dataframe tbody tr th:only-of-type {\n",
       "        vertical-align: middle;\n",
       "    }\n",
       "\n",
       "    .dataframe tbody tr th {\n",
       "        vertical-align: top;\n",
       "    }\n",
       "\n",
       "    .dataframe thead th {\n",
       "        text-align: right;\n",
       "    }\n",
       "</style>\n",
       "<table border=\"1\" class=\"dataframe\">\n",
       "  <thead>\n",
       "    <tr style=\"text-align: right;\">\n",
       "      <th></th>\n",
       "      <th>f1</th>\n",
       "      <th>acc</th>\n",
       "      <th>precision</th>\n",
       "      <th>recall</th>\n",
       "    </tr>\n",
       "    <tr>\n",
       "      <th>target</th>\n",
       "      <th></th>\n",
       "      <th></th>\n",
       "      <th></th>\n",
       "      <th></th>\n",
       "    </tr>\n",
       "  </thead>\n",
       "  <tbody>\n",
       "    <tr>\n",
       "      <th>tap water</th>\n",
       "      <td>0.465995</td>\n",
       "      <td>0.954005</td>\n",
       "      <td>0.757845</td>\n",
       "      <td>0.349648</td>\n",
       "    </tr>\n",
       "    <tr>\n",
       "      <th>water</th>\n",
       "      <td>0.445968</td>\n",
       "      <td>0.924042</td>\n",
       "      <td>0.774902</td>\n",
       "      <td>0.333816</td>\n",
       "    </tr>\n",
       "  </tbody>\n",
       "</table>\n",
       "</div>"
      ],
      "text/plain": [
       "                 f1       acc  precision    recall\n",
       "target                                            \n",
       "tap water  0.465995  0.954005   0.757845  0.349648\n",
       "water      0.445968  0.924042   0.774902  0.333816"
      ]
     },
     "execution_count": 121,
     "metadata": {},
     "output_type": "execute_result"
    }
   ],
   "source": [
    "res_df_lo.groupby(\"target\").mean(numeric_only=True)"
   ]
  },
  {
   "cell_type": "code",
   "execution_count": 122,
   "id": "4fc0aa8f-c075-495b-977e-a9bfd0c4a975",
   "metadata": {},
   "outputs": [],
   "source": [
    "from sklearn.dummy import DummyClassifier as DCF"
   ]
  },
  {
   "cell_type": "code",
   "execution_count": 123,
   "id": "fbbe2491",
   "metadata": {},
   "outputs": [],
   "source": [
    "## calculate chance level:\n",
    "def chance_level(y_train,y_test):\n",
    "    dummy_res = []\n",
    "    # find the best performing dummy classifier\n",
    "    for strategy in [\"most_frequent\", \"prior\", \"stratified\", \"uniform\"]:\n",
    "        dcf = DCF(strategy=strategy)\n",
    "        dcf.fit(y_train, y_train)\n",
    "        preds = dcf.predict(y_test)\n",
    "        f1 = f1_score(y_test, preds)\n",
    "        acc = accuracy_score(y_test, preds)\n",
    "        prec = precision_score(y_test, preds)\n",
    "        rec = recall_score(y_test, preds)\n",
    "        dummy_res.append({\"strategy\": strategy, \"f1\" : f1, \"acc\" : acc, \"precision\" : prec, \"recall\" : rec})\n",
    "    return pd.DataFrame(dummy_res)"
   ]
  },
  {
   "cell_type": "code",
   "execution_count": null,
   "id": "97f1f517-f8ae-431e-a5d7-b31f578bebef",
   "metadata": {
    "scrolled": true
   },
   "outputs": [],
   "source": [
    "import warnings\n",
    "warnings.filterwarnings(\"ignore\")\n",
    "dfs = []\n",
    "for Xs_lo, ys_lo, target in [(X_all_lo, y_all_lo, \"water\"), (X_all_tap_lo, y_all_tap_lo, \"tap water\")]:\n",
    "    cv = LOSO()\n",
    "    for train_ind, test_ind in tqdm(cv.split(Xs_lo), total=9):\n",
    "        X_train = np.concatenate(np.array(Xs_lo, dtype=object)[train_ind])\n",
    "        y_train = np.concatenate(np.array(ys_lo, dtype=object)[train_ind])\n",
    "        \n",
    "        X_test = np.concatenate(np.array(Xs_lo, dtype=object)[test_ind])\n",
    "        y_test = np.concatenate(np.array(ys_lo, dtype=object)[test_ind])\n",
    "\n",
    "        chance_df = chance_level(y_train, y_test)\n",
    "        chance_df[\"target\"] = target\n",
    "        chance_df[\"test_part\"] = test_ind[0]\n",
    "        dfs.append(chance_df)\n",
    "all_chance_df = pd.concat(dfs)\n",
    "        "
   ]
  },
  {
   "cell_type": "code",
   "execution_count": 92,
   "id": "f50e3d63-0ea3-4861-a0cc-ca35c7faee7f",
   "metadata": {},
   "outputs": [],
   "source": [
    "all_chance_df[\"classifier\"] = \"Baseline\""
   ]
  },
  {
   "cell_type": "code",
   "execution_count": null,
   "id": "8a77803f-5a07-426f-bc83-b984882ab4fe",
   "metadata": {},
   "outputs": [],
   "source": []
  },
  {
   "cell_type": "code",
   "execution_count": 93,
   "id": "ce4c6d30-6672-46fd-9fd7-d64b5302824d",
   "metadata": {},
   "outputs": [],
   "source": [
    "res_df_lo.test_part = np.array(res_df_lo.test_part, dtype=int)"
   ]
  },
  {
   "cell_type": "code",
   "execution_count": 94,
   "id": "13daaa3a-c171-4e3f-a720-34342197c266",
   "metadata": {
    "scrolled": true
   },
   "outputs": [],
   "source": [
    "chnc_res = []\n",
    "for X, y, target in [(X_all, y_all, \"water\"), (X_all_tap, y_all_tap, \"tap water\")]:\n",
    "    X_train, X_test, y_train, y_test = tts(X,y, test_size=0.3)\n",
    "    chance_df = chance_level(y_train, y_test)\n",
    "    chance_df[\"target\"] = target\n",
    "    chnc_res.append(chance_df)\n",
    "chnc_df = pd.concat(chnc_res)"
   ]
  },
  {
   "cell_type": "code",
   "execution_count": 95,
   "id": "2419c670",
   "metadata": {},
   "outputs": [
    {
     "data": {
      "text/html": [
       "<div>\n",
       "<style scoped>\n",
       "    .dataframe tbody tr th:only-of-type {\n",
       "        vertical-align: middle;\n",
       "    }\n",
       "\n",
       "    .dataframe tbody tr th {\n",
       "        vertical-align: top;\n",
       "    }\n",
       "\n",
       "    .dataframe thead th {\n",
       "        text-align: right;\n",
       "    }\n",
       "</style>\n",
       "<table border=\"1\" class=\"dataframe\">\n",
       "  <thead>\n",
       "    <tr style=\"text-align: right;\">\n",
       "      <th></th>\n",
       "      <th>test_part</th>\n",
       "      <th>f1</th>\n",
       "      <th>acc</th>\n",
       "      <th>precision</th>\n",
       "      <th>recall</th>\n",
       "    </tr>\n",
       "    <tr>\n",
       "      <th>target</th>\n",
       "      <th></th>\n",
       "      <th></th>\n",
       "      <th></th>\n",
       "      <th></th>\n",
       "      <th></th>\n",
       "    </tr>\n",
       "  </thead>\n",
       "  <tbody>\n",
       "    <tr>\n",
       "      <th>tap water</th>\n",
       "      <td>4.0</td>\n",
       "      <td>0.465995</td>\n",
       "      <td>0.954005</td>\n",
       "      <td>0.757845</td>\n",
       "      <td>0.349648</td>\n",
       "    </tr>\n",
       "    <tr>\n",
       "      <th>water</th>\n",
       "      <td>4.0</td>\n",
       "      <td>0.445968</td>\n",
       "      <td>0.924042</td>\n",
       "      <td>0.774902</td>\n",
       "      <td>0.333816</td>\n",
       "    </tr>\n",
       "  </tbody>\n",
       "</table>\n",
       "</div>"
      ],
      "text/plain": [
       "           test_part        f1       acc  precision    recall\n",
       "target                                                       \n",
       "tap water        4.0  0.465995  0.954005   0.757845  0.349648\n",
       "water            4.0  0.445968  0.924042   0.774902  0.333816"
      ]
     },
     "execution_count": 95,
     "metadata": {},
     "output_type": "execute_result"
    }
   ],
   "source": [
    "res_df_lo.groupby(\"target\").mean()"
   ]
  },
  {
   "cell_type": "code",
   "execution_count": 96,
   "id": "7ad6034b",
   "metadata": {},
   "outputs": [
    {
     "data": {
      "text/plain": [
       "262"
      ]
     },
     "execution_count": 96,
     "metadata": {},
     "output_type": "execute_result"
    }
   ],
   "source": [
    "del X_all_lo\n",
    "del y_all_lo\n",
    "del X_all_tap_lo\n",
    "del y_all_tap_lo\n",
    "\n",
    "import gc\n",
    "gc.collect()"
   ]
  },
  {
   "cell_type": "code",
   "execution_count": null,
   "id": "ed381917",
   "metadata": {},
   "outputs": [],
   "source": []
  },
  {
   "cell_type": "code",
   "execution_count": 97,
   "id": "f663da2c",
   "metadata": {},
   "outputs": [
    {
     "data": {
      "text/plain": [
       "0.06515301085883514"
      ]
     },
     "execution_count": 97,
     "metadata": {},
     "output_type": "execute_result"
    }
   ],
   "source": [
    "y_test.mean()"
   ]
  },
  {
   "cell_type": "code",
   "execution_count": 98,
   "id": "d6abe2db",
   "metadata": {},
   "outputs": [
    {
     "data": {
      "text/plain": [
       "0.06402046193196023"
      ]
     },
     "execution_count": 98,
     "metadata": {},
     "output_type": "execute_result"
    }
   ],
   "source": [
    "y_train.mean()"
   ]
  },
  {
   "cell_type": "code",
   "execution_count": null,
   "id": "78490d99",
   "metadata": {},
   "outputs": [],
   "source": []
  },
  {
   "cell_type": "code",
   "execution_count": null,
   "id": "9df1b488-931a-4942-ad49-d1b4f5a21c43",
   "metadata": {},
   "outputs": [],
   "source": []
  },
  {
   "cell_type": "markdown",
   "id": "c7369b55-0fb0-4218-8005-4c7a245ddf86",
   "metadata": {},
   "source": [
    "### CNN Training:"
   ]
  },
  {
   "cell_type": "code",
   "execution_count": 99,
   "id": "be88f57c-27cd-4984-b14c-af1459f93af5",
   "metadata": {},
   "outputs": [],
   "source": [
    "def evaluate(model, val_loader, device, do_print=True):\n",
    "    model.eval()\n",
    "    all_preds = []\n",
    "    all_labels = []\n",
    "\n",
    "    with torch.no_grad():\n",
    "        for inputs, labels in val_loader:\n",
    "            inputs = inputs.to(device)\n",
    "            outputs = model(inputs)\n",
    "            _, predicted = torch.max(outputs, 1)\n",
    "\n",
    "            all_preds.extend(predicted.cpu().numpy())\n",
    "            all_labels.extend(labels.numpy())\n",
    "\n",
    "    f1 = f1_score(all_labels, all_preds)\n",
    "    acc = accuracy_score(all_labels, all_preds)\n",
    "    precision = precision_score(all_labels, all_preds, zero_division=0)\n",
    "    recall = recall_score(all_labels, all_preds, zero_division=0)\n",
    "\n",
    "    if do_print:\n",
    "        print(f\"\\nValidation Results:\")\n",
    "        print(f\"  Accuracy:  {acc:.4f}\")\n",
    "        print(f\"  F1 Score:  {f1:.4f}\")\n",
    "        print(f\"  Precision: {precision:.4f}\")\n",
    "        print(f\"  Recall:    {recall:.4f}\\n\")\n",
    "\n",
    "    return acc, f1, precision, recall, all_preds, all_labels\n"
   ]
  },
  {
   "cell_type": "code",
   "execution_count": 106,
   "id": "8d56cca9-8099-42fc-90a4-14d2dd010ab8",
   "metadata": {},
   "outputs": [
    {
     "data": {
      "application/vnd.jupyter.widget-view+json": {
       "model_id": "8e9ac32fb53d4cc0ba00cd8c66a8094d",
       "version_major": 2,
       "version_minor": 0
      },
      "text/plain": [
       "  0%|          | 0/9 [00:00<?, ?it/s]"
      ]
     },
     "metadata": {},
     "output_type": "display_data"
    }
   ],
   "source": [
    "X_all_mel, y_all_mel = load_files(all_files, target=\"water\", reset=False, features=\"logmel\")"
   ]
  },
  {
   "cell_type": "code",
   "execution_count": 107,
   "id": "2e0211c6-2e90-417c-a478-c5b50175bc02",
   "metadata": {},
   "outputs": [
    {
     "data": {
      "text/plain": [
       "857"
      ]
     },
     "execution_count": 107,
     "metadata": {},
     "output_type": "execute_result"
    }
   ],
   "source": [
    "import gc\n",
    "gc.collect()"
   ]
  },
  {
   "cell_type": "code",
   "execution_count": 108,
   "id": "828cd962-1fe5-4870-8b60-f0311dbf17ee",
   "metadata": {},
   "outputs": [],
   "source": [
    "es_steps = 25"
   ]
  },
  {
   "cell_type": "code",
   "execution_count": 109,
   "id": "04bb637e-2abe-4e82-938d-d010050f3ac2",
   "metadata": {
    "scrolled": true
   },
   "outputs": [
    {
     "name": "stdout",
     "output_type": "stream",
     "text": [
      "Using device: cuda\n"
     ]
    },
    {
     "data": {
      "application/vnd.jupyter.widget-view+json": {
       "model_id": "47bb1680410b47608d649fbf061f74d9",
       "version_major": 2,
       "version_minor": 0
      },
      "text/plain": [
       "  0%|          | 0/300 [00:00<?, ?it/s]"
      ]
     },
     "metadata": {},
     "output_type": "display_data"
    },
    {
     "name": "stdout",
     "output_type": "stream",
     "text": [
      "Epoch 1/300 | Loss: 0.6515 | Accuracy: 69.42% | Val ACC: 76.38| Val F1: 36.00 | Steps: 0\n",
      "Epoch 2/300 | Loss: 0.5590 | Accuracy: 76.46% | Val ACC: 86.83| Val F1: 43.54 | Steps: 0\n",
      "Epoch 3/300 | Loss: 0.5303 | Accuracy: 79.41% | Val ACC: 82.53| Val F1: 42.56 | Steps: 1\n",
      "Epoch 4/300 | Loss: 0.5107 | Accuracy: 80.66% | Val ACC: 83.65| Val F1: 43.76 | Steps: 0\n",
      "Epoch 5/300 | Loss: 0.4975 | Accuracy: 80.24% | Val ACC: 88.81| Val F1: 48.74 | Steps: 0\n",
      "Epoch 6/300 | Loss: 0.4771 | Accuracy: 81.70% | Val ACC: 84.97| Val F1: 46.29 | Steps: 1\n",
      "Epoch 7/300 | Loss: 0.4529 | Accuracy: 82.81% | Val ACC: 86.18| Val F1: 50.73 | Steps: 0\n",
      "Epoch 8/300 | Loss: 0.4288 | Accuracy: 84.11% | Val ACC: 88.47| Val F1: 54.30 | Steps: 0\n",
      "Epoch 9/300 | Loss: 0.4719 | Accuracy: 80.47% | Val ACC: 84.32| Val F1: 46.76 | Steps: 1\n",
      "Epoch 10/300 | Loss: 0.3964 | Accuracy: 85.35% | Val ACC: 85.42| Val F1: 52.25 | Steps: 2\n",
      "Epoch 11/300 | Loss: 0.3533 | Accuracy: 87.52% | Val ACC: 86.36| Val F1: 53.74 | Steps: 3\n",
      "Epoch 12/300 | Loss: 0.3274 | Accuracy: 88.21% | Val ACC: 86.68| Val F1: 56.40 | Steps: 0\n",
      "Epoch 13/300 | Loss: 0.3185 | Accuracy: 88.59% | Val ACC: 87.60| Val F1: 57.49 | Steps: 0\n",
      "Epoch 14/300 | Loss: 0.3004 | Accuracy: 89.29% | Val ACC: 85.19| Val F1: 54.79 | Steps: 1\n",
      "Epoch 15/300 | Loss: 0.2759 | Accuracy: 90.16% | Val ACC: 84.03| Val F1: 52.87 | Steps: 2\n",
      "Epoch 16/300 | Loss: 0.2557 | Accuracy: 90.98% | Val ACC: 91.26| Val F1: 65.52 | Steps: 0\n",
      "Epoch 17/300 | Loss: 0.2453 | Accuracy: 91.12% | Val ACC: 91.90| Val F1: 66.98 | Steps: 0\n",
      "Epoch 18/300 | Loss: 0.2243 | Accuracy: 91.47% | Val ACC: 91.65| Val F1: 66.46 | Steps: 1\n",
      "Epoch 19/300 | Loss: 0.2138 | Accuracy: 91.71% | Val ACC: 91.85| Val F1: 66.21 | Steps: 2\n",
      "Epoch 20/300 | Loss: 0.2045 | Accuracy: 92.04% | Val ACC: 91.13| Val F1: 65.23 | Steps: 3\n",
      "Epoch 21/300 | Loss: 0.1830 | Accuracy: 92.88% | Val ACC: 89.15| Val F1: 61.44 | Steps: 4\n",
      "Epoch 22/300 | Loss: 0.1804 | Accuracy: 93.04% | Val ACC: 91.14| Val F1: 65.19 | Steps: 5\n",
      "Epoch 23/300 | Loss: 0.1649 | Accuracy: 93.33% | Val ACC: 92.88| Val F1: 69.35 | Steps: 0\n",
      "Epoch 24/300 | Loss: 0.1428 | Accuracy: 94.17% | Val ACC: 92.55| Val F1: 67.27 | Steps: 1\n",
      "Epoch 25/300 | Loss: 0.1246 | Accuracy: 94.77% | Val ACC: 93.90| Val F1: 70.69 | Steps: 0\n",
      "Epoch 26/300 | Loss: 0.1336 | Accuracy: 94.38% | Val ACC: 91.33| Val F1: 65.12 | Steps: 1\n",
      "Epoch 27/300 | Loss: 0.1201 | Accuracy: 94.98% | Val ACC: 91.59| Val F1: 65.25 | Steps: 2\n",
      "Epoch 28/300 | Loss: 0.1108 | Accuracy: 95.39% | Val ACC: 91.71| Val F1: 65.89 | Steps: 3\n",
      "Epoch 29/300 | Loss: 0.1002 | Accuracy: 95.85% | Val ACC: 93.14| Val F1: 69.89 | Steps: 4\n",
      "Epoch 30/300 | Loss: 0.1099 | Accuracy: 95.43% | Val ACC: 89.49| Val F1: 61.54 | Steps: 5\n",
      "Epoch 31/300 | Loss: 0.0960 | Accuracy: 95.90% | Val ACC: 90.29| Val F1: 63.52 | Steps: 6\n",
      "Epoch 32/300 | Loss: 0.0709 | Accuracy: 97.04% | Val ACC: 93.41| Val F1: 69.59 | Steps: 7\n",
      "Epoch 33/300 | Loss: 0.0925 | Accuracy: 96.17% | Val ACC: 92.79| Val F1: 67.85 | Steps: 8\n",
      "Epoch 34/300 | Loss: 0.0710 | Accuracy: 97.06% | Val ACC: 88.60| Val F1: 59.97 | Steps: 9\n",
      "Epoch 35/300 | Loss: 0.1233 | Accuracy: 95.28% | Val ACC: 92.86| Val F1: 69.41 | Steps: 10\n",
      "Epoch 36/300 | Loss: 0.0710 | Accuracy: 97.09% | Val ACC: 92.95| Val F1: 68.75 | Steps: 11\n",
      "Epoch 37/300 | Loss: 0.0604 | Accuracy: 97.57% | Val ACC: 92.62| Val F1: 67.64 | Steps: 12\n",
      "Epoch 38/300 | Loss: 0.0610 | Accuracy: 97.59% | Val ACC: 93.85| Val F1: 69.85 | Steps: 13\n",
      "Epoch 39/300 | Loss: 0.0654 | Accuracy: 97.32% | Val ACC: 91.69| Val F1: 66.39 | Steps: 14\n",
      "Epoch 40/300 | Loss: 0.0509 | Accuracy: 97.92% | Val ACC: 92.23| Val F1: 66.63 | Steps: 15\n",
      "Epoch 41/300 | Loss: 0.0762 | Accuracy: 96.95% | Val ACC: 93.36| Val F1: 69.78 | Steps: 16\n",
      "Epoch 42/300 | Loss: 0.0620 | Accuracy: 97.62% | Val ACC: 93.97| Val F1: 70.70 | Steps: 0\n",
      "Epoch 43/300 | Loss: 0.0545 | Accuracy: 97.83% | Val ACC: 94.23| Val F1: 70.47 | Steps: 1\n",
      "Epoch 44/300 | Loss: 0.0591 | Accuracy: 97.78% | Val ACC: 92.88| Val F1: 68.70 | Steps: 2\n",
      "Epoch 45/300 | Loss: 0.0679 | Accuracy: 97.52% | Val ACC: 91.09| Val F1: 63.09 | Steps: 3\n",
      "Epoch 46/300 | Loss: 0.0496 | Accuracy: 98.01% | Val ACC: 92.59| Val F1: 67.53 | Steps: 4\n",
      "Epoch 47/300 | Loss: 0.0413 | Accuracy: 98.33% | Val ACC: 93.42| Val F1: 69.55 | Steps: 5\n",
      "Epoch 48/300 | Loss: 0.0774 | Accuracy: 97.19% | Val ACC: 92.69| Val F1: 68.40 | Steps: 6\n",
      "Epoch 49/300 | Loss: 0.0415 | Accuracy: 98.36% | Val ACC: 94.17| Val F1: 70.81 | Steps: 0\n",
      "Epoch 50/300 | Loss: 0.0503 | Accuracy: 98.14% | Val ACC: 94.32| Val F1: 71.22 | Steps: 0\n",
      "Epoch 51/300 | Loss: 0.3034 | Accuracy: 89.01% | Val ACC: 86.55| Val F1: 54.53 | Steps: 1\n",
      "Epoch 52/300 | Loss: 0.1828 | Accuracy: 93.28% | Val ACC: 90.55| Val F1: 63.96 | Steps: 2\n",
      "Epoch 53/300 | Loss: 0.0722 | Accuracy: 97.20% | Val ACC: 92.08| Val F1: 67.54 | Steps: 3\n",
      "Epoch 54/300 | Loss: 0.0399 | Accuracy: 98.36% | Val ACC: 93.71| Val F1: 71.34 | Steps: 0\n",
      "Epoch 55/300 | Loss: 0.0454 | Accuracy: 98.26% | Val ACC: 90.32| Val F1: 62.97 | Steps: 1\n",
      "Epoch 56/300 | Loss: 0.0442 | Accuracy: 98.24% | Val ACC: 93.71| Val F1: 69.90 | Steps: 2\n",
      "Epoch 57/300 | Loss: 0.0567 | Accuracy: 97.86% | Val ACC: 91.91| Val F1: 64.37 | Steps: 3\n",
      "Epoch 58/300 | Loss: 0.0509 | Accuracy: 98.05% | Val ACC: 93.73| Val F1: 69.80 | Steps: 4\n",
      "Epoch 59/300 | Loss: 0.0382 | Accuracy: 98.59% | Val ACC: 90.95| Val F1: 64.27 | Steps: 5\n",
      "Epoch 60/300 | Loss: 0.0760 | Accuracy: 97.54% | Val ACC: 92.81| Val F1: 66.98 | Steps: 6\n",
      "Epoch 61/300 | Loss: 0.0796 | Accuracy: 97.19% | Val ACC: 94.13| Val F1: 71.34 | Steps: 0\n",
      "Epoch 62/300 | Loss: 0.0321 | Accuracy: 98.81% | Val ACC: 93.54| Val F1: 70.11 | Steps: 1\n",
      "Epoch 63/300 | Loss: 0.0346 | Accuracy: 98.78% | Val ACC: 93.67| Val F1: 70.28 | Steps: 2\n",
      "Epoch 64/300 | Loss: 0.0326 | Accuracy: 98.83% | Val ACC: 92.22| Val F1: 67.49 | Steps: 3\n",
      "Epoch 65/300 | Loss: 0.0450 | Accuracy: 98.35% | Val ACC: 94.28| Val F1: 71.66 | Steps: 0\n",
      "Epoch 66/300 | Loss: 0.0316 | Accuracy: 98.81% | Val ACC: 93.92| Val F1: 70.26 | Steps: 1\n",
      "Epoch 67/300 | Loss: 0.0376 | Accuracy: 98.65% | Val ACC: 93.37| Val F1: 68.99 | Steps: 2\n",
      "Epoch 68/300 | Loss: 0.0296 | Accuracy: 98.87% | Val ACC: 93.99| Val F1: 70.92 | Steps: 3\n",
      "Epoch 69/300 | Loss: 0.0434 | Accuracy: 98.50% | Val ACC: 92.44| Val F1: 67.08 | Steps: 4\n",
      "Epoch 70/300 | Loss: 0.0451 | Accuracy: 98.23% | Val ACC: 93.77| Val F1: 70.93 | Steps: 5\n",
      "Epoch 71/300 | Loss: 0.0915 | Accuracy: 97.66% | Val ACC: 89.01| Val F1: 59.13 | Steps: 6\n",
      "Epoch 72/300 | Loss: 0.0597 | Accuracy: 97.88% | Val ACC: 93.27| Val F1: 68.88 | Steps: 7\n",
      "Epoch 73/300 | Loss: 0.0216 | Accuracy: 99.16% | Val ACC: 94.36| Val F1: 69.99 | Steps: 8\n",
      "Epoch 74/300 | Loss: 0.0584 | Accuracy: 97.93% | Val ACC: 94.22| Val F1: 71.26 | Steps: 9\n",
      "Epoch 75/300 | Loss: 0.0262 | Accuracy: 99.04% | Val ACC: 90.56| Val F1: 62.56 | Steps: 10\n",
      "Epoch 76/300 | Loss: 0.0367 | Accuracy: 98.71% | Val ACC: 94.03| Val F1: 70.95 | Steps: 11\n",
      "Epoch 77/300 | Loss: 0.0331 | Accuracy: 98.87% | Val ACC: 93.97| Val F1: 71.06 | Steps: 12\n",
      "Epoch 78/300 | Loss: 0.0465 | Accuracy: 98.48% | Val ACC: 92.00| Val F1: 66.05 | Steps: 13\n",
      "Epoch 79/300 | Loss: 0.0132 | Accuracy: 99.51% | Val ACC: 94.36| Val F1: 71.32 | Steps: 14\n",
      "Epoch 80/300 | Loss: 0.0357 | Accuracy: 98.76% | Val ACC: 93.76| Val F1: 69.39 | Steps: 15\n",
      "Epoch 81/300 | Loss: 0.0321 | Accuracy: 98.87% | Val ACC: 93.83| Val F1: 68.42 | Steps: 16\n",
      "Epoch 82/300 | Loss: 0.0321 | Accuracy: 98.91% | Val ACC: 92.18| Val F1: 66.88 | Steps: 17\n",
      "Epoch 83/300 | Loss: 0.0488 | Accuracy: 98.52% | Val ACC: 94.01| Val F1: 69.62 | Steps: 18\n",
      "Epoch 84/300 | Loss: 0.0314 | Accuracy: 98.92% | Val ACC: 93.76| Val F1: 69.27 | Steps: 19\n",
      "Epoch 85/300 | Loss: 0.0310 | Accuracy: 99.05% | Val ACC: 92.51| Val F1: 67.12 | Steps: 20\n",
      "Epoch 86/300 | Loss: 0.0406 | Accuracy: 98.60% | Val ACC: 94.08| Val F1: 70.76 | Steps: 21\n",
      "Epoch 87/300 | Loss: 0.0310 | Accuracy: 99.03% | Val ACC: 93.58| Val F1: 69.69 | Steps: 22\n",
      "Epoch 88/300 | Loss: 0.0206 | Accuracy: 99.26% | Val ACC: 94.44| Val F1: 70.36 | Steps: 23\n",
      "Epoch 89/300 | Loss: 0.0423 | Accuracy: 98.63% | Val ACC: 94.12| Val F1: 70.82 | Steps: 24\n",
      "Epoch 90/300 | Loss: 0.0287 | Accuracy: 99.02% | Val ACC: 94.40| Val F1: 71.49 | Steps: 25\n",
      "stoping early and returning to best model with val F1 of 71.66\n"
     ]
    }
   ],
   "source": [
    "X_train, X_test, y_train, y_test = tts(X_all_mel, y_all_mel, test_size=0.3)\n",
    "del X_all_mel\n",
    "\n",
    "device = torch.device(\"cuda\" if torch.cuda.is_available() else \"CPU\")\n",
    "\n",
    "y_train_int = y_train.astype(np.int64)\n",
    "class_counts = np.bincount(y_train_int)\n",
    "class_weights = 1.0 / class_counts\n",
    "class_weights = class_weights * (len(y_train) / class_weights.sum())  # optional normalization\n",
    "class_weights = torch.tensor(class_weights, dtype=torch.float32).to(device)\n",
    "\n",
    "\n",
    "X_train, X_val, y_train, y_val = tts(X_train, y_train, test_size=0.15)\n",
    "\n",
    "# Create dataset and dataloader\n",
    "train_dataset = LogMelDataset(X_train, y_train)\n",
    "val_dataset = LogMelDataset(X_val, y_val)\n",
    "test_dataset = LogMelDataset(X_test, y_test)\n",
    "\n",
    "train_loader = DataLoader(train_dataset, batch_size=64, shuffle=True)\n",
    "test_loader = DataLoader(test_dataset, batch_size=64)\n",
    "val_loader = DataLoader(val_dataset, batch_size=64)\n",
    "\n",
    "device = torch.device(\"cuda\" if torch.cuda.is_available() else \"cpu\")\n",
    "print(\"Using device:\", device)\n",
    "\n",
    "model = CNNClassifier(num_classes=len(np.unique(y_all_mel))).to(device)\n",
    "\n",
    "criterion = nn.CrossEntropyLoss(weight=class_weights)\n",
    "optimizer = torch.optim.Adam(model.parameters(), lr=0.001)\n",
    "\n",
    "num_epochs = 300\n",
    "\n",
    "best_f1 = 0\n",
    "best_model_state = None\n",
    "steps = 0\n",
    "\n",
    "for epoch in tqdm(range(num_epochs)):\n",
    "    model.train()\n",
    "    running_loss = 0.0\n",
    "    correct = 0\n",
    "    total = 0\n",
    "\n",
    "    for inputs, labels in train_loader:\n",
    "        inputs, labels = inputs.to(device), labels.to(device)\n",
    "\n",
    "        optimizer.zero_grad()\n",
    "        outputs = model(inputs)\n",
    "        loss = criterion(outputs, labels)\n",
    "        loss.backward()\n",
    "        optimizer.step()\n",
    "\n",
    "        running_loss += loss.item() * inputs.size(0)\n",
    "        _, predicted = torch.max(outputs.data, 1)\n",
    "        total += labels.size(0)\n",
    "        correct += (predicted == labels).sum().item()\n",
    "\n",
    "    train_acc = 100 * correct / total\n",
    "    train_loss = running_loss / total\n",
    "\n",
    "    ## early stopping and validation loss:\n",
    "    acc, f1, precision, recall, _, _ = evaluate(model, val_loader, device, False)\n",
    "    if f1 > best_f1:\n",
    "        best_f1 = f1\n",
    "        best_model_state = model.state_dict()  # reference to current weights\n",
    "        # Clone the weights so they don’t get overwritten\n",
    "        best_model_state = {k: v.clone() for k, v in best_model_state.items()}\n",
    "        steps = 0\n",
    "    elif steps >= es_steps:\n",
    "        model.load_state_dict(best_model_state)\n",
    "        print(f\"stoping early and returning to best model with val F1 of {best_f1 * 100:.2f}\")\n",
    "        break\n",
    "    else: \n",
    "        steps += 1\n",
    "\n",
    "    print(f\"Epoch {epoch+1}/{num_epochs} | Loss: {train_loss:.4f} | Accuracy: {train_acc:.2f}% | Val ACC: {acc*100:.2f}| Val F1: {f1*100:.2f} | Steps: {steps}\")"
   ]
  },
  {
   "cell_type": "code",
   "execution_count": null,
   "id": "036481fe-9dec-4b2a-812f-d94ae49782b9",
   "metadata": {},
   "outputs": [],
   "source": [
    "del X_train, y_train, train_dataset, train_loader\n",
    "del X_val, y_val \n",
    "gc.collect()"
   ]
  },
  {
   "cell_type": "code",
   "execution_count": 125,
   "id": "83ead811-209f-43fb-a211-8c8f47883903",
   "metadata": {},
   "outputs": [
    {
     "name": "stdout",
     "output_type": "stream",
     "text": [
      "\n",
      "Validation Results:\n",
      "  Accuracy:  0.9406\n",
      "  F1 Score:  0.7084\n",
      "  Precision: 0.7296\n",
      "  Recall:    0.6884\n",
      "\n"
     ]
    }
   ],
   "source": [
    "acc, f1, precision, recall, all_preds, all_labels = evaluate(model, test_loader, device)\n",
    "res_df.loc[len(res_df)] = [\"all\", \"water\", f1, acc, precision, recall, \"CNN\"]  # this should be based on the values, we took them from the printed ones"
   ]
  },
  {
   "cell_type": "code",
   "execution_count": 126,
   "id": "a3aabee5-ede9-49f4-9143-79a3fe7a42dd",
   "metadata": {},
   "outputs": [],
   "source": [
    "del y_all_mel"
   ]
  },
  {
   "cell_type": "code",
   "execution_count": 127,
   "id": "b1f40235-1596-420d-8dc9-0c9bdbd4dc97",
   "metadata": {},
   "outputs": [
    {
     "data": {
      "application/vnd.jupyter.widget-view+json": {
       "model_id": "188531c5fdbf4ee996450efb21ad8ce2",
       "version_major": 2,
       "version_minor": 0
      },
      "text/plain": [
       "  0%|          | 0/9 [00:00<?, ?it/s]"
      ]
     },
     "metadata": {},
     "output_type": "display_data"
    }
   ],
   "source": [
    "X_all_tap_mel, y_all_tap_mel = load_files(all_files, target=\"tap water\", reset=False, features=\"logmel\")"
   ]
  },
  {
   "cell_type": "code",
   "execution_count": 128,
   "id": "c38242c1-3959-43ef-9f7f-03c93c001242",
   "metadata": {},
   "outputs": [],
   "source": [
    "device = torch.device(\"cuda\" if torch.cuda.is_available() else \"cpu\")"
   ]
  },
  {
   "cell_type": "code",
   "execution_count": 129,
   "id": "e04577c0-0ad7-47cd-8643-eb870aa28069",
   "metadata": {},
   "outputs": [
    {
     "data": {
      "text/plain": [
       "908"
      ]
     },
     "execution_count": 129,
     "metadata": {},
     "output_type": "execute_result"
    }
   ],
   "source": [
    "gc.collect()"
   ]
  },
  {
   "cell_type": "code",
   "execution_count": 130,
   "id": "4f96e1c0-2b38-4ea5-950c-b53112a50dc6",
   "metadata": {},
   "outputs": [],
   "source": [
    "es_steps = 25"
   ]
  },
  {
   "cell_type": "code",
   "execution_count": 131,
   "id": "0e77b74e-64aa-49dd-984e-e67cb1da2152",
   "metadata": {
    "scrolled": true
   },
   "outputs": [
    {
     "name": "stdout",
     "output_type": "stream",
     "text": [
      "Using device: cuda\n"
     ]
    },
    {
     "data": {
      "application/vnd.jupyter.widget-view+json": {
       "model_id": "0ec3fd966b524593a32c85ad0196ff0c",
       "version_major": 2,
       "version_minor": 0
      },
      "text/plain": [
       "  0%|          | 0/300 [00:00<?, ?it/s]"
      ]
     },
     "metadata": {},
     "output_type": "display_data"
    },
    {
     "name": "stdout",
     "output_type": "stream",
     "text": [
      "Epoch 1/300 | Loss: 0.5308 | Accuracy: 79.86% | Val ACC: 86.46| Val F1: 40.61 | Steps: 0\n",
      "Epoch 2/300 | Loss: 0.4295 | Accuracy: 82.19% | Val ACC: 77.95| Val F1: 35.29 | Steps: 1\n",
      "Epoch 3/300 | Loss: 0.4046 | Accuracy: 83.78% | Val ACC: 74.37| Val F1: 32.31 | Steps: 2\n",
      "Epoch 4/300 | Loss: 0.4033 | Accuracy: 84.41% | Val ACC: 84.36| Val F1: 41.29 | Steps: 0\n",
      "Epoch 5/300 | Loss: 0.3760 | Accuracy: 84.95% | Val ACC: 84.90| Val F1: 42.93 | Steps: 0\n",
      "Epoch 6/300 | Loss: 0.3523 | Accuracy: 86.27% | Val ACC: 90.40| Val F1: 51.96 | Steps: 0\n",
      "Epoch 7/300 | Loss: 0.3484 | Accuracy: 86.56% | Val ACC: 89.28| Val F1: 50.06 | Steps: 1\n",
      "Epoch 8/300 | Loss: 0.3258 | Accuracy: 87.56% | Val ACC: 83.72| Val F1: 42.38 | Steps: 2\n",
      "Epoch 9/300 | Loss: 0.3077 | Accuracy: 88.00% | Val ACC: 88.81| Val F1: 50.98 | Steps: 3\n",
      "Epoch 10/300 | Loss: 0.2927 | Accuracy: 88.50% | Val ACC: 89.69| Val F1: 53.04 | Steps: 0\n",
      "Epoch 11/300 | Loss: 0.2797 | Accuracy: 89.11% | Val ACC: 84.91| Val F1: 43.98 | Steps: 1\n",
      "Epoch 12/300 | Loss: 0.2557 | Accuracy: 90.06% | Val ACC: 95.45| Val F1: 56.12 | Steps: 0\n",
      "Epoch 13/300 | Loss: 0.2726 | Accuracy: 89.98% | Val ACC: 88.45| Val F1: 50.52 | Steps: 1\n",
      "Epoch 14/300 | Loss: 0.2404 | Accuracy: 90.99% | Val ACC: 92.05| Val F1: 59.32 | Steps: 0\n",
      "Epoch 15/300 | Loss: 0.2232 | Accuracy: 92.15% | Val ACC: 90.51| Val F1: 55.85 | Steps: 1\n",
      "Epoch 16/300 | Loss: 0.2212 | Accuracy: 91.91% | Val ACC: 92.58| Val F1: 54.08 | Steps: 2\n",
      "Epoch 17/300 | Loss: 0.2152 | Accuracy: 92.61% | Val ACC: 94.06| Val F1: 65.47 | Steps: 0\n",
      "Epoch 18/300 | Loss: 0.1967 | Accuracy: 92.92% | Val ACC: 88.86| Val F1: 52.54 | Steps: 1\n",
      "Epoch 19/300 | Loss: 0.1860 | Accuracy: 92.95% | Val ACC: 91.85| Val F1: 59.70 | Steps: 2\n",
      "Epoch 20/300 | Loss: 0.2525 | Accuracy: 90.41% | Val ACC: 90.37| Val F1: 51.45 | Steps: 3\n",
      "Epoch 21/300 | Loss: 0.2899 | Accuracy: 89.12% | Val ACC: 91.76| Val F1: 57.78 | Steps: 4\n",
      "Epoch 22/300 | Loss: 0.2018 | Accuracy: 92.48% | Val ACC: 93.85| Val F1: 65.12 | Steps: 5\n",
      "Epoch 23/300 | Loss: 0.1928 | Accuracy: 92.87% | Val ACC: 91.79| Val F1: 59.54 | Steps: 6\n",
      "Epoch 24/300 | Loss: 0.1673 | Accuracy: 93.44% | Val ACC: 94.49| Val F1: 67.81 | Steps: 0\n",
      "Epoch 25/300 | Loss: 0.1568 | Accuracy: 93.86% | Val ACC: 94.71| Val F1: 68.16 | Steps: 0\n",
      "Epoch 26/300 | Loss: 0.1524 | Accuracy: 94.03% | Val ACC: 89.60| Val F1: 53.31 | Steps: 1\n",
      "Epoch 27/300 | Loss: 0.1422 | Accuracy: 94.26% | Val ACC: 91.50| Val F1: 58.79 | Steps: 2\n",
      "Epoch 28/300 | Loss: 0.1384 | Accuracy: 94.48% | Val ACC: 94.77| Val F1: 68.66 | Steps: 0\n",
      "Epoch 29/300 | Loss: 0.1382 | Accuracy: 94.39% | Val ACC: 88.55| Val F1: 51.28 | Steps: 1\n",
      "Epoch 30/300 | Loss: 0.1207 | Accuracy: 95.10% | Val ACC: 94.85| Val F1: 68.93 | Steps: 0\n",
      "Epoch 31/300 | Loss: 0.1186 | Accuracy: 95.06% | Val ACC: 94.21| Val F1: 66.96 | Steps: 1\n",
      "Epoch 32/300 | Loss: 0.1527 | Accuracy: 93.93% | Val ACC: 94.69| Val F1: 68.45 | Steps: 2\n",
      "Epoch 33/300 | Loss: 0.0995 | Accuracy: 95.99% | Val ACC: 95.62| Val F1: 72.15 | Steps: 0\n",
      "Epoch 34/300 | Loss: 0.0956 | Accuracy: 96.11% | Val ACC: 93.85| Val F1: 65.52 | Steps: 1\n",
      "Epoch 35/300 | Loss: 0.0998 | Accuracy: 95.85% | Val ACC: 95.08| Val F1: 68.00 | Steps: 2\n",
      "Epoch 36/300 | Loss: 0.1047 | Accuracy: 95.75% | Val ACC: 93.97| Val F1: 66.24 | Steps: 3\n",
      "Epoch 37/300 | Loss: 0.0960 | Accuracy: 96.15% | Val ACC: 95.96| Val F1: 72.34 | Steps: 0\n",
      "Epoch 38/300 | Loss: 0.1043 | Accuracy: 95.92% | Val ACC: 92.19| Val F1: 60.33 | Steps: 1\n",
      "Epoch 39/300 | Loss: 0.1791 | Accuracy: 93.10% | Val ACC: 83.97| Val F1: 43.39 | Steps: 2\n",
      "Epoch 40/300 | Loss: 0.1360 | Accuracy: 94.35% | Val ACC: 94.12| Val F1: 66.47 | Steps: 3\n",
      "Epoch 41/300 | Loss: 0.0722 | Accuracy: 96.88% | Val ACC: 94.83| Val F1: 69.26 | Steps: 4\n",
      "Epoch 42/300 | Loss: 0.1711 | Accuracy: 92.88% | Val ACC: 87.85| Val F1: 49.41 | Steps: 5\n",
      "Epoch 43/300 | Loss: 0.1027 | Accuracy: 96.05% | Val ACC: 95.59| Val F1: 71.76 | Steps: 6\n",
      "Epoch 44/300 | Loss: 0.0646 | Accuracy: 97.34% | Val ACC: 94.18| Val F1: 66.67 | Steps: 7\n",
      "Epoch 45/300 | Loss: 0.0820 | Accuracy: 96.74% | Val ACC: 91.60| Val F1: 58.73 | Steps: 8\n",
      "Epoch 46/300 | Loss: 0.0735 | Accuracy: 96.95% | Val ACC: 95.36| Val F1: 68.74 | Steps: 9\n",
      "Epoch 47/300 | Loss: 0.0694 | Accuracy: 97.14% | Val ACC: 95.69| Val F1: 71.67 | Steps: 10\n",
      "Epoch 48/300 | Loss: 0.0786 | Accuracy: 96.76% | Val ACC: 96.23| Val F1: 73.80 | Steps: 0\n",
      "Epoch 49/300 | Loss: 0.0725 | Accuracy: 97.16% | Val ACC: 96.21| Val F1: 74.08 | Steps: 0\n",
      "Epoch 50/300 | Loss: 0.0633 | Accuracy: 97.45% | Val ACC: 96.32| Val F1: 74.44 | Steps: 0\n",
      "Epoch 51/300 | Loss: 0.0905 | Accuracy: 96.13% | Val ACC: 94.59| Val F1: 67.03 | Steps: 1\n",
      "Epoch 52/300 | Loss: 0.0554 | Accuracy: 97.80% | Val ACC: 96.31| Val F1: 74.69 | Steps: 0\n",
      "Epoch 53/300 | Loss: 0.1072 | Accuracy: 95.63% | Val ACC: 95.59| Val F1: 70.85 | Steps: 1\n",
      "Epoch 54/300 | Loss: 0.0624 | Accuracy: 97.48% | Val ACC: 96.33| Val F1: 73.62 | Steps: 2\n",
      "Epoch 55/300 | Loss: 0.0554 | Accuracy: 97.72% | Val ACC: 95.88| Val F1: 71.97 | Steps: 3\n",
      "Epoch 56/300 | Loss: 0.0964 | Accuracy: 96.04% | Val ACC: 92.55| Val F1: 60.40 | Steps: 4\n",
      "Epoch 57/300 | Loss: 0.0578 | Accuracy: 97.70% | Val ACC: 95.42| Val F1: 70.37 | Steps: 5\n",
      "Epoch 58/300 | Loss: 0.0625 | Accuracy: 97.39% | Val ACC: 95.23| Val F1: 69.85 | Steps: 6\n",
      "Epoch 59/300 | Loss: 0.0557 | Accuracy: 97.69% | Val ACC: 94.78| Val F1: 67.26 | Steps: 7\n",
      "Epoch 60/300 | Loss: 0.0579 | Accuracy: 97.75% | Val ACC: 93.83| Val F1: 64.24 | Steps: 8\n",
      "Epoch 61/300 | Loss: 0.0537 | Accuracy: 97.78% | Val ACC: 95.94| Val F1: 72.65 | Steps: 9\n",
      "Epoch 62/300 | Loss: 0.1085 | Accuracy: 95.25% | Val ACC: 96.19| Val F1: 73.22 | Steps: 10\n",
      "Epoch 63/300 | Loss: 0.0447 | Accuracy: 98.17% | Val ACC: 96.21| Val F1: 72.74 | Steps: 11\n",
      "Epoch 64/300 | Loss: 0.0703 | Accuracy: 97.35% | Val ACC: 95.76| Val F1: 71.29 | Steps: 12\n",
      "Epoch 65/300 | Loss: 0.0494 | Accuracy: 98.17% | Val ACC: 94.23| Val F1: 65.81 | Steps: 13\n",
      "Epoch 66/300 | Loss: 0.0432 | Accuracy: 98.21% | Val ACC: 96.85| Val F1: 76.35 | Steps: 0\n",
      "Epoch 67/300 | Loss: 0.0413 | Accuracy: 98.38% | Val ACC: 96.35| Val F1: 74.62 | Steps: 1\n",
      "Epoch 68/300 | Loss: 0.0650 | Accuracy: 97.43% | Val ACC: 95.73| Val F1: 70.82 | Steps: 2\n",
      "Epoch 69/300 | Loss: 0.0655 | Accuracy: 97.45% | Val ACC: 96.05| Val F1: 71.69 | Steps: 3\n",
      "Epoch 70/300 | Loss: 0.0523 | Accuracy: 97.86% | Val ACC: 95.83| Val F1: 72.10 | Steps: 4\n",
      "Epoch 71/300 | Loss: 0.0412 | Accuracy: 98.38% | Val ACC: 96.41| Val F1: 74.59 | Steps: 5\n",
      "Epoch 72/300 | Loss: 0.0376 | Accuracy: 98.58% | Val ACC: 96.05| Val F1: 73.36 | Steps: 6\n",
      "Epoch 73/300 | Loss: 0.0470 | Accuracy: 98.19% | Val ACC: 96.53| Val F1: 75.56 | Steps: 7\n",
      "Epoch 74/300 | Loss: 0.0335 | Accuracy: 98.63% | Val ACC: 95.83| Val F1: 71.11 | Steps: 8\n",
      "Epoch 75/300 | Loss: 0.0696 | Accuracy: 97.15% | Val ACC: 96.45| Val F1: 74.75 | Steps: 9\n",
      "Epoch 76/300 | Loss: 0.0671 | Accuracy: 97.43% | Val ACC: 95.95| Val F1: 72.47 | Steps: 10\n",
      "Epoch 77/300 | Loss: 0.0358 | Accuracy: 98.56% | Val ACC: 96.23| Val F1: 73.56 | Steps: 11\n",
      "Epoch 78/300 | Loss: 0.0637 | Accuracy: 97.67% | Val ACC: 91.35| Val F1: 51.82 | Steps: 12\n",
      "Epoch 79/300 | Loss: 0.1281 | Accuracy: 93.95% | Val ACC: 94.97| Val F1: 68.89 | Steps: 13\n",
      "Epoch 80/300 | Loss: 0.0309 | Accuracy: 98.75% | Val ACC: 95.69| Val F1: 71.18 | Steps: 14\n",
      "Epoch 81/300 | Loss: 0.0284 | Accuracy: 98.90% | Val ACC: 96.72| Val F1: 74.65 | Steps: 15\n",
      "Epoch 82/300 | Loss: 0.0423 | Accuracy: 98.34% | Val ACC: 96.77| Val F1: 74.60 | Steps: 16\n",
      "Epoch 83/300 | Loss: 0.0980 | Accuracy: 95.89% | Val ACC: 96.23| Val F1: 73.47 | Steps: 17\n",
      "Epoch 84/300 | Loss: 0.0370 | Accuracy: 98.46% | Val ACC: 95.63| Val F1: 71.42 | Steps: 18\n",
      "Epoch 85/300 | Loss: 0.0381 | Accuracy: 98.58% | Val ACC: 92.68| Val F1: 60.92 | Steps: 19\n",
      "Epoch 86/300 | Loss: 0.0438 | Accuracy: 98.27% | Val ACC: 96.13| Val F1: 73.56 | Steps: 20\n",
      "Epoch 87/300 | Loss: 0.0350 | Accuracy: 98.59% | Val ACC: 94.91| Val F1: 68.96 | Steps: 21\n",
      "Epoch 88/300 | Loss: 0.0539 | Accuracy: 97.79% | Val ACC: 95.33| Val F1: 70.07 | Steps: 22\n",
      "Epoch 89/300 | Loss: 0.0526 | Accuracy: 97.93% | Val ACC: 92.17| Val F1: 59.35 | Steps: 23\n",
      "Epoch 90/300 | Loss: 0.0362 | Accuracy: 98.57% | Val ACC: 94.71| Val F1: 67.61 | Steps: 24\n",
      "Epoch 91/300 | Loss: 0.0405 | Accuracy: 98.39% | Val ACC: 96.23| Val F1: 73.94 | Steps: 25\n",
      "stoping early and returning to best model with val F1 of 76.35\n"
     ]
    }
   ],
   "source": [
    "X_train, X_test, y_train, y_test = tts(X_all_tap_mel, y_all_tap_mel, test_size=0.3)\n",
    "del X_all_tap_mel\n",
    "y_train_int = y_train.astype(np.int64)\n",
    "class_counts = np.bincount(y_train_int)\n",
    "class_weights = 1.0 / class_counts\n",
    "class_weights = class_weights * (len(y_train) / class_weights.sum())  # optional normalization\n",
    "class_weights = torch.tensor(class_weights, dtype=torch.float32).to(device)\n",
    "\n",
    "\n",
    "X_train, X_val, y_train, y_val = tts(X_train, y_train, test_size=0.15)\n",
    "\n",
    "# Create dataset and dataloader\n",
    "train_dataset = LogMelDataset(X_train, y_train)\n",
    "val_dataset = LogMelDataset(X_val, y_val)\n",
    "test_dataset = LogMelDataset(X_test, y_test)\n",
    "\n",
    "train_loader = DataLoader(train_dataset, batch_size=64, shuffle=True)\n",
    "test_loader = DataLoader(test_dataset, batch_size=64)\n",
    "val_loader = DataLoader(val_dataset, batch_size=64)\n",
    "\n",
    "device = torch.device(\"cuda\" if torch.cuda.is_available() else \"cpu\")\n",
    "print(\"Using device:\", device)\n",
    "\n",
    "model = CNNClassifier(num_classes=len(np.unique(y_all_tap_mel))).to(device)\n",
    "\n",
    "criterion = nn.CrossEntropyLoss(weight=class_weights)\n",
    "optimizer = torch.optim.Adam(model.parameters(), lr=0.001)\n",
    "\n",
    "num_epochs = 300\n",
    "\n",
    "best_f1 = 0\n",
    "best_model_state = None\n",
    "steps = 0\n",
    "\n",
    "for epoch in tqdm(range(num_epochs)):\n",
    "    model.train()\n",
    "    running_loss = 0.0\n",
    "    correct = 0\n",
    "    total = 0\n",
    "\n",
    "    for inputs, labels in train_loader:\n",
    "        inputs, labels = inputs.to(device), labels.to(device)\n",
    "\n",
    "        optimizer.zero_grad()\n",
    "        outputs = model(inputs)\n",
    "        loss = criterion(outputs, labels)\n",
    "        loss.backward()\n",
    "        optimizer.step()\n",
    "\n",
    "        running_loss += loss.item() * inputs.size(0)\n",
    "        _, predicted = torch.max(outputs.data, 1)\n",
    "        total += labels.size(0)\n",
    "        correct += (predicted == labels).sum().item()\n",
    "\n",
    "    train_acc = 100 * correct / total\n",
    "    train_loss = running_loss / total\n",
    "\n",
    "    ## early stopping and validation loss:\n",
    "    acc, f1, precision, recall, _, _ = evaluate(model, val_loader, device, False)\n",
    "    if f1 > best_f1:\n",
    "        best_f1 = f1\n",
    "        best_model_state = model.state_dict()  # reference to current weights\n",
    "        # Clone the weights so they don’t get overwritten\n",
    "        best_model_state = {k: v.clone() for k, v in best_model_state.items()}\n",
    "        steps = 0\n",
    "    elif steps >= es_steps:\n",
    "        model.load_state_dict(best_model_state)\n",
    "        print(f\"stoping early and returning to best model with val F1 of {best_f1 * 100:.2f}\")\n",
    "        break\n",
    "    else: \n",
    "        steps += 1\n",
    "    \n",
    "\n",
    "    print(f\"Epoch {epoch+1}/{num_epochs} | Loss: {train_loss:.4f} | Accuracy: {train_acc:.2f}% | Val ACC: {acc*100:.2f}| Val F1: {f1*100:.2f} | Steps: {steps}\")"
   ]
  },
  {
   "cell_type": "code",
   "execution_count": 135,
   "id": "f3f9a064-106c-4f2a-ab24-5ee8184e8dc1",
   "metadata": {},
   "outputs": [
    {
     "name": "stdout",
     "output_type": "stream",
     "text": [
      "\n",
      "Validation Results:\n",
      "  Accuracy:  0.9685\n",
      "  F1 Score:  0.7532\n",
      "  Precision: 0.7467\n",
      "  Recall:    0.7599\n",
      "\n"
     ]
    }
   ],
   "source": [
    "acc_tap, f1_tap, precision_tap, recall_tap, _, _ = evaluate(model, test_loader, device)"
   ]
  },
  {
   "cell_type": "code",
   "execution_count": 146,
   "id": "a69e2383-4f89-4f1a-b905-5b4e8ebe9b69",
   "metadata": {},
   "outputs": [
    {
     "data": {
      "text/plain": [
       "(0.9684555326213766, 0.7532467532467532, 0.7466945024356297, 0.759915014164306)"
      ]
     },
     "execution_count": 146,
     "metadata": {},
     "output_type": "execute_result"
    }
   ],
   "source": [
    "acc_tap, f1_tap, precision_tap, recall_tap"
   ]
  },
  {
   "cell_type": "code",
   "execution_count": 147,
   "id": "74fe2af1-a95d-4235-ad0e-a71b9cea4caa",
   "metadata": {},
   "outputs": [],
   "source": [
    "## F1 score for Tap Water class: 0.69"
   ]
  },
  {
   "cell_type": "code",
   "execution_count": 148,
   "id": "0b6a73b3-a7f6-479a-b165-27a881471a17",
   "metadata": {},
   "outputs": [],
   "source": [
    "res_df.loc[len(res_df)] = [\"all\", \"tap water\", f1_tap, acc_tap, precision_tap, recall_tap, \"CNN\"]"
   ]
  },
  {
   "cell_type": "code",
   "execution_count": 139,
   "id": "948f6a95-a355-45f6-877d-61c9d618a1fd",
   "metadata": {},
   "outputs": [
    {
     "data": {
      "text/plain": [
       "18"
      ]
     },
     "execution_count": 139,
     "metadata": {},
     "output_type": "execute_result"
    }
   ],
   "source": [
    "del X_train, y_train, X_test, y_test, X_val, y_val\n",
    "del train_dataset\n",
    "del val_dataset\n",
    "del y_all_tap_mel\n",
    "\n",
    "gc.collect()"
   ]
  },
  {
   "cell_type": "code",
   "execution_count": 140,
   "id": "70190d98-df4e-425e-b700-fd2d8e57a753",
   "metadata": {},
   "outputs": [
    {
     "data": {
      "application/vnd.jupyter.widget-view+json": {
       "model_id": "fb9c6cc036ed49dbb67df8c8ea995776",
       "version_major": 2,
       "version_minor": 0
      },
      "text/plain": [
       "  0%|          | 0/9 [00:00<?, ?it/s]"
      ]
     },
     "metadata": {},
     "output_type": "display_data"
    },
    {
     "data": {
      "application/vnd.jupyter.widget-view+json": {
       "model_id": "5745d015489b4bb782c2700695b82b2f",
       "version_major": 2,
       "version_minor": 0
      },
      "text/plain": [
       "  0%|          | 0/9 [00:00<?, ?it/s]"
      ]
     },
     "metadata": {},
     "output_type": "display_data"
    }
   ],
   "source": [
    "\n",
    "X_all_lo_mel, y_all_lo_mel = load_files(all_files, False, reset=False, target=\"water\", features=\"logmel\")\n",
    "X_all_tap_lo_mel, y_all_tap_lo_mel = load_files(all_files, False, reset=False, target=\"tap water\", features=\"logmel\")"
   ]
  },
  {
   "cell_type": "code",
   "execution_count": 141,
   "id": "b70962ab-fa63-4165-a354-3a8e56a77542",
   "metadata": {},
   "outputs": [],
   "source": [
    "try:\n",
    "    with shelve.open(\"shelves/dl_res\") as shf:\n",
    "        res_df_lo_cnn = shf[\"res_df_lo_cnn\"]\n",
    "        models_lo_cnn = shf[\"models_lo_cnn\"]\n",
    "except:\n",
    "\n",
    "    device = torch.device(\"cuda\" if torch.cuda.is_available() else \"cpu\")\n",
    "    es_steps = 20\n",
    "    results_lo_cnn = []\n",
    "    models_lo_cnn = []\n",
    "    for Xs_lo, ys_lo, target in [(X_all_lo_mel, y_all_lo_mel, \"water\"), (X_all_tap_lo_mel, y_all_tap_lo_mel, \"tap water\")]:\n",
    "        cv = LOSO()\n",
    "        for train_ind, test_ind in tqdm(cv.split(Xs_lo), total=9):\n",
    "            X_train = np.concatenate(np.array(Xs_lo, dtype=object)[train_ind])\n",
    "            y_train = np.concatenate(np.array(ys_lo, dtype=object)[train_ind])\n",
    "    \n",
    "            y_train_int = y_train.astype(np.int64)\n",
    "            class_counts = np.bincount(y_train_int)\n",
    "            class_weights = 1.0 / class_counts\n",
    "            class_weights = class_weights * (len(y_train) / class_weights.sum())  # optional normalization\n",
    "            class_weights = torch.tensor(class_weights, dtype=torch.float32).to(device)\n",
    "    \n",
    "            X_train, X_val, y_train, y_val = tts(X_train, y_train, test_size=0.15)\n",
    "            \n",
    "            X_test = np.concatenate(np.array(Xs_lo, dtype=object)[test_ind])\n",
    "            y_test = np.concatenate(np.array(ys_lo, dtype=object)[test_ind])\n",
    "    \n",
    "    \n",
    "            # Create dataset and dataloader\n",
    "            train_dataset = LogMelDataset(X_train, y_train)\n",
    "            val_dataset = LogMelDataset(X_val, y_val)\n",
    "            test_dataset = LogMelDataset(X_test, y_test)\n",
    "            \n",
    "            train_loader = DataLoader(train_dataset, batch_size=128, shuffle=True)\n",
    "            val_loader = DataLoader(val_dataset, batch_size=128)\n",
    "            test_loader = DataLoader(test_dataset, batch_size=128)\n",
    "            \n",
    "            \n",
    "            print(\"Using device:\", device)\n",
    "            \n",
    "            model = CNNClassifier(num_classes=len(np.unique(y_train))).to(device)\n",
    "            \n",
    "            criterion = nn.CrossEntropyLoss(weight=class_weights)\n",
    "            optimizer = torch.optim.Adam(model.parameters(), lr=0.001)\n",
    "            \n",
    "            num_epochs = 200\n",
    "    \n",
    "            best_f1 = 0\n",
    "            best_model_state = None\n",
    "            steps = 0\n",
    "            \n",
    "            for epoch in tqdm(range(num_epochs)):\n",
    "                model.train()\n",
    "                running_loss = 0.0\n",
    "                correct = 0\n",
    "                total = 0\n",
    "            \n",
    "                for inputs, labels in train_loader:\n",
    "                    inputs, labels = inputs.to(device), labels.to(device)\n",
    "            \n",
    "                    optimizer.zero_grad()\n",
    "                    outputs = model(inputs)\n",
    "                    loss = criterion(outputs, labels)\n",
    "                    loss.backward()\n",
    "                    optimizer.step()\n",
    "            \n",
    "                    running_loss += loss.item() * inputs.size(0)\n",
    "                    _, predicted = torch.max(outputs.data, 1)\n",
    "                    total += labels.size(0)\n",
    "                    correct += (predicted == labels).sum().item()\n",
    "            \n",
    "                train_acc = 100 * correct / total\n",
    "                train_loss = running_loss / total\n",
    "    \n",
    "                # implements early stopping:\n",
    "                acc, f1, prec, rec, _, _ = evaluate(model, val_loader, device, False)\n",
    "                if f1 > best_f1:\n",
    "                    best_f1 = f1\n",
    "                    best_model_state = model.state_dict()  # reference to current weights\n",
    "                    # Clone the weights so they don’t get overwritten\n",
    "                    best_model_state = {k: v.clone() for k, v in best_model_state.items()}\n",
    "                    steps = 0\n",
    "                elif steps >= es_steps:\n",
    "                    model.load_state_dict(best_model_state)\n",
    "                    print(f\"stoping early and returning to best model with val F1 of {best_f1 * 100:.2f}\")\n",
    "                    break\n",
    "                else: \n",
    "                    steps += 1\n",
    "    \n",
    "                \n",
    "            \n",
    "                if epoch % 10 == 0:\n",
    "                    print(f\"Epoch {epoch+1}/{num_epochs} | Loss: {train_loss:.4f} | Accuracy: {train_acc:.2f}% | Val ACC: {acc*100:.2f}| Val F1: {f1*100:.2f} | Steps: {steps}\")\n",
    "            acc, f1, precision, recall, _, _ = evaluate(model, test_loader, device, True)\n",
    "            models_lo_cnn.append(model)\n",
    "            results_lo_cnn.append({\"test_part\": str(test_ind[0]), \"target\": target, \"f1\" : f1, \"acc\" : acc, \"precision\" : precision, \"recall\" : recall})\n",
    "    res_df_lo_cnn = pd.DataFrame(results_lo_cnn)\n",
    "    \n",
    "    with shelve.open(\"shelves/dl_res\") as shf:\n",
    "        shf[\"res_df_lo_cnn\"] = res_df_lo_cnn\n",
    "        shf[\"models_lo_cnn\"] = models_lo_cnn\n",
    "    \n",
    "    print(\"finished\")"
   ]
  },
  {
   "cell_type": "code",
   "execution_count": null,
   "id": "2ddd76ff-9a74-4dea-b45e-a81c558ce7a8",
   "metadata": {},
   "outputs": [],
   "source": []
  },
  {
   "cell_type": "code",
   "execution_count": 143,
   "id": "e1e97d41-fdb1-439f-a722-07c09ca38da6",
   "metadata": {},
   "outputs": [
    {
     "data": {
      "text/html": [
       "<div>\n",
       "<style scoped>\n",
       "    .dataframe tbody tr th:only-of-type {\n",
       "        vertical-align: middle;\n",
       "    }\n",
       "\n",
       "    .dataframe tbody tr th {\n",
       "        vertical-align: top;\n",
       "    }\n",
       "\n",
       "    .dataframe thead th {\n",
       "        text-align: right;\n",
       "    }\n",
       "</style>\n",
       "<table border=\"1\" class=\"dataframe\">\n",
       "  <thead>\n",
       "    <tr style=\"text-align: right;\">\n",
       "      <th></th>\n",
       "      <th>f1</th>\n",
       "      <th>acc</th>\n",
       "      <th>precision</th>\n",
       "      <th>recall</th>\n",
       "    </tr>\n",
       "    <tr>\n",
       "      <th>target</th>\n",
       "      <th></th>\n",
       "      <th></th>\n",
       "      <th></th>\n",
       "      <th></th>\n",
       "    </tr>\n",
       "  </thead>\n",
       "  <tbody>\n",
       "    <tr>\n",
       "      <th>tap water</th>\n",
       "      <td>0.483415</td>\n",
       "      <td>0.924332</td>\n",
       "      <td>0.479774</td>\n",
       "      <td>0.537656</td>\n",
       "    </tr>\n",
       "    <tr>\n",
       "      <th>water</th>\n",
       "      <td>0.517137</td>\n",
       "      <td>0.888612</td>\n",
       "      <td>0.508938</td>\n",
       "      <td>0.600386</td>\n",
       "    </tr>\n",
       "  </tbody>\n",
       "</table>\n",
       "</div>"
      ],
      "text/plain": [
       "                 f1       acc  precision    recall\n",
       "target                                            \n",
       "tap water  0.483415  0.924332   0.479774  0.537656\n",
       "water      0.517137  0.888612   0.508938  0.600386"
      ]
     },
     "execution_count": 143,
     "metadata": {},
     "output_type": "execute_result"
    }
   ],
   "source": [
    "res_df_lo_cnn.groupby(\"target\").mean(numeric_only=True)"
   ]
  },
  {
   "cell_type": "code",
   "execution_count": null,
   "id": "aec52798-5762-468d-9bb7-115b2afb3754",
   "metadata": {},
   "outputs": [],
   "source": []
  },
  {
   "cell_type": "code",
   "execution_count": 145,
   "id": "a76be576-59aa-4cd4-9ebd-2c980a674d7d",
   "metadata": {},
   "outputs": [],
   "source": [
    "try:\n",
    "    del X_train, y_train, X_test, y_test, X_val, y_val\n",
    "    del train_dataset, train_loader\n",
    "    del val_dataset, val_loarder\n",
    "    del test_dataset, test_loader\n",
    "    \n",
    "    del X_all_lo_mel, y_all_lo_mel\n",
    "    del X_all_tap_lo_mel, y_all_tap_lo_mel\n",
    "    \n",
    "    gc.collect()\n",
    "except:\n",
    "    pass"
   ]
  },
  {
   "cell_type": "code",
   "execution_count": 149,
   "id": "512ce553-ca3e-4c13-955a-e4a95555913f",
   "metadata": {},
   "outputs": [],
   "source": [
    "%matplotlib inline"
   ]
  },
  {
   "cell_type": "code",
   "execution_count": null,
   "id": "f368eed8",
   "metadata": {},
   "outputs": [],
   "source": []
  },
  {
   "cell_type": "code",
   "execution_count": null,
   "id": "6e36394d",
   "metadata": {
    "scrolled": true
   },
   "outputs": [],
   "source": []
  },
  {
   "cell_type": "code",
   "execution_count": null,
   "id": "fb1b1604",
   "metadata": {},
   "outputs": [],
   "source": []
  },
  {
   "cell_type": "code",
   "execution_count": 150,
   "id": "9b05849b-7461-4a69-8d43-bda8e8bbfb2a",
   "metadata": {},
   "outputs": [
    {
     "data": {
      "text/html": [
       "<div>\n",
       "<style scoped>\n",
       "    .dataframe tbody tr th:only-of-type {\n",
       "        vertical-align: middle;\n",
       "    }\n",
       "\n",
       "    .dataframe tbody tr th {\n",
       "        vertical-align: top;\n",
       "    }\n",
       "\n",
       "    .dataframe thead th {\n",
       "        text-align: right;\n",
       "    }\n",
       "</style>\n",
       "<table border=\"1\" class=\"dataframe\">\n",
       "  <thead>\n",
       "    <tr style=\"text-align: right;\">\n",
       "      <th></th>\n",
       "      <th>strategy</th>\n",
       "      <th>f1</th>\n",
       "      <th>acc</th>\n",
       "      <th>precision</th>\n",
       "      <th>recall</th>\n",
       "      <th>target</th>\n",
       "    </tr>\n",
       "  </thead>\n",
       "  <tbody>\n",
       "    <tr>\n",
       "      <th>0</th>\n",
       "      <td>most_frequent</td>\n",
       "      <td>0.000000</td>\n",
       "      <td>0.898726</td>\n",
       "      <td>0.000000</td>\n",
       "      <td>0.000000</td>\n",
       "      <td>water</td>\n",
       "    </tr>\n",
       "    <tr>\n",
       "      <th>1</th>\n",
       "      <td>prior</td>\n",
       "      <td>0.000000</td>\n",
       "      <td>0.898726</td>\n",
       "      <td>0.000000</td>\n",
       "      <td>0.000000</td>\n",
       "      <td>water</td>\n",
       "    </tr>\n",
       "    <tr>\n",
       "      <th>2</th>\n",
       "      <td>stratified</td>\n",
       "      <td>0.110535</td>\n",
       "      <td>0.815131</td>\n",
       "      <td>0.107789</td>\n",
       "      <td>0.113425</td>\n",
       "      <td>water</td>\n",
       "    </tr>\n",
       "    <tr>\n",
       "      <th>3</th>\n",
       "      <td>uniform</td>\n",
       "      <td>0.163375</td>\n",
       "      <td>0.496321</td>\n",
       "      <td>0.098208</td>\n",
       "      <td>0.485600</td>\n",
       "      <td>water</td>\n",
       "    </tr>\n",
       "    <tr>\n",
       "      <th>0</th>\n",
       "      <td>most_frequent</td>\n",
       "      <td>0.000000</td>\n",
       "      <td>0.934847</td>\n",
       "      <td>0.000000</td>\n",
       "      <td>0.000000</td>\n",
       "      <td>tap water</td>\n",
       "    </tr>\n",
       "    <tr>\n",
       "      <th>1</th>\n",
       "      <td>prior</td>\n",
       "      <td>0.000000</td>\n",
       "      <td>0.934847</td>\n",
       "      <td>0.000000</td>\n",
       "      <td>0.000000</td>\n",
       "      <td>tap water</td>\n",
       "    </tr>\n",
       "    <tr>\n",
       "      <th>2</th>\n",
       "      <td>stratified</td>\n",
       "      <td>0.068388</td>\n",
       "      <td>0.880194</td>\n",
       "      <td>0.069307</td>\n",
       "      <td>0.067493</td>\n",
       "      <td>tap water</td>\n",
       "    </tr>\n",
       "    <tr>\n",
       "      <th>3</th>\n",
       "      <td>uniform</td>\n",
       "      <td>0.112509</td>\n",
       "      <td>0.503051</td>\n",
       "      <td>0.063662</td>\n",
       "      <td>0.483471</td>\n",
       "      <td>tap water</td>\n",
       "    </tr>\n",
       "  </tbody>\n",
       "</table>\n",
       "</div>"
      ],
      "text/plain": [
       "        strategy        f1       acc  precision    recall     target\n",
       "0  most_frequent  0.000000  0.898726   0.000000  0.000000      water\n",
       "1          prior  0.000000  0.898726   0.000000  0.000000      water\n",
       "2     stratified  0.110535  0.815131   0.107789  0.113425      water\n",
       "3        uniform  0.163375  0.496321   0.098208  0.485600      water\n",
       "0  most_frequent  0.000000  0.934847   0.000000  0.000000  tap water\n",
       "1          prior  0.000000  0.934847   0.000000  0.000000  tap water\n",
       "2     stratified  0.068388  0.880194   0.069307  0.067493  tap water\n",
       "3        uniform  0.112509  0.503051   0.063662  0.483471  tap water"
      ]
     },
     "execution_count": 150,
     "metadata": {},
     "output_type": "execute_result"
    }
   ],
   "source": [
    "chnc_df"
   ]
  },
  {
   "cell_type": "code",
   "execution_count": 151,
   "id": "b96c7470-8558-4973-ab73-941788d7435d",
   "metadata": {},
   "outputs": [],
   "source": [
    "res_df.loc[len(res_df)] = [\"all\", \"water\", 0.172930, 0.501256, 0.104647, 0.497645, \"Baseline\"]\n",
    "res_df.loc[len(res_df)] = [\"all\", \"tap water\", 0.112712, 0.505474, 0.063683, 0.489853, \"Baseline\"]"
   ]
  },
  {
   "cell_type": "code",
   "execution_count": 152,
   "id": "3ff70916-2326-4f6e-8776-27cb127b6f34",
   "metadata": {},
   "outputs": [
    {
     "data": {
      "text/plain": [
       "test_part               all\n",
       "target                water\n",
       "f1                 0.669757\n",
       "acc                0.945661\n",
       "precision          0.928896\n",
       "recall             0.523667\n",
       "classifier    Random Forest\n",
       "Name: 0, dtype: object"
      ]
     },
     "execution_count": 152,
     "metadata": {},
     "output_type": "execute_result"
    }
   ],
   "source": [
    "res_df.loc[0]"
   ]
  },
  {
   "cell_type": "code",
   "execution_count": 153,
   "id": "d1fe3d7a",
   "metadata": {},
   "outputs": [],
   "source": [
    "res_df[\"group\"] = res_df[\"classifier\"].astype(str) + \" | \" + res_df[\"target\"]"
   ]
  },
  {
   "cell_type": "code",
   "execution_count": 154,
   "id": "f072271c",
   "metadata": {},
   "outputs": [
    {
     "data": {
      "image/png": "[encoded data removed]",
      "text/plain": [
       "<Figure size 1200x300 with 3 Axes>"
      ]
     },
     "metadata": {},
     "output_type": "display_data"
    }
   ],
   "source": [
    "res_df_lo[\"classifier\"] = \"Random Forest\"\n",
    "res_df_lo_cnn[\"classifier\"] = \"CNN\"\n",
    "data = pd.concat([res_df_lo, res_df_lo_cnn, all_chance_df[all_chance_df.strategy==\"uniform\"]])\n",
    "\n",
    "\n",
    "\n",
    "data[\"group\"] = data[\"classifier\"].astype(str) + \" | \" + data[\"target\"]\n",
    "data[\"Participant\"] = data[\"test_part\"].apply(lambda x: f\"P{str(int(x)+1).zfill(2)}\")\n",
    "classifiers = data[\"group\"].unique()\n",
    "fig, (ax1, ax2, ax3) = plt.subplots(1, 3, width_ratios=[4, 1, 1], figsize=(12,3), sharey=True)\n",
    "sns.barplot(data=data.sort_values(by=[\"group\", \"Participant\"]), x=\"Participant\", y=\"f1\", hue=\"group\", palette = sns.color_palette(\"colorblind\", len(classifiers)), ax=ax1)\n",
    "\n",
    "\n",
    "# Define a hatch pattern per classifier (hue)\n",
    "hatches = [\"...\", \".....\", \"\\\\\\\\\", \"\\\\\\\\\\\\\\\\\", \"//\", \"////\"]  # Customize as needed\n",
    "\n",
    "palette = sns.color_palette(\"colorblind\", len(classifiers))\n",
    "\n",
    "# Apply hatches to the bars\n",
    "for bars, hatch in zip(ax1.containers, hatches):\n",
    "    for bar in bars:\n",
    "        bar.set_hatch(hatch)\n",
    "\n",
    "# Create custom legend handles\n",
    "legend_handles = [\n",
    "    Patch(facecolor=palette[i], hatch=hatches[i], label=clf)\n",
    "    for i, clf in enumerate(sorted(classifiers))\n",
    "]\n",
    "\n",
    "# Set the new legend\n",
    "ax1.get_legend().remove()\n",
    "ax1.set_ylabel(\"F1 score\")\n",
    "\n",
    "sns.barplot(data=data.sort_values(by=[\"group\", \"Participant\"]), y=\"f1\", x=\"group\", palette = sns.color_palette(\"colorblind\", len(classifiers)), ax=ax2)\n",
    "\n",
    "ax2.set_ylabel(\"\")\n",
    "ax2.set_xlabel(\"Mean\")\n",
    "ax2.set_xticklabels([\"\",\"\", \"\",\"\", \"\", \"\"])\n",
    "\n",
    "ax2.set_xlabel(\"LOSO-CV Agg.\")\n",
    "\n",
    "\n",
    "sns.barplot(data=res_df.sort_values(by=[\"group\"]), y=\"f1\", x=\"group\", palette = sns.color_palette(\"colorblind\", len(classifiers)), ax=ax3)\n",
    "\n",
    "ax3.legend(handles=legend_handles, title=\"Classifier | Target Class\", loc='upper left',\n",
    "    borderaxespad=0, bbox_to_anchor=(1.02,1))\n",
    "ax3.set_ylabel(\"\")\n",
    "ax3.set_xlabel(\"Random Train-Test-Split\")\n",
    "ax3.set_xticklabels([\"\",\"\", \"\",\"\", \"\", \"\"])\n",
    "for i in range(6):\n",
    "    ax2.containers[0][i].set_hatch(hatches[i])\n",
    "    ax3.containers[0][i].set_hatch(hatches[i])\n",
    "\n",
    "for ax in [ax1, ax2, ax3]:\n",
    "    ax.grid(True, axis=\"y\")\n",
    "plt.xticks(rotation=0)\n",
    "plt.tight_layout()\n",
    "plt.savefig(\"figures/class_performance.pdf\")\n",
    "plt.show()"
   ]
  },
  {
   "cell_type": "code",
   "execution_count": null,
   "id": "f1f59f00-e354-4d17-85b1-e2925e1e24dc",
   "metadata": {},
   "outputs": [],
   "source": []
  },
  {
   "cell_type": "code",
   "execution_count": null,
   "id": "3049f666-190b-4cbe-a162-fdd2b0c82fc7",
   "metadata": {},
   "outputs": [],
   "source": []
  },
  {
   "cell_type": "code",
   "execution_count": null,
   "id": "06860e9e-e264-4a68-9bdd-cd148018fe37",
   "metadata": {
    "scrolled": true
   },
   "outputs": [],
   "source": []
  },
  {
   "cell_type": "code",
   "execution_count": 155,
   "id": "6fb18126-f4ec-414d-bfab-044be4a8e08c",
   "metadata": {},
   "outputs": [
    {
     "data": {
      "image/png": "[encoded data removed]",
      "text/plain": [
       "<Figure size 1200x300 with 3 Axes>"
      ]
     },
     "metadata": {},
     "output_type": "display_data"
    }
   ],
   "source": [
    "tmp_df = data.groupby([\"Participant\", \"target\", \"classifier\"]).mean(numeric_only=True)[\"f1\"]\n",
    "tmp_df = pd.DataFrame(tmp_df).T\n",
    "\n",
    "outperf_res_long = []\n",
    "\n",
    "for i in range(9):\n",
    "    part = f\"P{str(i+1).zfill(2)}\"\n",
    "    tap = (tmp_df[part][\"tap water\"][\"Random Forest\"] / tmp_df[part][\"tap water\"][\"Baseline\"]).iloc[0] * 100\n",
    "    water = (tmp_df[part][\"water\"][\"Random Forest\"] / tmp_df[part][\"water\"][\"Baseline\"]).iloc[0] * 100\n",
    "    outperf_res_long.append({\"Participant\" : part, \"target class\" : \"tap water\", \"f1 / baseline f1\" : tap, \"classifier\": \"Random Forest\"})\n",
    "    outperf_res_long.append({\"Participant\" : part, \"target class\" : \"water\", \"f1 / baseline f1\"  : water, \"classifier\": \"Random Forest\"})\n",
    "\n",
    "    tap = (tmp_df[part][\"tap water\"][\"CNN\"] / tmp_df[part][\"tap water\"][\"Baseline\"]).iloc[0] * 100\n",
    "    water = (tmp_df[part][\"water\"][\"CNN\"] / tmp_df[part][\"water\"][\"Baseline\"]).iloc[0] * 100\n",
    "    outperf_res_long.append({\"Participant\" : part, \"target class\" : \"tap water\", \"f1 / baseline f1\" : tap, \"classifier\": \"CNN\"})\n",
    "    outperf_res_long.append({\"Participant\" : part, \"target class\" : \"water\", \"f1 / baseline f1\"  : water, \"classifier\": \"CNN\"})\n",
    "\n",
    "    \n",
    "out_long_df = pd.DataFrame(outperf_res_long)\n",
    "\n",
    "out_long_df[\"group\"] = out_long_df[\"classifier\"].astype(str) + \" | \" + out_long_df[\"target class\"]\n",
    "\n",
    "fig, (ax1, ax2, ax3 ) = plt.subplots(1, 3, width_ratios=[4, 1, 1], figsize=(12,3), sharey=True)\n",
    "sns.barplot(data=out_long_df.sort_values(by=[\"group\", \"Participant\"]), x=\"Participant\", hue=\"group\", y=\"f1 / baseline f1\",\n",
    "           palette = palette[2:], ax=ax1)\n",
    "\n",
    "palette = sns.color_palette(\"colorblind\", len(classifiers))\n",
    "\n",
    "# Apply hatches to the bars\n",
    "for bars, hatch in zip(ax1.containers, hatches[2:]):\n",
    "    for bar in bars:\n",
    "        bar.set_hatch(hatch)\n",
    "\n",
    "# Create custom legend handles\n",
    "legend_handles = [\n",
    "    Patch(facecolor=palette[2:][i], hatch=hatches[2:][i], label=clf)\n",
    "    for i, clf in enumerate(out_long_df.sort_values(by=[\"group\", \"Participant\"]).group.unique())\n",
    "]\n",
    "\n",
    "# Set the new legend\n",
    "ax1.get_legend().remove()\n",
    "\n",
    "\n",
    "\n",
    "sns.barplot(data=out_long_df.sort_values(by=[\"group\", \"Participant\"]), x=\"group\", y=\"f1 / baseline f1\",\n",
    "           palette = palette[2:], ax=ax2)\n",
    "ax2.set_ylabel(\"\")\n",
    "ax2.set_xlabel(\"LOSO-CV Agg.\")\n",
    "ax2.set_xticklabels([\"\",\"\", \"\",\"\"])\n",
    "\n",
    "\n",
    "\n",
    "ax3.legend(handles=legend_handles, title=\"Classifier | Target Class\", loc='upper left',\n",
    "    borderaxespad=0, bbox_to_anchor=(1.03,1))\n",
    "\n",
    "tmp_df = res_df.groupby([\"target\", \"classifier\"]).mean(numeric_only=True)[\"f1\"]\n",
    "tmp_df = pd.DataFrame(tmp_df).T\n",
    "tmp_df\n",
    "\n",
    "outperf_res_long = []\n",
    "\n",
    "tap = (tmp_df[\"tap water\"][\"Random Forest\"] / tmp_df[\"tap water\"][\"Baseline\"]).iloc[0] * 100\n",
    "water = (tmp_df[\"water\"][\"Random Forest\"] / tmp_df[\"water\"][\"Baseline\"]).iloc[0] * 100\n",
    "outperf_res_long.append({\"target class\" : \"tap water\", \"f1 / baseline f1\" : tap, \"classifier\": \"Random Forest\"})\n",
    "outperf_res_long.append({\"target class\" : \"water\", \"f1 / baseline f1\"  : water, \"classifier\": \"Random Forest\"})\n",
    "\n",
    "tap = (tmp_df[\"tap water\"][\"CNN\"] / tmp_df[\"tap water\"][\"Baseline\"]).iloc[0] * 100\n",
    "water = (tmp_df[\"water\"][\"CNN\"] / tmp_df[\"water\"][\"Baseline\"]).iloc[0] * 100\n",
    "outperf_res_long.append({\"target class\" : \"tap water\", \"f1 / baseline f1\" : tap, \"classifier\": \"CNN\"})\n",
    "outperf_res_long.append({\"target class\" : \"water\", \"f1 / baseline f1\"  : water, \"classifier\": \"CNN\"})\n",
    "\n",
    "    \n",
    "out_long_df = pd.DataFrame(outperf_res_long)\n",
    "out_long_df[\"group\"] = out_long_df[\"classifier\"].astype(str) + \" | \" + out_long_df[\"target class\"]\n",
    "sns.barplot(data=out_long_df.sort_values(by=[\"group\"]), x=\"group\", y=\"f1 / baseline f1\",\n",
    "           palette = palette[2:], ax=ax3)\n",
    "\n",
    "for i in range(4):\n",
    "    ax2.containers[0][i].set_hatch(hatches[i+2])\n",
    "    ax3.containers[0][i].set_hatch(hatches[i+2])\n",
    "\n",
    "ax3.set_ylabel(\"\")\n",
    "ax3.set_xlabel(\"Random Train-Test-Split\")\n",
    "ax3.set_xticklabels([\"\",\"\", \"\",\"\"])\n",
    "\n",
    "for ax in [ax1, ax2, ax3]:\n",
    "    ax.grid(True, axis=\"y\")\n",
    "ax1.set_ylabel(\"F1 score ratio to baseline [%]\")\n",
    "\n",
    "plt.tight_layout()\n",
    "plt.savefig(\"figures/outperformance.pdf\")"
   ]
  },
  {
   "cell_type": "code",
   "execution_count": 156,
   "id": "faeca1df-d6bd-4972-a692-c3295fef086c",
   "metadata": {},
   "outputs": [
    {
     "data": {
      "text/plain": [
       "array(['Random Forest | tap water', 'Random Forest | water',\n",
       "       'CNN | tap water', 'CNN | water'], dtype=object)"
      ]
     },
     "execution_count": 156,
     "metadata": {},
     "output_type": "execute_result"
    }
   ],
   "source": [
    "out_long_df.group.unique()"
   ]
  },
  {
   "cell_type": "code",
   "execution_count": 157,
   "id": "0de1d90d-0b50-4411-93ab-de70b5b8ad6b",
   "metadata": {},
   "outputs": [
    {
     "data": {
      "text/html": [
       "<div>\n",
       "<style scoped>\n",
       "    .dataframe tbody tr th:only-of-type {\n",
       "        vertical-align: middle;\n",
       "    }\n",
       "\n",
       "    .dataframe tbody tr th {\n",
       "        vertical-align: top;\n",
       "    }\n",
       "\n",
       "    .dataframe thead th {\n",
       "        text-align: right;\n",
       "    }\n",
       "</style>\n",
       "<table border=\"1\" class=\"dataframe\">\n",
       "  <thead>\n",
       "    <tr style=\"text-align: right;\">\n",
       "      <th></th>\n",
       "      <th></th>\n",
       "      <th>f1 / baseline f1</th>\n",
       "    </tr>\n",
       "    <tr>\n",
       "      <th>target class</th>\n",
       "      <th>classifier</th>\n",
       "      <th></th>\n",
       "    </tr>\n",
       "  </thead>\n",
       "  <tbody>\n",
       "    <tr>\n",
       "      <th rowspan=\"2\" valign=\"top\">tap water</th>\n",
       "      <th>CNN</th>\n",
       "      <td>668.293308</td>\n",
       "    </tr>\n",
       "    <tr>\n",
       "      <th>Random Forest</th>\n",
       "      <td>655.681624</td>\n",
       "    </tr>\n",
       "    <tr>\n",
       "      <th rowspan=\"2\" valign=\"top\">water</th>\n",
       "      <th>CNN</th>\n",
       "      <td>409.628199</td>\n",
       "    </tr>\n",
       "    <tr>\n",
       "      <th>Random Forest</th>\n",
       "      <td>391.062911</td>\n",
       "    </tr>\n",
       "  </tbody>\n",
       "</table>\n",
       "</div>"
      ],
      "text/plain": [
       "                            f1 / baseline f1\n",
       "target class classifier                     \n",
       "tap water    CNN                  668.293308\n",
       "             Random Forest        655.681624\n",
       "water        CNN                  409.628199\n",
       "             Random Forest        391.062911"
      ]
     },
     "execution_count": 157,
     "metadata": {},
     "output_type": "execute_result"
    }
   ],
   "source": [
    "out_long_df.groupby([\"target class\", \"classifier\"]).mean()"
   ]
  },
  {
   "cell_type": "code",
   "execution_count": null,
   "id": "c78f5f05-aa63-40c1-905d-f645439a74e5",
   "metadata": {},
   "outputs": [],
   "source": []
  },
  {
   "cell_type": "code",
   "execution_count": 158,
   "id": "b366f1e5-1d06-4638-868f-242a1ac17c29",
   "metadata": {},
   "outputs": [
    {
     "name": "stdout",
     "output_type": "stream",
     "text": [
      "\\begin{tabular}{llrrrr}\n",
      " &  & f1 & acc & precision & recall \\\\\n",
      "target & classifier &  &  &  &  \\\\\n",
      "\\multirow[c]{3}{*}{tap water} & Baseline & 0.11 & 0.50 & 0.07 & 0.51 \\\\\n",
      " & CNN & 0.48 & 0.92 & 0.48 & 0.54 \\\\\n",
      " & Random Forest & 0.47 & 0.95 & 0.76 & 0.35 \\\\\n",
      "\\multirow[c]{3}{*}{water} & Baseline & 0.17 & 0.50 & 0.10 & 0.51 \\\\\n",
      " & CNN & 0.52 & 0.89 & 0.51 & 0.60 \\\\\n",
      " & Random Forest & 0.45 & 0.92 & 0.77 & 0.33 \\\\\n",
      "\\end{tabular}\n",
      "\n"
     ]
    }
   ],
   "source": [
    "print(data.groupby([\"target\", \"classifier\"]).mean().style.format(precision=2).to_latex())"
   ]
  },
  {
   "cell_type": "code",
   "execution_count": null,
   "id": "c8784b92-bf30-4da7-8a59-f6728d8bd592",
   "metadata": {},
   "outputs": [],
   "source": []
  },
  {
   "cell_type": "code",
   "execution_count": 160,
   "id": "744f7e53-c694-4066-8284-cdcd5dc4f51f",
   "metadata": {},
   "outputs": [],
   "source": [
    "sns.set_context(rc = {'patch.linewidth': 0.1})"
   ]
  },
  {
   "cell_type": "code",
   "execution_count": 176,
   "id": "8bb6d48c-c8f8-4e66-827d-458423171fa7",
   "metadata": {},
   "outputs": [
    {
     "data": {
      "image/png": "[encoded data removed]",
      "text/plain": [
       "<Figure size 1200x450 with 6 Axes>"
      ]
     },
     "metadata": {},
     "output_type": "display_data"
    }
   ],
   "source": [
    "res_df_lo[\"classifier\"] = \"Random Forest\"\n",
    "res_df_lo_cnn[\"classifier\"] = \"CNN\"\n",
    "data = pd.concat([res_df_lo, res_df_lo_cnn, all_chance_df[all_chance_df.strategy==\"uniform\"]])\n",
    "\n",
    "\n",
    "\n",
    "data[\"group\"] = data[\"classifier\"].astype(str) + \" | \" + data[\"target\"]\n",
    "data[\"Participant\"] = data[\"test_part\"].apply(lambda x: f\"P{str(int(x)+1).zfill(2)}\")\n",
    "classifiers = data[\"group\"].unique()\n",
    "fig, axes = plt.subplots(2, 3, width_ratios=[4, 1, 1], figsize=(12,4.5), sharey=\"row\")\n",
    "ax1,ax2,ax3 = axes[0]\n",
    "\n",
    "sns.barplot(data=data.sort_values(by=[\"group\", \"Participant\"]), x=\"Participant\", y=\"f1\", hue=\"group\", palette = sns.color_palette(\"colorblind\", len(classifiers)), ax=ax1, alpha=.999)\n",
    "\n",
    "\n",
    "# Define a hatch pattern per classifier (hue)\n",
    "hatches = [\"...\", \".....\", \"\\\\\\\\\", \"\\\\\\\\\\\\\\\\\", \"//\", \"////\"]  # Customize as needed\n",
    "\n",
    "palette = sns.color_palette(\"colorblind\", len(classifiers))\n",
    "\n",
    "# Apply hatches to the bars\n",
    "for bars, hatch in zip(ax1.containers, hatches):\n",
    "    for bar in bars:\n",
    "        bar.set_hatch(hatch)\n",
    "\n",
    "# Create custom legend handles\n",
    "legend_handles = [\n",
    "    Patch(facecolor=palette[i], hatch=hatches[i], label=clf)\n",
    "    for i, clf in enumerate(sorted(classifiers))\n",
    "]\n",
    "\n",
    "# Set the new legend\n",
    "ax1.get_legend().remove()\n",
    "ax1.set_ylabel(\"F1 score\")\n",
    "\n",
    "sns.barplot(data=data.sort_values(by=[\"group\", \"Participant\"]), y=\"f1\", x=\"group\", palette = sns.color_palette(\"colorblind\", len(classifiers)), ax=ax2, alpha=.999)\n",
    "\n",
    "ax2.set_ylabel(\"\")\n",
    "ax2.set_xlabel(\"Mean\")\n",
    "ax2.set_xticklabels([\"\",\"\", \"\",\"\", \"\", \"\"])\n",
    "\n",
    "ax2.set_xlabel(\"LOSO-CV Agg.\")\n",
    "\n",
    "\n",
    "sns.barplot(data=res_df.sort_values(by=[\"group\"]), y=\"f1\", x=\"group\", palette = sns.color_palette(\"colorblind\", len(classifiers)), ax=ax3, alpha=.999)\n",
    "\n",
    "ax3.legend(handles=legend_handles, title=\"Classifier | Target Class\", loc='upper left',\n",
    "    borderaxespad=0, bbox_to_anchor=(1.02,1))\n",
    "ax3.set_ylabel(\"\")\n",
    "ax3.set_xlabel(\"Random Train-Test-Split\")\n",
    "ax3.set_xticklabels([\"\",\"\", \"\",\"\", \"\", \"\"])\n",
    "for i in range(6):\n",
    "    ax2.containers[0][i].set_hatch(hatches[i])\n",
    "    ax3.containers[0][i].set_hatch(hatches[i])\n",
    "\n",
    "for ax in [ax1, ax2, ax3]:\n",
    "    ax.grid(True, axis=\"y\")\n",
    "\n",
    "\n",
    "\n",
    "\n",
    "\n",
    "tmp_df = data.groupby([\"Participant\", \"target\", \"classifier\"]).mean(numeric_only=True)[\"f1\"]\n",
    "tmp_df = pd.DataFrame(tmp_df).T\n",
    "\n",
    "outperf_res_long_lo = []\n",
    "\n",
    "for i in range(9):\n",
    "    part = f\"P{str(i+1).zfill(2)}\"\n",
    "    tap = (tmp_df[part][\"tap water\"][\"Random Forest\"] / tmp_df[part][\"tap water\"][\"Baseline\"]).iloc[0] * 100\n",
    "    water = (tmp_df[part][\"water\"][\"Random Forest\"] / tmp_df[part][\"water\"][\"Baseline\"]).iloc[0] * 100\n",
    "    outperf_res_long_lo.append({\"Participant\" : part, \"target class\" : \"tap water\", \"f1 / baseline f1\" : tap, \"classifier\": \"Random Forest\"})\n",
    "    outperf_res_long_lo.append({\"Participant\" : part, \"target class\" : \"water\", \"f1 / baseline f1\"  : water, \"classifier\": \"Random Forest\"})\n",
    "\n",
    "    tap = (tmp_df[part][\"tap water\"][\"CNN\"] / tmp_df[part][\"tap water\"][\"Baseline\"]).iloc[0] * 100\n",
    "    water = (tmp_df[part][\"water\"][\"CNN\"] / tmp_df[part][\"water\"][\"Baseline\"]).iloc[0] * 100\n",
    "    outperf_res_long_lo.append({\"Participant\" : part, \"target class\" : \"tap water\", \"f1 / baseline f1\" : tap, \"classifier\": \"CNN\"})\n",
    "    outperf_res_long_lo.append({\"Participant\" : part, \"target class\" : \"water\", \"f1 / baseline f1\"  : water, \"classifier\": \"CNN\"})\n",
    "\n",
    "    \n",
    "out_long_df = pd.DataFrame(outperf_res_long_lo)\n",
    "\n",
    "out_long_df[\"group\"] = out_long_df[\"classifier\"].astype(str) + \" | \" + out_long_df[\"target class\"]\n",
    "\n",
    "ax1,ax2,ax3 = axes[1]\n",
    "sns.barplot(data=out_long_df.sort_values(by=[\"group\", \"Participant\"]), x=\"Participant\", hue=\"group\", y=\"f1 / baseline f1\",\n",
    "           palette = palette[2:], ax=ax1, alpha=.999)\n",
    "\n",
    "palette = sns.color_palette(\"colorblind\", len(classifiers))\n",
    "\n",
    "# Apply hatches to the bars\n",
    "for bars, hatch in zip(ax1.containers, hatches[2:]):\n",
    "    for bar in bars:\n",
    "        bar.set_hatch(hatch)\n",
    "\n",
    "# Create custom legend handles\n",
    "legend_handles = [\n",
    "    Patch(facecolor=palette[2:][i], hatch=hatches[2:][i], label=clf)\n",
    "    for i, clf in enumerate(out_long_df.sort_values(by=[\"group\", \"Participant\"]).group.unique())\n",
    "]\n",
    "\n",
    "# Set the new legend\n",
    "ax1.get_legend().remove()\n",
    "\n",
    "\n",
    "\n",
    "sns.barplot(data=out_long_df.sort_values(by=[\"group\", \"Participant\"]), x=\"group\", y=\"f1 / baseline f1\",\n",
    "           palette = palette[2:], ax=ax2, alpha=.999)\n",
    "ax2.set_ylabel(\"\")\n",
    "ax2.set_xlabel(\"LOSO-CV Agg.\")\n",
    "ax2.set_xticklabels([\"\",\"\", \"\",\"\"])\n",
    "\n",
    "\n",
    "\n",
    "#ax3.legend(handles=legend_handles, title=\"Classifier | Target Class\", loc='upper left',\n",
    "#    borderaxespad=0, bbox_to_anchor=(1.03,1))\n",
    "\n",
    "tmp_df = res_df.groupby([\"target\", \"classifier\"]).mean(numeric_only=True)[\"f1\"]\n",
    "tmp_df = pd.DataFrame(tmp_df).T\n",
    "tmp_df\n",
    "\n",
    "outperf_res_long = []\n",
    "\n",
    "tap = (tmp_df[\"tap water\"][\"Random Forest\"] / tmp_df[\"tap water\"][\"Baseline\"]).iloc[0] * 100\n",
    "water = (tmp_df[\"water\"][\"Random Forest\"] / tmp_df[\"water\"][\"Baseline\"]).iloc[0] * 100\n",
    "outperf_res_long.append({\"target class\" : \"tap water\", \"f1 / baseline f1\" : tap, \"classifier\": \"Random Forest\"})\n",
    "outperf_res_long.append({\"target class\" : \"water\", \"f1 / baseline f1\"  : water, \"classifier\": \"Random Forest\"})\n",
    "\n",
    "tap = (tmp_df[\"tap water\"][\"CNN\"] / tmp_df[\"tap water\"][\"Baseline\"]).iloc[0] * 100\n",
    "water = (tmp_df[\"water\"][\"CNN\"] / tmp_df[\"water\"][\"Baseline\"]).iloc[0] * 100\n",
    "outperf_res_long.append({\"target class\" : \"tap water\", \"f1 / baseline f1\" : tap, \"classifier\": \"CNN\"})\n",
    "outperf_res_long.append({\"target class\" : \"water\", \"f1 / baseline f1\"  : water, \"classifier\": \"CNN\"})\n",
    "\n",
    "    \n",
    "out_long_df = pd.DataFrame(outperf_res_long)\n",
    "out_long_df[\"group\"] = out_long_df[\"classifier\"].astype(str) + \" | \" + out_long_df[\"target class\"]\n",
    "sns.barplot(data=out_long_df.sort_values(by=[\"group\"]), x=\"group\", y=\"f1 / baseline f1\",\n",
    "           palette = palette[2:], ax=ax3, alpha=.999)\n",
    "\n",
    "for i in range(4):\n",
    "    ax2.containers[0][i].set_hatch(hatches[i+2])\n",
    "    ax3.containers[0][i].set_hatch(hatches[i+2])\n",
    "\n",
    "ax3.set_ylabel(\"\")\n",
    "ax3.set_xlabel(\"Random Train-Test-Split\")\n",
    "ax3.set_xticklabels([\"\",\"\", \"\",\"\"])\n",
    "\n",
    "for ax in [ax1, ax2, ax3]:\n",
    "    ax.grid(True, axis=\"y\")\n",
    "ax1.set_ylabel(\"F1 score ratio to baseline [%]\")\n",
    "\n",
    "plt.tight_layout()\n",
    "plt.savefig(\"figures/all_perf.pdf\")"
   ]
  },
  {
   "cell_type": "code",
   "execution_count": null,
   "id": "563e96e4-7820-43ab-9f69-c35e93e1dbda",
   "metadata": {},
   "outputs": [],
   "source": []
  },
  {
   "cell_type": "code",
   "execution_count": 163,
   "id": "b6dbe6d7-1b07-4566-ba26-79dd57c1f086",
   "metadata": {},
   "outputs": [
    {
     "data": {
      "text/html": [
       "<div>\n",
       "<style scoped>\n",
       "    .dataframe tbody tr th:only-of-type {\n",
       "        vertical-align: middle;\n",
       "    }\n",
       "\n",
       "    .dataframe tbody tr th {\n",
       "        vertical-align: top;\n",
       "    }\n",
       "\n",
       "    .dataframe thead th {\n",
       "        text-align: right;\n",
       "    }\n",
       "</style>\n",
       "<table border=\"1\" class=\"dataframe\">\n",
       "  <thead>\n",
       "    <tr style=\"text-align: right;\">\n",
       "      <th></th>\n",
       "      <th></th>\n",
       "      <th>f1</th>\n",
       "      <th>acc</th>\n",
       "      <th>precision</th>\n",
       "      <th>recall</th>\n",
       "    </tr>\n",
       "    <tr>\n",
       "      <th>target</th>\n",
       "      <th>classifier</th>\n",
       "      <th></th>\n",
       "      <th></th>\n",
       "      <th></th>\n",
       "      <th></th>\n",
       "    </tr>\n",
       "  </thead>\n",
       "  <tbody>\n",
       "    <tr>\n",
       "      <th rowspan=\"3\" valign=\"top\">tap water</th>\n",
       "      <th>Baseline</th>\n",
       "      <td>0.112712</td>\n",
       "      <td>0.505474</td>\n",
       "      <td>0.063683</td>\n",
       "      <td>0.489853</td>\n",
       "    </tr>\n",
       "    <tr>\n",
       "      <th>CNN</th>\n",
       "      <td>0.753247</td>\n",
       "      <td>0.968456</td>\n",
       "      <td>0.746695</td>\n",
       "      <td>0.759915</td>\n",
       "    </tr>\n",
       "    <tr>\n",
       "      <th>Random Forest</th>\n",
       "      <td>0.739032</td>\n",
       "      <td>0.972229</td>\n",
       "      <td>0.921162</td>\n",
       "      <td>0.617109</td>\n",
       "    </tr>\n",
       "    <tr>\n",
       "      <th rowspan=\"3\" valign=\"top\">water</th>\n",
       "      <th>Baseline</th>\n",
       "      <td>0.172930</td>\n",
       "      <td>0.501256</td>\n",
       "      <td>0.104647</td>\n",
       "      <td>0.497645</td>\n",
       "    </tr>\n",
       "    <tr>\n",
       "      <th>CNN</th>\n",
       "      <td>0.708370</td>\n",
       "      <td>0.940591</td>\n",
       "      <td>0.729583</td>\n",
       "      <td>0.688356</td>\n",
       "    </tr>\n",
       "    <tr>\n",
       "      <th>Random Forest</th>\n",
       "      <td>0.676265</td>\n",
       "      <td>0.947321</td>\n",
       "      <td>0.920514</td>\n",
       "      <td>0.534498</td>\n",
       "    </tr>\n",
       "  </tbody>\n",
       "</table>\n",
       "</div>"
      ],
      "text/plain": [
       "                               f1       acc  precision    recall\n",
       "target    classifier                                            \n",
       "tap water Baseline       0.112712  0.505474   0.063683  0.489853\n",
       "          CNN            0.753247  0.968456   0.746695  0.759915\n",
       "          Random Forest  0.739032  0.972229   0.921162  0.617109\n",
       "water     Baseline       0.172930  0.501256   0.104647  0.497645\n",
       "          CNN            0.708370  0.940591   0.729583  0.688356\n",
       "          Random Forest  0.676265  0.947321   0.920514  0.534498"
      ]
     },
     "execution_count": 163,
     "metadata": {},
     "output_type": "execute_result"
    }
   ],
   "source": [
    "res_df.groupby([\"target\", \"classifier\"]).mean()"
   ]
  },
  {
   "cell_type": "code",
   "execution_count": 164,
   "id": "3e4a0fd4-1059-4323-9e40-b70d752198b6",
   "metadata": {},
   "outputs": [
    {
     "data": {
      "text/html": [
       "<div>\n",
       "<style scoped>\n",
       "    .dataframe tbody tr th:only-of-type {\n",
       "        vertical-align: middle;\n",
       "    }\n",
       "\n",
       "    .dataframe tbody tr th {\n",
       "        vertical-align: top;\n",
       "    }\n",
       "\n",
       "    .dataframe thead th {\n",
       "        text-align: right;\n",
       "    }\n",
       "</style>\n",
       "<table border=\"1\" class=\"dataframe\">\n",
       "  <thead>\n",
       "    <tr style=\"text-align: right;\">\n",
       "      <th></th>\n",
       "      <th>target class</th>\n",
       "      <th>f1 / baseline f1</th>\n",
       "      <th>classifier</th>\n",
       "      <th>group</th>\n",
       "    </tr>\n",
       "  </thead>\n",
       "  <tbody>\n",
       "    <tr>\n",
       "      <th>0</th>\n",
       "      <td>tap water</td>\n",
       "      <td>655.681624</td>\n",
       "      <td>Random Forest</td>\n",
       "      <td>Random Forest | tap water</td>\n",
       "    </tr>\n",
       "    <tr>\n",
       "      <th>1</th>\n",
       "      <td>water</td>\n",
       "      <td>391.062911</td>\n",
       "      <td>Random Forest</td>\n",
       "      <td>Random Forest | water</td>\n",
       "    </tr>\n",
       "    <tr>\n",
       "      <th>2</th>\n",
       "      <td>tap water</td>\n",
       "      <td>668.293308</td>\n",
       "      <td>CNN</td>\n",
       "      <td>CNN | tap water</td>\n",
       "    </tr>\n",
       "    <tr>\n",
       "      <th>3</th>\n",
       "      <td>water</td>\n",
       "      <td>409.628199</td>\n",
       "      <td>CNN</td>\n",
       "      <td>CNN | water</td>\n",
       "    </tr>\n",
       "  </tbody>\n",
       "</table>\n",
       "</div>"
      ],
      "text/plain": [
       "  target class  f1 / baseline f1     classifier                      group\n",
       "0    tap water        655.681624  Random Forest  Random Forest | tap water\n",
       "1        water        391.062911  Random Forest      Random Forest | water\n",
       "2    tap water        668.293308            CNN            CNN | tap water\n",
       "3        water        409.628199            CNN                CNN | water"
      ]
     },
     "execution_count": 164,
     "metadata": {},
     "output_type": "execute_result"
    }
   ],
   "source": [
    "out_long_df"
   ]
  },
  {
   "cell_type": "code",
   "execution_count": 167,
   "id": "6a2aa7dd-3ec2-4b24-90b3-0939cb566d48",
   "metadata": {},
   "outputs": [
    {
     "data": {
      "text/html": [
       "<div>\n",
       "<style scoped>\n",
       "    .dataframe tbody tr th:only-of-type {\n",
       "        vertical-align: middle;\n",
       "    }\n",
       "\n",
       "    .dataframe tbody tr th {\n",
       "        vertical-align: top;\n",
       "    }\n",
       "\n",
       "    .dataframe thead th {\n",
       "        text-align: right;\n",
       "    }\n",
       "</style>\n",
       "<table border=\"1\" class=\"dataframe\">\n",
       "  <thead>\n",
       "    <tr style=\"text-align: right;\">\n",
       "      <th></th>\n",
       "      <th></th>\n",
       "      <th>f1</th>\n",
       "      <th>acc</th>\n",
       "      <th>precision</th>\n",
       "      <th>recall</th>\n",
       "    </tr>\n",
       "    <tr>\n",
       "      <th>target</th>\n",
       "      <th>classifier</th>\n",
       "      <th></th>\n",
       "      <th></th>\n",
       "      <th></th>\n",
       "      <th></th>\n",
       "    </tr>\n",
       "  </thead>\n",
       "  <tbody>\n",
       "    <tr>\n",
       "      <th rowspan=\"3\" valign=\"top\">tap water</th>\n",
       "      <th>Baseline</th>\n",
       "      <td>0.114341</td>\n",
       "      <td>0.502357</td>\n",
       "      <td>0.065156</td>\n",
       "      <td>0.512323</td>\n",
       "    </tr>\n",
       "    <tr>\n",
       "      <th>CNN</th>\n",
       "      <td>0.483415</td>\n",
       "      <td>0.924332</td>\n",
       "      <td>0.479774</td>\n",
       "      <td>0.537656</td>\n",
       "    </tr>\n",
       "    <tr>\n",
       "      <th>Random Forest</th>\n",
       "      <td>0.465995</td>\n",
       "      <td>0.954005</td>\n",
       "      <td>0.757845</td>\n",
       "      <td>0.349648</td>\n",
       "    </tr>\n",
       "    <tr>\n",
       "      <th rowspan=\"3\" valign=\"top\">water</th>\n",
       "      <th>Baseline</th>\n",
       "      <td>0.166864</td>\n",
       "      <td>0.502153</td>\n",
       "      <td>0.101110</td>\n",
       "      <td>0.510832</td>\n",
       "    </tr>\n",
       "    <tr>\n",
       "      <th>CNN</th>\n",
       "      <td>0.517137</td>\n",
       "      <td>0.888612</td>\n",
       "      <td>0.508938</td>\n",
       "      <td>0.600386</td>\n",
       "    </tr>\n",
       "    <tr>\n",
       "      <th>Random Forest</th>\n",
       "      <td>0.445968</td>\n",
       "      <td>0.924042</td>\n",
       "      <td>0.774902</td>\n",
       "      <td>0.333816</td>\n",
       "    </tr>\n",
       "  </tbody>\n",
       "</table>\n",
       "</div>"
      ],
      "text/plain": [
       "                               f1       acc  precision    recall\n",
       "target    classifier                                            \n",
       "tap water Baseline       0.114341  0.502357   0.065156  0.512323\n",
       "          CNN            0.483415  0.924332   0.479774  0.537656\n",
       "          Random Forest  0.465995  0.954005   0.757845  0.349648\n",
       "water     Baseline       0.166864  0.502153   0.101110  0.510832\n",
       "          CNN            0.517137  0.888612   0.508938  0.600386\n",
       "          Random Forest  0.445968  0.924042   0.774902  0.333816"
      ]
     },
     "execution_count": 167,
     "metadata": {},
     "output_type": "execute_result"
    }
   ],
   "source": [
    "data = pd.concat([res_df_lo, res_df_lo_cnn, all_chance_df[all_chance_df.strategy==\"uniform\"]])\n",
    "data.groupby([\"target\", \"classifier\"]).mean(numeric_only=True)"
   ]
  },
  {
   "cell_type": "code",
   "execution_count": 172,
   "id": "85fa9ac5-6993-479a-ac49-0caf4bca38d0",
   "metadata": {},
   "outputs": [
    {
     "data": {
      "text/html": [
       "<div>\n",
       "<style scoped>\n",
       "    .dataframe tbody tr th:only-of-type {\n",
       "        vertical-align: middle;\n",
       "    }\n",
       "\n",
       "    .dataframe tbody tr th {\n",
       "        vertical-align: top;\n",
       "    }\n",
       "\n",
       "    .dataframe thead th {\n",
       "        text-align: right;\n",
       "    }\n",
       "</style>\n",
       "<table border=\"1\" class=\"dataframe\">\n",
       "  <thead>\n",
       "    <tr style=\"text-align: right;\">\n",
       "      <th></th>\n",
       "      <th></th>\n",
       "      <th>f1 / baseline f1</th>\n",
       "    </tr>\n",
       "    <tr>\n",
       "      <th>classifier</th>\n",
       "      <th>target class</th>\n",
       "      <th></th>\n",
       "    </tr>\n",
       "  </thead>\n",
       "  <tbody>\n",
       "    <tr>\n",
       "      <th rowspan=\"2\" valign=\"top\">CNN</th>\n",
       "      <th>tap water</th>\n",
       "      <td>446.826160</td>\n",
       "    </tr>\n",
       "    <tr>\n",
       "      <th>water</th>\n",
       "      <td>314.561805</td>\n",
       "    </tr>\n",
       "    <tr>\n",
       "      <th rowspan=\"2\" valign=\"top\">Random Forest</th>\n",
       "      <th>tap water</th>\n",
       "      <td>427.389654</td>\n",
       "    </tr>\n",
       "    <tr>\n",
       "      <th>water</th>\n",
       "      <td>280.979883</td>\n",
       "    </tr>\n",
       "  </tbody>\n",
       "</table>\n",
       "</div>"
      ],
      "text/plain": [
       "                            f1 / baseline f1\n",
       "classifier    target class                  \n",
       "CNN           tap water           446.826160\n",
       "              water               314.561805\n",
       "Random Forest tap water           427.389654\n",
       "              water               280.979883"
      ]
     },
     "execution_count": 172,
     "metadata": {},
     "output_type": "execute_result"
    }
   ],
   "source": [
    "ratio_lo_df = pd.DataFrame(outperf_res_long_lo)\n",
    "ratio_lo_df.groupby([\"classifier\", \"target class\"]).mean()"
   ]
  },
  {
   "cell_type": "code",
   "execution_count": 179,
   "id": "d75bb7ef-b7f1-4ce9-9543-ff6f079bbf82",
   "metadata": {},
   "outputs": [
    {
     "data": {
      "text/html": [
       "<div>\n",
       "<style scoped>\n",
       "    .dataframe tbody tr th:only-of-type {\n",
       "        vertical-align: middle;\n",
       "    }\n",
       "\n",
       "    .dataframe tbody tr th {\n",
       "        vertical-align: top;\n",
       "    }\n",
       "\n",
       "    .dataframe thead th {\n",
       "        text-align: right;\n",
       "    }\n",
       "</style>\n",
       "<table border=\"1\" class=\"dataframe\">\n",
       "  <thead>\n",
       "    <tr style=\"text-align: right;\">\n",
       "      <th></th>\n",
       "      <th></th>\n",
       "      <th>f1</th>\n",
       "      <th>acc</th>\n",
       "      <th>precision</th>\n",
       "      <th>recall</th>\n",
       "    </tr>\n",
       "    <tr>\n",
       "      <th>classifier</th>\n",
       "      <th>target</th>\n",
       "      <th></th>\n",
       "      <th></th>\n",
       "      <th></th>\n",
       "      <th></th>\n",
       "    </tr>\n",
       "  </thead>\n",
       "  <tbody>\n",
       "    <tr>\n",
       "      <th rowspan=\"2\" valign=\"top\">Baseline</th>\n",
       "      <th>tap water</th>\n",
       "      <td>0.114341</td>\n",
       "      <td>0.502357</td>\n",
       "      <td>0.065156</td>\n",
       "      <td>0.512323</td>\n",
       "    </tr>\n",
       "    <tr>\n",
       "      <th>water</th>\n",
       "      <td>0.166864</td>\n",
       "      <td>0.502153</td>\n",
       "      <td>0.101110</td>\n",
       "      <td>0.510832</td>\n",
       "    </tr>\n",
       "    <tr>\n",
       "      <th rowspan=\"2\" valign=\"top\">CNN</th>\n",
       "      <th>tap water</th>\n",
       "      <td>0.483415</td>\n",
       "      <td>0.924332</td>\n",
       "      <td>0.479774</td>\n",
       "      <td>0.537656</td>\n",
       "    </tr>\n",
       "    <tr>\n",
       "      <th>water</th>\n",
       "      <td>0.517137</td>\n",
       "      <td>0.888612</td>\n",
       "      <td>0.508938</td>\n",
       "      <td>0.600386</td>\n",
       "    </tr>\n",
       "    <tr>\n",
       "      <th rowspan=\"2\" valign=\"top\">Random Forest</th>\n",
       "      <th>tap water</th>\n",
       "      <td>0.465995</td>\n",
       "      <td>0.954005</td>\n",
       "      <td>0.757845</td>\n",
       "      <td>0.349648</td>\n",
       "    </tr>\n",
       "    <tr>\n",
       "      <th>water</th>\n",
       "      <td>0.445968</td>\n",
       "      <td>0.924042</td>\n",
       "      <td>0.774902</td>\n",
       "      <td>0.333816</td>\n",
       "    </tr>\n",
       "  </tbody>\n",
       "</table>\n",
       "</div>"
      ],
      "text/plain": [
       "                               f1       acc  precision    recall\n",
       "classifier    target                                            \n",
       "Baseline      tap water  0.114341  0.502357   0.065156  0.512323\n",
       "              water      0.166864  0.502153   0.101110  0.510832\n",
       "CNN           tap water  0.483415  0.924332   0.479774  0.537656\n",
       "              water      0.517137  0.888612   0.508938  0.600386\n",
       "Random Forest tap water  0.465995  0.954005   0.757845  0.349648\n",
       "              water      0.445968  0.924042   0.774902  0.333816"
      ]
     },
     "execution_count": 179,
     "metadata": {},
     "output_type": "execute_result"
    }
   ],
   "source": [
    "data.groupby([\"classifier\", \"target\"]).mean()"
   ]
  },
  {
   "cell_type": "markdown",
   "id": "922df419-8329-4951-b9ee-a4e457946e33",
   "metadata": {},
   "source": [
    "### Export pytorch model"
   ]
  },
  {
   "cell_type": "code",
   "execution_count": null,
   "id": "ab2114ea-443e-45ef-b74e-1c7478c34eab",
   "metadata": {
    "scrolled": true
   },
   "outputs": [],
   "source": [
    "X_all_tap_mel, y_all_tap_mel = load_files(all_files, target=\"tap water\", reset=False, features=\"logmel\")\n",
    "device = torch.device(\"cuda\" if torch.cuda.is_available() else \"cpu\")\n",
    "X_train, X_val, y_train, y_val = tts(X_all_tap_mel, y_all_tap_mel, test_size=0.1)\n",
    "del X_all_tap_mel\n",
    "y_train_int = y_train.astype(np.int64)\n",
    "class_counts = np.bincount(y_train_int)\n",
    "class_weights = 1.0 / class_counts\n",
    "class_weights = class_weights * (len(y_train) / class_weights.sum())  # optional normalization\n",
    "class_weights = torch.tensor(class_weights, dtype=torch.float32).to(device)\n",
    "\n",
    "# Create dataset and dataloader\n",
    "train_dataset = LogMelDataset(X_train, y_train)\n",
    "val_dataset = LogMelDataset(X_val, y_val)\n",
    "\n",
    "train_loader = DataLoader(train_dataset, batch_size=64, shuffle=True)\n",
    "val_loader = DataLoader(val_dataset, batch_size=64)\n",
    "\n",
    "device = torch.device(\"cuda\" if torch.cuda.is_available() else \"cpu\")\n",
    "print(\"Using device:\", device)\n",
    "\n",
    "model = CNNClassifier(num_classes=len(np.unique(y_all_tap_mel))).to(device)\n",
    "\n",
    "criterion = nn.CrossEntropyLoss(weight=class_weights)\n",
    "optimizer = torch.optim.Adam(model.parameters(), lr=0.001)\n",
    "\n",
    "es_steps = 25\n",
    "\n",
    "num_epochs = 300\n",
    "\n",
    "best_f1 = 0\n",
    "best_model_state = None\n",
    "steps = 0\n",
    "\n",
    "for epoch in tqdm(range(num_epochs)):\n",
    "    model.train()\n",
    "    running_loss = 0.0\n",
    "    correct = 0\n",
    "    total = 0\n",
    "\n",
    "    for inputs, labels in train_loader:\n",
    "        inputs, labels = inputs.to(device), labels.to(device)\n",
    "\n",
    "        optimizer.zero_grad()\n",
    "        outputs = model(inputs)\n",
    "        loss = criterion(outputs, labels)\n",
    "        loss.backward()\n",
    "        optimizer.step()\n",
    "\n",
    "        running_loss += loss.item() * inputs.size(0)\n",
    "        _, predicted = torch.max(outputs.data, 1)\n",
    "        total += labels.size(0)\n",
    "        correct += (predicted == labels).sum().item()\n",
    "\n",
    "    train_acc = 100 * correct / total\n",
    "    train_loss = running_loss / total\n",
    "\n",
    "    ## early stopping and validation loss:\n",
    "    acc, f1, precision, recall, _, _ = evaluate(model, val_loader, device, False)\n",
    "    if f1 > best_f1:\n",
    "        best_f1 = f1\n",
    "        best_model_state = model.state_dict()  # reference to current weights\n",
    "        # Clone the weights so they don’t get overwritten\n",
    "        best_model_state = {k: v.clone() for k, v in best_model_state.items()}\n",
    "        steps = 0\n",
    "    elif steps >= es_steps:\n",
    "        model.load_state_dict(best_model_state)\n",
    "        print(f\"stoping early and returning to best model with val F1 of {best_f1 * 100:.2f}\")\n",
    "        break\n",
    "    else: \n",
    "        steps += 1\n",
    "    \n",
    "\n",
    "    print(f\"Epoch {epoch+1}/{num_epochs} | Loss: {train_loss:.4f} | Accuracy: {train_acc:.2f}% | Val ACC: {acc*100:.2f}| Val F1: {f1*100:.2f} | Steps: {steps}\")"
   ]
  },
  {
   "cell_type": "code",
   "execution_count": null,
   "id": "57648633-343a-44cd-9e0e-d84bb984b494",
   "metadata": {
    "scrolled": true
   },
   "outputs": [],
   "source": [
    "with shelve.open(\"shelves/dl_res\") as shf:\n",
    "    model = shf[\"pretrained_model\"] "
   ]
  },
  {
   "cell_type": "code",
   "execution_count": null,
   "id": "0c3c97e8-da87-435b-9248-01816d47a00e",
   "metadata": {},
   "outputs": [],
   "source": [
    "torch.serialization.add_safe_globals([CNNClassifier])\n",
    "torch.serialization.add_safe_globals([torch.nn.modules.conv.Conv2d])\n",
    "torch.serialization.add_safe_globals([torch.nn.modules.pooling.MaxPool2d])\n",
    "torch.serialization.add_safe_globals([torch.nn.modules.linear.Linear])"
   ]
  },
  {
   "cell_type": "code",
   "execution_count": null,
   "id": "2f17b5de-f5b7-4f92-820d-c2e041c29a6f",
   "metadata": {},
   "outputs": [],
   "source": [
    "model = torch.load(\"pretrained_model.pt\", weights_only=True, map_location=torch.device(\"cpu\"))"
   ]
  },
  {
   "cell_type": "code",
   "execution_count": null,
   "id": "32808c82-e394-4f2b-9f21-cb7b4a187013",
   "metadata": {},
   "outputs": [],
   "source": [
    "torch.save(model, \"pretrained_model.pt\")"
   ]
  },
  {
   "cell_type": "code",
   "execution_count": null,
   "id": "18daf893-2f22-4249-9543-9ef3dd6554e9",
   "metadata": {},
   "outputs": [],
   "source": [
    "from executorch.backends.xnnpack.partition.xnnpack_partitioner import XnnpackPartitioner\n",
    "from executorch.exir import to_edge_transform_and_lower\n",
    "from torch.export import Dim, export\n",
    "\n",
    "inputs = (torch.randn(1,1,128,188),)\n",
    "\n",
    "model = model.eval()\n",
    "\n",
    "exported_program = export(model, inputs)\n",
    "executorch_program = to_edge_transform_and_lower(\n",
    "    exported_program,\n",
    "    partitioner = [XnnpackPartitioner()]\n",
    ").to_executorch()\n",
    "\n",
    "with open(\"pretrained_model.pte\", \"wb\") as file:\n",
    "    file.write(executorch_program.buffer)"
   ]
  },
  {
   "cell_type": "markdown",
   "id": "92387b07-6637-4907-b715-667554250a0f",
   "metadata": {},
   "source": [
    "#### Testing the model:"
   ]
  },
  {
   "cell_type": "code",
   "execution_count": null,
   "id": "bb50a2bf-9da5-4f63-a8ae-fc339e7a4541",
   "metadata": {},
   "outputs": [],
   "source": [
    "from executorch.runtime import Runtime\n",
    "\n",
    "runtime = Runtime.get()\n",
    "\n",
    "input_tensor = torch.tensor(X_train[None,None,0])\n",
    "program = runtime.load_program(\"pretrained_model.pte\")\n",
    "method = program.load_method(\"forward\")\n",
    "outputs = method.execute([input_tensor])"
   ]
  },
  {
   "cell_type": "code",
   "execution_count": null,
   "id": "b7bf9d62-55cb-4023-835c-f5bc0407c653",
   "metadata": {},
   "outputs": [],
   "source": [
    "print(outputs)"
   ]
  }
 ],
 "metadata": {
  "kernelspec": {
   "display_name": "Python 3 (ipykernel)",
   "language": "python",
   "name": "python3"
  },
  "language_info": {
   "codemirror_mode": {
    "name": "ipython",
    "version": 3
   },
   "file_extension": ".py",
   "mimetype": "text/x-python",
   "name": "python",
   "nbconvert_exporter": "python",
   "pygments_lexer": "ipython3",
   "version": "3.11.4"
  }
 },
 "nbformat": 4,
 "nbformat_minor": 5
}
