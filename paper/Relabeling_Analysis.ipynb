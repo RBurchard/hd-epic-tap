{
 "cells": [
  {
   "cell_type": "code",
   "execution_count": 1,
   "id": "c745e15e-2ee7-46dd-9262-728b932adb24",
   "metadata": {},
   "outputs": [],
   "source": [
    "import pandas as pd\n",
    "import matplotlib.pyplot as plt\n",
    "import seaborn as sns"
   ]
  },
  {
   "cell_type": "code",
   "execution_count": 2,
   "id": "8e02fd40-5b7e-4fb5-98d3-6db740febf41",
   "metadata": {},
   "outputs": [],
   "source": [
    "new_annot_filename = \"HD_EPIC_Sounds_annot.csv\"\n",
    "new_annot_df = pd.read_csv(new_annot_filename)\n",
    "new_annot_df[\"duration\"] = (new_annot_df[\"stop_sample\"] - new_annot_df.start_sample) / 48000\n",
    "new_annot_df = new_annot_df.sort_values([\"participant_id\", \"video_id\", \"start_sample\"])"
   ]
  },
  {
   "cell_type": "code",
   "execution_count": 3,
   "id": "96c68501-e76d-42dd-9755-9fa96d512d7f",
   "metadata": {},
   "outputs": [],
   "source": [
    "def global_iou_tap_to_water(df):\n",
    "    \"\"\"\n",
    "    calculates the iou, considering only overlapping boxes\n",
    "    for each \"water\" box, all \"tap water\" boxes are found and their intersection over union with the water box is calculated\n",
    "    \"\"\"\n",
    "    \n",
    "    tap = df[df['class'] == 'tap water']\n",
    "    water = df[df['class'] == 'water']\n",
    "\n",
    "    total_inter, total_union = 0, 0\n",
    "\n",
    "    results = []\n",
    "\n",
    "    # for each video, get iou for all annotations. save together with video, lengths and part. id\n",
    "    for vid in set(tap['video_id']) | set(water['video_id']):\n",
    "        tap_vid = tap[tap['video_id'] == vid]\n",
    "        water_vid = water[water['video_id'] == vid]\n",
    "        # for each water event, aggregate all overlapping \"tap water\" events, and get the iou.\n",
    "        for _, row_water in water_vid.iterrows():\n",
    "            inter_row = 0\n",
    "            union_row = row_water.stop_sample - row_water.start_sample\n",
    "            for _, row_tap in tap_vid.iterrows():\n",
    "                inter_start = max(row_tap['start_sample'], row_water['start_sample'])\n",
    "                inter_end = min(row_tap['stop_sample'], row_water['stop_sample'])\n",
    "                inter = max(0, inter_end - inter_start)\n",
    "                inter_row += inter\n",
    "                if inter == 0:  # overlap is 0 cause one starts after the other ends\n",
    "                    continue\n",
    "                union_row += max(row_water.start_sample - row_tap.start_sample, 0)\n",
    "                union_row += max(row_tap.stop_sample - row_water.stop_sample, 0)\n",
    "            total_inter += inter_row\n",
    "            total_union += union_row\n",
    "            results.append([vid, vid[:3], inter_row, union_row, inter_row / union_row, row_water.start_timestamp])\n",
    "\n",
    "    return pd.DataFrame(results, columns=[\"video_id\", \"participant_id\", \"inter\", \"union\", \"iou\", \"start_ts\"])"
   ]
  },
  {
   "cell_type": "code",
   "execution_count": 4,
   "id": "0559794a-4602-46b8-9ccb-4d4754e884af",
   "metadata": {},
   "outputs": [],
   "source": [
    "from itertools import chain\n",
    "\n",
    "def merge_intervals(intervals):\n",
    "    \"\"\"Merge a list of [start, end] intervals\"\"\"\n",
    "    if not intervals:\n",
    "        return []\n",
    "    intervals = sorted(intervals)\n",
    "    merged = [intervals[0]]\n",
    "    for start, end in intervals[1:]:\n",
    "        last_start, last_end = merged[-1]\n",
    "        if start <= last_end:\n",
    "            merged[-1][1] = max(last_end, end)\n",
    "        else:\n",
    "            merged.append([start, end])\n",
    "    return merged\n",
    "\n",
    "def interval_length(intervals):\n",
    "    \"\"\"Sum of lengths of intervals\"\"\"\n",
    "    return sum(end - start for start, end in intervals)\n",
    "\n",
    "def intersect_intervals(a, b):\n",
    "    \"\"\"Compute intersection between two interval lists\"\"\"\n",
    "    intersections = []\n",
    "    for sa, ea in a:\n",
    "        for sb, eb in b:\n",
    "            start = max(sa, sb)\n",
    "            end = min(ea, eb)\n",
    "            if start < end:\n",
    "                intersections.append([start, end])\n",
    "    return merge_intervals(intersections)\n",
    "\n",
    "def iou_per_video(df):\n",
    "    results = []\n",
    "\n",
    "    for vid in df['video_id'].unique():\n",
    "        df_vid = df[df['video_id'] == vid]\n",
    "        participant_id = vid[:3]  # or use a column if available\n",
    "\n",
    "        water_intervals = merge_intervals(\n",
    "            df_vid[df_vid['class'] == 'water'][['start_sample', 'stop_sample']].values.tolist()\n",
    "        )\n",
    "        tap_intervals = merge_intervals(\n",
    "            df_vid[df_vid['class'] == 'tap water'][['start_sample', 'stop_sample']].values.tolist()\n",
    "        )\n",
    "\n",
    "        inter = interval_length(intersect_intervals(water_intervals, tap_intervals))\n",
    "        union = interval_length(merge_intervals(water_intervals + tap_intervals))\n",
    "        iou = inter / union if union > 0 else 0\n",
    "\n",
    "        results.append({\n",
    "            \"video_id\": vid,\n",
    "            \"participant_id\": participant_id,\n",
    "            \"inter\": inter,\n",
    "            \"union\": union,\n",
    "            \"iou\": iou\n",
    "        })\n",
    "\n",
    "    return pd.DataFrame(results)"
   ]
  },
  {
   "cell_type": "code",
   "execution_count": 5,
   "id": "cc08d473-aa08-4908-a973-3a0ef26dc7de",
   "metadata": {},
   "outputs": [],
   "source": [
    "## calculate intersection over union of water and tap water labels:\n",
    "both_df = new_annot_df[(new_annot_df[\"class\"] == \"tap water\") | (new_annot_df[\"class\"] == \"water\")]\n",
    "both_df_3 = both_df[both_df.duration >= 3]\n",
    "iou_3 = iou_per_video(both_df_3)"
   ]
  },
  {
   "cell_type": "code",
   "execution_count": 6,
   "id": "22ef2fc6-03cb-4ba7-bba0-fc1310a30772",
   "metadata": {},
   "outputs": [
    {
     "name": "stdout",
     "output_type": "stream",
     "text": [
      "done checking, no illegal overlap!\n"
     ]
    }
   ],
   "source": [
    "### make sure that no 2 tap annotations overlap:\n",
    "for i, row in both_df[both_df[\"class\"] == \"tap water\"].iterrows():\n",
    "    for j, row2 in both_df[both_df[\"class\"] == \"tap water\"].iterrows():\n",
    "        if j == i:\n",
    "            continue\n",
    "        if row.video_id != row2.video_id:\n",
    "            continue\n",
    "        if max(0, min(row['stop_sample'], row2['stop_sample']) - max(row['start_sample'], row2['start_sample'])) != 0:\n",
    "            print(row.video_id, row.start_timestamp, row.stop_timestamp, row2.start_timestamp, row2.stop_timestamp)\n",
    "print(\"done checking, no illegal overlap!\")"
   ]
  },
  {
   "cell_type": "code",
   "execution_count": 7,
   "id": "98266e4c-7561-4212-beb4-8f082c53eb5b",
   "metadata": {},
   "outputs": [
    {
     "data": {
      "text/html": [
       "<div>\n",
       "<style scoped>\n",
       "    .dataframe tbody tr th:only-of-type {\n",
       "        vertical-align: middle;\n",
       "    }\n",
       "\n",
       "    .dataframe tbody tr th {\n",
       "        vertical-align: top;\n",
       "    }\n",
       "\n",
       "    .dataframe thead th {\n",
       "        text-align: right;\n",
       "    }\n",
       "</style>\n",
       "<table border=\"1\" class=\"dataframe\">\n",
       "  <thead>\n",
       "    <tr style=\"text-align: right;\">\n",
       "      <th></th>\n",
       "      <th>video_id</th>\n",
       "      <th>participant_id</th>\n",
       "      <th>inter</th>\n",
       "      <th>union</th>\n",
       "      <th>iou</th>\n",
       "    </tr>\n",
       "  </thead>\n",
       "  <tbody>\n",
       "    <tr>\n",
       "      <th>0</th>\n",
       "      <td>P01-20240202-110250</td>\n",
       "      <td>P01</td>\n",
       "      <td>1841568</td>\n",
       "      <td>4644576</td>\n",
       "      <td>0.396499</td>\n",
       "    </tr>\n",
       "    <tr>\n",
       "      <th>1</th>\n",
       "      <td>P01-20240202-161354</td>\n",
       "      <td>P01</td>\n",
       "      <td>1207585</td>\n",
       "      <td>2799024</td>\n",
       "      <td>0.431431</td>\n",
       "    </tr>\n",
       "    <tr>\n",
       "      <th>2</th>\n",
       "      <td>P01-20240202-161948</td>\n",
       "      <td>P01</td>\n",
       "      <td>0</td>\n",
       "      <td>341376</td>\n",
       "      <td>0.000000</td>\n",
       "    </tr>\n",
       "    <tr>\n",
       "      <th>3</th>\n",
       "      <td>P01-20240202-171220</td>\n",
       "      <td>P01</td>\n",
       "      <td>1544016</td>\n",
       "      <td>2852063</td>\n",
       "      <td>0.541368</td>\n",
       "    </tr>\n",
       "    <tr>\n",
       "      <th>4</th>\n",
       "      <td>P01-20240202-175627</td>\n",
       "      <td>P01</td>\n",
       "      <td>1524097</td>\n",
       "      <td>5472577</td>\n",
       "      <td>0.278497</td>\n",
       "    </tr>\n",
       "    <tr>\n",
       "      <th>...</th>\n",
       "      <td>...</td>\n",
       "      <td>...</td>\n",
       "      <td>...</td>\n",
       "      <td>...</td>\n",
       "      <td>...</td>\n",
       "    </tr>\n",
       "    <tr>\n",
       "      <th>122</th>\n",
       "      <td>P09-20240623-153253</td>\n",
       "      <td>P09</td>\n",
       "      <td>2029440</td>\n",
       "      <td>2688240</td>\n",
       "      <td>0.754933</td>\n",
       "    </tr>\n",
       "    <tr>\n",
       "      <th>123</th>\n",
       "      <td>P09-20240623-153748</td>\n",
       "      <td>P09</td>\n",
       "      <td>1373184</td>\n",
       "      <td>1506143</td>\n",
       "      <td>0.911722</td>\n",
       "    </tr>\n",
       "    <tr>\n",
       "      <th>124</th>\n",
       "      <td>P09-20240623-154547</td>\n",
       "      <td>P09</td>\n",
       "      <td>0</td>\n",
       "      <td>339312</td>\n",
       "      <td>0.000000</td>\n",
       "    </tr>\n",
       "    <tr>\n",
       "      <th>125</th>\n",
       "      <td>P09-20240624-160737</td>\n",
       "      <td>P09</td>\n",
       "      <td>5057327</td>\n",
       "      <td>6695328</td>\n",
       "      <td>0.755352</td>\n",
       "    </tr>\n",
       "    <tr>\n",
       "      <th>126</th>\n",
       "      <td>P09-20240624-165332</td>\n",
       "      <td>P09</td>\n",
       "      <td>5167490</td>\n",
       "      <td>10501728</td>\n",
       "      <td>0.492061</td>\n",
       "    </tr>\n",
       "  </tbody>\n",
       "</table>\n",
       "<p>127 rows × 5 columns</p>\n",
       "</div>"
      ],
      "text/plain": [
       "                video_id participant_id    inter     union       iou\n",
       "0    P01-20240202-110250            P01  1841568   4644576  0.396499\n",
       "1    P01-20240202-161354            P01  1207585   2799024  0.431431\n",
       "2    P01-20240202-161948            P01        0    341376  0.000000\n",
       "3    P01-20240202-171220            P01  1544016   2852063  0.541368\n",
       "4    P01-20240202-175627            P01  1524097   5472577  0.278497\n",
       "..                   ...            ...      ...       ...       ...\n",
       "122  P09-20240623-153253            P09  2029440   2688240  0.754933\n",
       "123  P09-20240623-153748            P09  1373184   1506143  0.911722\n",
       "124  P09-20240623-154547            P09        0    339312  0.000000\n",
       "125  P09-20240624-160737            P09  5057327   6695328  0.755352\n",
       "126  P09-20240624-165332            P09  5167490  10501728  0.492061\n",
       "\n",
       "[127 rows x 5 columns]"
      ]
     },
     "execution_count": 7,
     "metadata": {},
     "output_type": "execute_result"
    }
   ],
   "source": [
    "iou_3"
   ]
  },
  {
   "cell_type": "markdown",
   "id": "baac3990-dbdf-4680-aa4f-7a25d8cd6ae9",
   "metadata": {},
   "source": [
    "## IOU over the water and tap water labels:"
   ]
  },
  {
   "cell_type": "code",
   "execution_count": null,
   "id": "2f4e56a4-4ea6-4a95-84b1-be38afe3e4b8",
   "metadata": {},
   "outputs": [],
   "source": []
  },
  {
   "cell_type": "code",
   "execution_count": 8,
   "id": "c273d592-b006-486d-8de1-060b03a3ed26",
   "metadata": {},
   "outputs": [
    {
     "data": {
      "image/png": "[encoded data removed]",
      "text/plain": [
       "<Figure size 640x480 with 1 Axes>"
      ]
     },
     "metadata": {},
     "output_type": "display_data"
    }
   ],
   "source": [
    "iou_3.iou.hist(bins=15)\n",
    "plt.title(\"IoU of \\\"tap water\\\" and \\\"water\\\" per video\")\n",
    "plt.xlabel(\"Intersection over Union\")\n",
    "plt.ylabel(\"Count\")\n",
    "plt.tight_layout()\n",
    "plt.savefig(\"figures/iou_hist.pdf\")"
   ]
  },
  {
   "cell_type": "markdown",
   "id": "b5af2aa6-cd56-4ea1-b99c-95939f362778",
   "metadata": {},
   "source": [
    "## IoU over the entire dataset:"
   ]
  },
  {
   "cell_type": "code",
   "execution_count": 9,
   "id": "cd5f6ae5-8738-4ec0-984a-8df666514050",
   "metadata": {},
   "outputs": [
    {
     "name": "stdout",
     "output_type": "stream",
     "text": [
      "IoU: 0.6162\n"
     ]
    }
   ],
   "source": [
    "iou_total = iou_3.inter.sum() / iou_3.union.sum()\n",
    "print(f\"IoU: {iou_total:.4f}\")"
   ]
  },
  {
   "cell_type": "code",
   "execution_count": 11,
   "id": "1e4bf164-d297-45d7-827d-0f4deb82e5ff",
   "metadata": {},
   "outputs": [
    {
     "data": {
      "text/html": [
       "<div>\n",
       "<style scoped>\n",
       "    .dataframe tbody tr th:only-of-type {\n",
       "        vertical-align: middle;\n",
       "    }\n",
       "\n",
       "    .dataframe tbody tr th {\n",
       "        vertical-align: top;\n",
       "    }\n",
       "\n",
       "    .dataframe thead th {\n",
       "        text-align: right;\n",
       "    }\n",
       "</style>\n",
       "<table border=\"1\" class=\"dataframe\">\n",
       "  <thead>\n",
       "    <tr style=\"text-align: right;\">\n",
       "      <th>participant</th>\n",
       "      <th>P01</th>\n",
       "      <th>P02</th>\n",
       "      <th>P03</th>\n",
       "      <th>P04</th>\n",
       "      <th>P05</th>\n",
       "      <th>P06</th>\n",
       "      <th>P07</th>\n",
       "      <th>P08</th>\n",
       "      <th>P09</th>\n",
       "    </tr>\n",
       "  </thead>\n",
       "  <tbody>\n",
       "    <tr>\n",
       "      <th>IoU</th>\n",
       "      <td>0.363606</td>\n",
       "      <td>0.429076</td>\n",
       "      <td>0.613843</td>\n",
       "      <td>0.841853</td>\n",
       "      <td>0.651225</td>\n",
       "      <td>0.87137</td>\n",
       "      <td>0.915508</td>\n",
       "      <td>0.541769</td>\n",
       "      <td>0.61752</td>\n",
       "    </tr>\n",
       "  </tbody>\n",
       "</table>\n",
       "</div>"
      ],
      "text/plain": [
       "participant       P01       P02       P03       P04       P05      P06  \\\n",
       "IoU          0.363606  0.429076  0.613843  0.841853  0.651225  0.87137   \n",
       "\n",
       "participant       P07       P08      P09  \n",
       "IoU          0.915508  0.541769  0.61752  "
      ]
     },
     "execution_count": 11,
     "metadata": {},
     "output_type": "execute_result"
    }
   ],
   "source": [
    "iou_part = iou_3.groupby(\"participant_id\").sum(numeric_only=True)\n",
    "iou_part[\"iou\"] = iou_part.inter / iou_part.union\n",
    "iou_part = iou_part.drop([\"inter\", \"union\"], axis=1)\n",
    "iou_part.index.name= \"participant\"\n",
    "iou_part = iou_part.rename({\"participant_id\": \"participant\", \"iou\": \"IoU\"}, axis=1).T\n",
    "\n",
    "\n",
    "latex_output = iou_part.style.format(precision=3).to_latex(\n",
    "                                         hrules=True)\n",
    "# Optionally save to file\n",
    "with open('tables/iou_per_part.tex', 'w') as f:\n",
    "    f.write(latex_output)\n",
    "iou_part"
   ]
  },
  {
   "cell_type": "markdown",
   "id": "72096009-d331-42b6-bfc0-08db8ca288bc",
   "metadata": {},
   "source": [
    "## Comparison of label durations, with and without 3s rule:"
   ]
  },
  {
   "cell_type": "code",
   "execution_count": 12,
   "id": "110853e9-4ffc-435e-b611-919b96fd0623",
   "metadata": {},
   "outputs": [
    {
     "data": {
      "image/png": "[encoded data removed]",
      "text/plain": [
       "<Figure size 640x480 with 1 Axes>"
      ]
     },
     "metadata": {},
     "output_type": "display_data"
    }
   ],
   "source": [
    "tap_df = both_df[both_df.class_id==44]\n",
    "tap_df[tap_df.duration < 3].duration.hist(bins=15)\n",
    "plt.title(\"\\\"tap water\\\" annotations shorter than 3s (total: 74 / 717)\")\n",
    "plt.xlabel(\"Duration (s)\")\n",
    "plt.ylabel(\"Count\")\n",
    "plt.tight_layout()\n",
    "plt.savefig(\"figures/short_tap_water_hist.pdf\")"
   ]
  },
  {
   "cell_type": "code",
   "execution_count": 13,
   "id": "7985dc99-9696-44d8-90a4-28a96f031e66",
   "metadata": {},
   "outputs": [
    {
     "data": {
      "text/plain": [
       "<Axes: >"
      ]
     },
     "execution_count": 13,
     "metadata": {},
     "output_type": "execute_result"
    },
    {
     "data": {
      "image/png": "[encoded data removed]",
      "text/plain": [
       "<Figure size 640x480 with 1 Axes>"
      ]
     },
     "metadata": {},
     "output_type": "display_data"
    }
   ],
   "source": [
    "both_df[both_df.class_id==44].duration.hist(bins=50, log=True)"
   ]
  },
  {
   "cell_type": "code",
   "execution_count": null,
   "id": "08182510-83dd-4a2a-a371-98550f2f398a",
   "metadata": {},
   "outputs": [],
   "source": []
  },
  {
   "cell_type": "code",
   "execution_count": 14,
   "id": "97591453-d342-4017-84de-22d1cf1ad894",
   "metadata": {},
   "outputs": [
    {
     "data": {
      "text/plain": [
       "Text(0.5, 0, 'Duration')"
      ]
     },
     "execution_count": 14,
     "metadata": {},
     "output_type": "execute_result"
    },
    {
     "data": {
      "image/png": "[encoded data removed]",
      "text/plain": [
       "<Figure size 640x480 with 1 Axes>"
      ]
     },
     "metadata": {},
     "output_type": "display_data"
    }
   ],
   "source": [
    "sns.histplot(data=both_df, x=\"duration\", hue=\"class\", log_scale=(True, False))\n",
    "plt.xlabel(\"Duration\")"
   ]
  },
  {
   "cell_type": "code",
   "execution_count": 15,
   "id": "3ab1b20a-e2cd-4ec8-b6e2-141802ae7f88",
   "metadata": {},
   "outputs": [
    {
     "data": {
      "text/plain": [
       "class\n",
       "tap water     9594.574354\n",
       "water        16981.142604\n",
       "Name: duration, dtype: float64"
      ]
     },
     "execution_count": 15,
     "metadata": {},
     "output_type": "execute_result"
    }
   ],
   "source": [
    "both_df.groupby(\"class\").duration.sum()"
   ]
  },
  {
   "cell_type": "code",
   "execution_count": null,
   "id": "8149e81b-3335-43dc-8254-f6febedc3d85",
   "metadata": {},
   "outputs": [],
   "source": []
  },
  {
   "cell_type": "code",
   "execution_count": 16,
   "id": "939e5fcf-850c-422e-a7e5-c0f12bcde5c2",
   "metadata": {},
   "outputs": [
    {
     "data": {
      "text/html": [
       "<div>\n",
       "<style scoped>\n",
       "    .dataframe tbody tr th:only-of-type {\n",
       "        vertical-align: middle;\n",
       "    }\n",
       "\n",
       "    .dataframe tbody tr th {\n",
       "        vertical-align: top;\n",
       "    }\n",
       "\n",
       "    .dataframe thead tr th {\n",
       "        text-align: left;\n",
       "    }\n",
       "</style>\n",
       "<table border=\"1\" class=\"dataframe\">\n",
       "  <thead>\n",
       "    <tr>\n",
       "      <th></th>\n",
       "      <th></th>\n",
       "      <th colspan=\"2\" halign=\"left\">class</th>\n",
       "    </tr>\n",
       "    <tr>\n",
       "      <th></th>\n",
       "      <th>participant_id</th>\n",
       "      <th>tap water</th>\n",
       "      <th>water</th>\n",
       "    </tr>\n",
       "  </thead>\n",
       "  <tbody>\n",
       "    <tr>\n",
       "      <th>0</th>\n",
       "      <td>P01</td>\n",
       "      <td>895.380021</td>\n",
       "      <td>2737.151250</td>\n",
       "    </tr>\n",
       "    <tr>\n",
       "      <th>1</th>\n",
       "      <td>P02</td>\n",
       "      <td>765.342896</td>\n",
       "      <td>2189.149979</td>\n",
       "    </tr>\n",
       "    <tr>\n",
       "      <th>2</th>\n",
       "      <td>P03</td>\n",
       "      <td>1821.168229</td>\n",
       "      <td>3261.017125</td>\n",
       "    </tr>\n",
       "    <tr>\n",
       "      <th>3</th>\n",
       "      <td>P04</td>\n",
       "      <td>1474.320042</td>\n",
       "      <td>1872.029208</td>\n",
       "    </tr>\n",
       "    <tr>\n",
       "      <th>4</th>\n",
       "      <td>P05</td>\n",
       "      <td>297.809979</td>\n",
       "      <td>541.459083</td>\n",
       "    </tr>\n",
       "    <tr>\n",
       "      <th>5</th>\n",
       "      <td>P06</td>\n",
       "      <td>1432.175979</td>\n",
       "      <td>1588.871958</td>\n",
       "    </tr>\n",
       "    <tr>\n",
       "      <th>6</th>\n",
       "      <td>P07</td>\n",
       "      <td>789.912021</td>\n",
       "      <td>944.498000</td>\n",
       "    </tr>\n",
       "    <tr>\n",
       "      <th>7</th>\n",
       "      <td>P08</td>\n",
       "      <td>990.465125</td>\n",
       "      <td>1838.341104</td>\n",
       "    </tr>\n",
       "    <tr>\n",
       "      <th>8</th>\n",
       "      <td>P09</td>\n",
       "      <td>1128.000063</td>\n",
       "      <td>2008.624896</td>\n",
       "    </tr>\n",
       "  </tbody>\n",
       "</table>\n",
       "</div>"
      ],
      "text/plain": [
       "                        class             \n",
       "  participant_id    tap water        water\n",
       "0            P01   895.380021  2737.151250\n",
       "1            P02   765.342896  2189.149979\n",
       "2            P03  1821.168229  3261.017125\n",
       "3            P04  1474.320042  1872.029208\n",
       "4            P05   297.809979   541.459083\n",
       "5            P06  1432.175979  1588.871958\n",
       "6            P07   789.912021   944.498000\n",
       "7            P08   990.465125  1838.341104\n",
       "8            P09  1128.000063  2008.624896"
      ]
     },
     "execution_count": 16,
     "metadata": {},
     "output_type": "execute_result"
    }
   ],
   "source": [
    "dur_df = both_df.groupby([\"participant_id\", \"class\"]).duration.sum()\n",
    "dur_df = pd.DataFrame(dur_df).reset_index()\n",
    "pivoted_df = dur_df.pivot(index='participant_id', columns='class', values='duration').reset_index()\n",
    "\n",
    "# Reset index if you want participant_id back as a normal column\n",
    "pivoted_df = pivoted_df.reset_index(drop=True)\n",
    "pivoted_df.columns = [\n",
    "    (\"\", 'participant_id'),  # empty top level for participant_id\n",
    "    ('class', 'tap water'),\n",
    "    ('class', 'water')\n",
    "]\n",
    "pivoted_df.columns = pd.MultiIndex.from_tuples(pivoted_df.columns)\n",
    "\n",
    "latex_output = pivoted_df.style.hide(axis=\"index\").format(precision=1).to_latex(multicol_align='c',\n",
    "                                         hrules=True)\n",
    "# Optionally save to file\n",
    "with open('tables/durations.tex', 'w') as f:\n",
    "    f.write(latex_output)\n",
    "pivoted_df"
   ]
  },
  {
   "cell_type": "code",
   "execution_count": 17,
   "id": "9b018326-e9ef-4b18-b31c-3733c641c96d",
   "metadata": {},
   "outputs": [
    {
     "data": {
      "text/plain": [
       "class\n",
       "tap water     9439.194250\n",
       "water        15182.239479\n",
       "Name: duration, dtype: float64"
      ]
     },
     "execution_count": 17,
     "metadata": {},
     "output_type": "execute_result"
    }
   ],
   "source": [
    "both_df_3.groupby(\"class\").duration.sum()"
   ]
  },
  {
   "cell_type": "code",
   "execution_count": 18,
   "id": "41368c5f-b3dd-4b65-a312-df56b9f6e4d1",
   "metadata": {},
   "outputs": [
    {
     "data": {
      "text/html": [
       "<div>\n",
       "<style scoped>\n",
       "    .dataframe tbody tr th:only-of-type {\n",
       "        vertical-align: middle;\n",
       "    }\n",
       "\n",
       "    .dataframe tbody tr th {\n",
       "        vertical-align: top;\n",
       "    }\n",
       "\n",
       "    .dataframe thead tr th {\n",
       "        text-align: left;\n",
       "    }\n",
       "</style>\n",
       "<table border=\"1\" class=\"dataframe\">\n",
       "  <thead>\n",
       "    <tr>\n",
       "      <th></th>\n",
       "      <th></th>\n",
       "      <th colspan=\"2\" halign=\"left\">class</th>\n",
       "    </tr>\n",
       "    <tr>\n",
       "      <th></th>\n",
       "      <th>participant_id</th>\n",
       "      <th>tap water</th>\n",
       "      <th>water</th>\n",
       "    </tr>\n",
       "  </thead>\n",
       "  <tbody>\n",
       "    <tr>\n",
       "      <th>0</th>\n",
       "      <td>P01</td>\n",
       "      <td>832.477000</td>\n",
       "      <td>2491.807000</td>\n",
       "    </tr>\n",
       "    <tr>\n",
       "      <th>1</th>\n",
       "      <td>P02</td>\n",
       "      <td>752.254917</td>\n",
       "      <td>1758.263042</td>\n",
       "    </tr>\n",
       "    <tr>\n",
       "      <th>2</th>\n",
       "      <td>P03</td>\n",
       "      <td>1787.519146</td>\n",
       "      <td>3025.744125</td>\n",
       "    </tr>\n",
       "    <tr>\n",
       "      <th>3</th>\n",
       "      <td>P04</td>\n",
       "      <td>1457.357021</td>\n",
       "      <td>1732.960104</td>\n",
       "    </tr>\n",
       "    <tr>\n",
       "      <th>4</th>\n",
       "      <td>P05</td>\n",
       "      <td>294.932979</td>\n",
       "      <td>427.843021</td>\n",
       "    </tr>\n",
       "    <tr>\n",
       "      <th>5</th>\n",
       "      <td>P06</td>\n",
       "      <td>1429.383979</td>\n",
       "      <td>1458.602021</td>\n",
       "    </tr>\n",
       "    <tr>\n",
       "      <th>6</th>\n",
       "      <td>P07</td>\n",
       "      <td>789.912021</td>\n",
       "      <td>844.355042</td>\n",
       "    </tr>\n",
       "    <tr>\n",
       "      <th>7</th>\n",
       "      <td>P08</td>\n",
       "      <td>984.140125</td>\n",
       "      <td>1754.683167</td>\n",
       "    </tr>\n",
       "    <tr>\n",
       "      <th>8</th>\n",
       "      <td>P09</td>\n",
       "      <td>1111.217063</td>\n",
       "      <td>1687.981958</td>\n",
       "    </tr>\n",
       "  </tbody>\n",
       "</table>\n",
       "</div>"
      ],
      "text/plain": [
       "                        class             \n",
       "  participant_id    tap water        water\n",
       "0            P01   832.477000  2491.807000\n",
       "1            P02   752.254917  1758.263042\n",
       "2            P03  1787.519146  3025.744125\n",
       "3            P04  1457.357021  1732.960104\n",
       "4            P05   294.932979   427.843021\n",
       "5            P06  1429.383979  1458.602021\n",
       "6            P07   789.912021   844.355042\n",
       "7            P08   984.140125  1754.683167\n",
       "8            P09  1111.217063  1687.981958"
      ]
     },
     "execution_count": 18,
     "metadata": {},
     "output_type": "execute_result"
    }
   ],
   "source": [
    "dur_3_df = both_df_3.groupby([\"participant_id\", \"class\"]).duration.sum()\n",
    "dur_3_df = pd.DataFrame(dur_3_df).reset_index()\n",
    "pivoted_df2 = dur_3_df.pivot(index='participant_id', columns='class', values='duration').reset_index()\n",
    "\n",
    "# Reset index if you want participant_id back as a normal column\n",
    "pivoted_df2 = pivoted_df2.reset_index(drop=True)\n",
    "pivoted_df2.columns = [\n",
    "    (\"\", 'participant_id'),  # empty top level for participant_id\n",
    "    ('class', 'tap water'),\n",
    "    ('class', 'water')\n",
    "]\n",
    "pivoted_df2.columns = pd.MultiIndex.from_tuples(pivoted_df.columns)\n",
    "\n",
    "latex_output = pivoted_df2.style.hide(axis=\"index\").format(precision=1).to_latex(multicol_align='c',\n",
    "                                         hrules=True)\n",
    "# Optionally save to file\n",
    "with open('tables/durations.tex', 'w') as f:\n",
    "    f.write(latex_output)\n",
    "pivoted_df2"
   ]
  },
  {
   "cell_type": "code",
   "execution_count": 19,
   "id": "9146f38f-2efe-4c3c-b4c4-ff905a1e27a0",
   "metadata": {},
   "outputs": [],
   "source": [
    "key = ('', 'participant_id')"
   ]
  },
  {
   "cell_type": "code",
   "execution_count": 20,
   "id": "55e637e7-4304-4250-b9a8-6e1c502c9808",
   "metadata": {},
   "outputs": [],
   "source": [
    "joined_df = joined_df = (\n",
    "    pivoted_df\n",
    "    .set_index(('', 'participant_id'))\n",
    "    .join(\n",
    "        pivoted_df2.set_index(('', 'participant_id')),\n",
    "        rsuffix=' >= 3s'\n",
    "    )\n",
    "    .reset_index()\n",
    ")"
   ]
  },
  {
   "cell_type": "code",
   "execution_count": null,
   "id": "24162460-d6c6-4635-9f61-cfd0da910e8a",
   "metadata": {},
   "outputs": [],
   "source": []
  },
  {
   "cell_type": "code",
   "execution_count": 21,
   "id": "18b3e5da-7df9-4b23-8de8-bc0754712de2",
   "metadata": {
    "scrolled": true
   },
   "outputs": [
    {
     "data": {
      "text/plain": [
       "0     895.380021\n",
       "1     765.342896\n",
       "2    1821.168229\n",
       "3    1474.320042\n",
       "4     297.809979\n",
       "5    1432.175979\n",
       "6     789.912021\n",
       "7     990.465125\n",
       "8    1128.000063\n",
       "Name: (class, tap water), dtype: float64"
      ]
     },
     "execution_count": 21,
     "metadata": {},
     "output_type": "execute_result"
    }
   ],
   "source": [
    "joined_df[(\"class\", \"tap water\")]"
   ]
  },
  {
   "cell_type": "code",
   "execution_count": null,
   "id": "da1f8de7-0b50-4ee8-bddb-5429e1f67e19",
   "metadata": {},
   "outputs": [],
   "source": []
  },
  {
   "cell_type": "code",
   "execution_count": 22,
   "id": "1216c19a-2ef6-4885-b83a-b7af858352ce",
   "metadata": {},
   "outputs": [],
   "source": [
    "joined_df.loc[len(joined_df)] = joined_df.sum()"
   ]
  },
  {
   "cell_type": "code",
   "execution_count": 23,
   "id": "99426347-4e09-48dc-a7d7-b2c48553d209",
   "metadata": {},
   "outputs": [],
   "source": [
    "import warnings"
   ]
  },
  {
   "cell_type": "code",
   "execution_count": 24,
   "id": "d7328ea9-e0b1-427c-86d6-61d449eaea97",
   "metadata": {},
   "outputs": [
    {
     "data": {
      "text/html": [
       "<div>\n",
       "<style scoped>\n",
       "    .dataframe tbody tr th:only-of-type {\n",
       "        vertical-align: middle;\n",
       "    }\n",
       "\n",
       "    .dataframe tbody tr th {\n",
       "        vertical-align: top;\n",
       "    }\n",
       "\n",
       "    .dataframe thead tr th {\n",
       "        text-align: left;\n",
       "    }\n",
       "</style>\n",
       "<table border=\"1\" class=\"dataframe\">\n",
       "  <thead>\n",
       "    <tr>\n",
       "      <th></th>\n",
       "      <th></th>\n",
       "      <th colspan=\"2\" halign=\"left\">class</th>\n",
       "      <th colspan=\"2\" halign=\"left\">class &gt;= 3s</th>\n",
       "      <th colspan=\"2\" halign=\"left\">ratio</th>\n",
       "      <th>ratio tap water/water</th>\n",
       "      <th>ratio &gt;= 3s tap water/water</th>\n",
       "    </tr>\n",
       "    <tr>\n",
       "      <th></th>\n",
       "      <th>participant_id</th>\n",
       "      <th>tap water</th>\n",
       "      <th>water</th>\n",
       "      <th>tap water</th>\n",
       "      <th>water</th>\n",
       "      <th>water</th>\n",
       "      <th>tap water</th>\n",
       "      <th></th>\n",
       "      <th></th>\n",
       "    </tr>\n",
       "  </thead>\n",
       "  <tbody>\n",
       "    <tr>\n",
       "      <th>0</th>\n",
       "      <td>P01</td>\n",
       "      <td>895.380021</td>\n",
       "      <td>2737.151250</td>\n",
       "      <td>832.477000</td>\n",
       "      <td>2491.807000</td>\n",
       "      <td>0.910365</td>\n",
       "      <td>0.929747</td>\n",
       "      <td>0.327121</td>\n",
       "      <td>0.334086</td>\n",
       "    </tr>\n",
       "    <tr>\n",
       "      <th>1</th>\n",
       "      <td>P02</td>\n",
       "      <td>765.342896</td>\n",
       "      <td>2189.149979</td>\n",
       "      <td>752.254917</td>\n",
       "      <td>1758.263042</td>\n",
       "      <td>0.803172</td>\n",
       "      <td>0.982899</td>\n",
       "      <td>0.349607</td>\n",
       "      <td>0.427840</td>\n",
       "    </tr>\n",
       "    <tr>\n",
       "      <th>2</th>\n",
       "      <td>P03</td>\n",
       "      <td>1821.168229</td>\n",
       "      <td>3261.017125</td>\n",
       "      <td>1787.519146</td>\n",
       "      <td>3025.744125</td>\n",
       "      <td>0.927853</td>\n",
       "      <td>0.981523</td>\n",
       "      <td>0.558466</td>\n",
       "      <td>0.590770</td>\n",
       "    </tr>\n",
       "    <tr>\n",
       "      <th>3</th>\n",
       "      <td>P04</td>\n",
       "      <td>1474.320042</td>\n",
       "      <td>1872.029208</td>\n",
       "      <td>1457.357021</td>\n",
       "      <td>1732.960104</td>\n",
       "      <td>0.925712</td>\n",
       "      <td>0.988494</td>\n",
       "      <td>0.787552</td>\n",
       "      <td>0.840964</td>\n",
       "    </tr>\n",
       "    <tr>\n",
       "      <th>4</th>\n",
       "      <td>P05</td>\n",
       "      <td>297.809979</td>\n",
       "      <td>541.459083</td>\n",
       "      <td>294.932979</td>\n",
       "      <td>427.843021</td>\n",
       "      <td>0.790167</td>\n",
       "      <td>0.990339</td>\n",
       "      <td>0.550014</td>\n",
       "      <td>0.689349</td>\n",
       "    </tr>\n",
       "    <tr>\n",
       "      <th>5</th>\n",
       "      <td>P06</td>\n",
       "      <td>1432.175979</td>\n",
       "      <td>1588.871958</td>\n",
       "      <td>1429.383979</td>\n",
       "      <td>1458.602021</td>\n",
       "      <td>0.918011</td>\n",
       "      <td>0.998051</td>\n",
       "      <td>0.901379</td>\n",
       "      <td>0.979968</td>\n",
       "    </tr>\n",
       "    <tr>\n",
       "      <th>6</th>\n",
       "      <td>P07</td>\n",
       "      <td>789.912021</td>\n",
       "      <td>944.498000</td>\n",
       "      <td>789.912021</td>\n",
       "      <td>844.355042</td>\n",
       "      <td>0.893972</td>\n",
       "      <td>1.000000</td>\n",
       "      <td>0.836330</td>\n",
       "      <td>0.935521</td>\n",
       "    </tr>\n",
       "    <tr>\n",
       "      <th>7</th>\n",
       "      <td>P08</td>\n",
       "      <td>990.465125</td>\n",
       "      <td>1838.341104</td>\n",
       "      <td>984.140125</td>\n",
       "      <td>1754.683167</td>\n",
       "      <td>0.954493</td>\n",
       "      <td>0.993614</td>\n",
       "      <td>0.538782</td>\n",
       "      <td>0.560865</td>\n",
       "    </tr>\n",
       "    <tr>\n",
       "      <th>8</th>\n",
       "      <td>P09</td>\n",
       "      <td>1128.000063</td>\n",
       "      <td>2008.624896</td>\n",
       "      <td>1111.217063</td>\n",
       "      <td>1687.981958</td>\n",
       "      <td>0.840367</td>\n",
       "      <td>0.985121</td>\n",
       "      <td>0.561578</td>\n",
       "      <td>0.658311</td>\n",
       "    </tr>\n",
       "    <tr>\n",
       "      <th>9</th>\n",
       "      <td>Agg.</td>\n",
       "      <td>9594.574354</td>\n",
       "      <td>16981.142604</td>\n",
       "      <td>9439.194250</td>\n",
       "      <td>15182.239479</td>\n",
       "      <td>0.894065</td>\n",
       "      <td>0.983805</td>\n",
       "      <td>0.565013</td>\n",
       "      <td>0.621726</td>\n",
       "    </tr>\n",
       "  </tbody>\n",
       "</table>\n",
       "</div>"
      ],
      "text/plain": [
       "                        class                class >= 3s                \\\n",
       "  participant_id    tap water         water    tap water         water   \n",
       "0            P01   895.380021   2737.151250   832.477000   2491.807000   \n",
       "1            P02   765.342896   2189.149979   752.254917   1758.263042   \n",
       "2            P03  1821.168229   3261.017125  1787.519146   3025.744125   \n",
       "3            P04  1474.320042   1872.029208  1457.357021   1732.960104   \n",
       "4            P05   297.809979    541.459083   294.932979    427.843021   \n",
       "5            P06  1432.175979   1588.871958  1429.383979   1458.602021   \n",
       "6            P07   789.912021    944.498000   789.912021    844.355042   \n",
       "7            P08   990.465125   1838.341104   984.140125   1754.683167   \n",
       "8            P09  1128.000063   2008.624896  1111.217063   1687.981958   \n",
       "9           Agg.  9594.574354  16981.142604  9439.194250  15182.239479   \n",
       "\n",
       "      ratio           ratio tap water/water ratio >= 3s tap water/water  \n",
       "      water tap water                                                    \n",
       "0  0.910365  0.929747              0.327121                    0.334086  \n",
       "1  0.803172  0.982899              0.349607                    0.427840  \n",
       "2  0.927853  0.981523              0.558466                    0.590770  \n",
       "3  0.925712  0.988494              0.787552                    0.840964  \n",
       "4  0.790167  0.990339              0.550014                    0.689349  \n",
       "5  0.918011  0.998051              0.901379                    0.979968  \n",
       "6  0.893972  1.000000              0.836330                    0.935521  \n",
       "7  0.954493  0.993614              0.538782                    0.560865  \n",
       "8  0.840367  0.985121              0.561578                    0.658311  \n",
       "9  0.894065  0.983805              0.565013                    0.621726  "
      ]
     },
     "execution_count": 24,
     "metadata": {},
     "output_type": "execute_result"
    }
   ],
   "source": [
    "warnings.filterwarnings('ignore')\n",
    "joined_df[(\"\",\"participant_id\")].iloc[-1] = \"Agg.\"\n",
    "joined_df[(\"ratio\",\"water\")] = joined_df[(\"class >= 3s\", \"water\")] / joined_df[(\"class\", \"water\")]\n",
    "joined_df[(\"ratio\",\"tap water\")] = joined_df[(\"class >= 3s\", \"tap water\")] / joined_df[(\"class\", \"tap water\")]\n",
    "joined_df[(\"ratio tap water/water\", \"\")] = joined_df[(\"class\", \"tap water\")] / joined_df[(\"class\", \"water\")]\n",
    "joined_df[(\"ratio >= 3s tap water/water\", \"\")] = joined_df[(\"class >= 3s\", \"tap water\")] / joined_df[(\"class >= 3s\", \"water\")]\n",
    "\n",
    "latex_output = joined_df.style.hide(axis=\"index\").format(precision=2).to_latex(multicol_align='c',\n",
    "                                         hrules=True)\n",
    "# Optionally save to file\n",
    "with open('tables/durations.tex', 'w') as f:\n",
    "    f.write(latex_output)\n",
    "\n",
    "joined_df"
   ]
  },
  {
   "cell_type": "code",
   "execution_count": null,
   "id": "4e9bfb29-7586-4a58-a355-1acc9cbd4001",
   "metadata": {},
   "outputs": [],
   "source": []
  },
  {
   "cell_type": "code",
   "execution_count": 25,
   "id": "53f4e5ec-ca88-4562-8b61-0c47093f5258",
   "metadata": {},
   "outputs": [],
   "source": [
    "def containment_ratio_tap_in_water(df):\n",
    "    results = []\n",
    "\n",
    "    for vid in df['video_id'].unique():\n",
    "        df_vid = df[df['video_id'] == vid]\n",
    "        participant_id = vid[:3]  # adjust if needed\n",
    "\n",
    "        water_intervals = merge_intervals(\n",
    "            df_vid[df_vid['class'] == 'water'][['start_sample', 'stop_sample']].values.tolist()\n",
    "        )\n",
    "        tap_intervals = merge_intervals(\n",
    "            df_vid[df_vid['class'] == 'tap water'][['start_sample', 'stop_sample']].values.tolist()\n",
    "        )\n",
    "\n",
    "        overlap = interval_length(intersect_intervals(water_intervals, tap_intervals))\n",
    "        total_tap = interval_length(tap_intervals)\n",
    "\n",
    "        containment = overlap / total_tap if total_tap > 0 else 0\n",
    "\n",
    "        results.append({\n",
    "            \"video_id\": vid,\n",
    "            \"participant_id\": participant_id,\n",
    "            \"overlap\": overlap,\n",
    "            \"tap_total\": total_tap,\n",
    "            \"containment\": containment\n",
    "        })\n",
    "    return pd.DataFrame(results)"
   ]
  },
  {
   "cell_type": "code",
   "execution_count": 26,
   "id": "b7cc89e3-b191-4fbf-ad7c-2b28f2f518d2",
   "metadata": {},
   "outputs": [],
   "source": [
    "cont = containment_ratio_tap_in_water(both_df)"
   ]
  },
  {
   "cell_type": "code",
   "execution_count": 27,
   "id": "dc1e9a1d-2cd4-4a89-b95a-ef53cc9165eb",
   "metadata": {},
   "outputs": [
    {
     "data": {
      "text/html": [
       "<div>\n",
       "<style scoped>\n",
       "    .dataframe tbody tr th:only-of-type {\n",
       "        vertical-align: middle;\n",
       "    }\n",
       "\n",
       "    .dataframe tbody tr th {\n",
       "        vertical-align: top;\n",
       "    }\n",
       "\n",
       "    .dataframe thead th {\n",
       "        text-align: right;\n",
       "    }\n",
       "</style>\n",
       "<table border=\"1\" class=\"dataframe\">\n",
       "  <thead>\n",
       "    <tr style=\"text-align: right;\">\n",
       "      <th></th>\n",
       "      <th>video_id</th>\n",
       "      <th>participant_id</th>\n",
       "      <th>overlap</th>\n",
       "      <th>tap_total</th>\n",
       "      <th>containment</th>\n",
       "    </tr>\n",
       "  </thead>\n",
       "  <tbody>\n",
       "    <tr>\n",
       "      <th>0</th>\n",
       "      <td>P01-20240202-110250</td>\n",
       "      <td>P01</td>\n",
       "      <td>1841857</td>\n",
       "      <td>1847905</td>\n",
       "      <td>0.996727</td>\n",
       "    </tr>\n",
       "    <tr>\n",
       "      <th>1</th>\n",
       "      <td>P01-20240202-161354</td>\n",
       "      <td>P01</td>\n",
       "      <td>1209264</td>\n",
       "      <td>1246080</td>\n",
       "      <td>0.970455</td>\n",
       "    </tr>\n",
       "    <tr>\n",
       "      <th>2</th>\n",
       "      <td>P01-20240202-161948</td>\n",
       "      <td>P01</td>\n",
       "      <td>0</td>\n",
       "      <td>0</td>\n",
       "      <td>0.000000</td>\n",
       "    </tr>\n",
       "    <tr>\n",
       "      <th>3</th>\n",
       "      <td>P01-20240202-171220</td>\n",
       "      <td>P01</td>\n",
       "      <td>1544016</td>\n",
       "      <td>1544016</td>\n",
       "      <td>1.000000</td>\n",
       "    </tr>\n",
       "    <tr>\n",
       "      <th>4</th>\n",
       "      <td>P01-20240202-175627</td>\n",
       "      <td>P01</td>\n",
       "      <td>1630658</td>\n",
       "      <td>1630658</td>\n",
       "      <td>1.000000</td>\n",
       "    </tr>\n",
       "    <tr>\n",
       "      <th>...</th>\n",
       "      <td>...</td>\n",
       "      <td>...</td>\n",
       "      <td>...</td>\n",
       "      <td>...</td>\n",
       "      <td>...</td>\n",
       "    </tr>\n",
       "    <tr>\n",
       "      <th>134</th>\n",
       "      <td>P09-20240623-153253</td>\n",
       "      <td>P09</td>\n",
       "      <td>2029440</td>\n",
       "      <td>2095872</td>\n",
       "      <td>0.968303</td>\n",
       "    </tr>\n",
       "    <tr>\n",
       "      <th>135</th>\n",
       "      <td>P09-20240623-153748</td>\n",
       "      <td>P09</td>\n",
       "      <td>1373184</td>\n",
       "      <td>1373184</td>\n",
       "      <td>1.000000</td>\n",
       "    </tr>\n",
       "    <tr>\n",
       "      <th>136</th>\n",
       "      <td>P09-20240623-154547</td>\n",
       "      <td>P09</td>\n",
       "      <td>0</td>\n",
       "      <td>0</td>\n",
       "      <td>0.000000</td>\n",
       "    </tr>\n",
       "    <tr>\n",
       "      <th>137</th>\n",
       "      <td>P09-20240624-160737</td>\n",
       "      <td>P09</td>\n",
       "      <td>5292143</td>\n",
       "      <td>5292143</td>\n",
       "      <td>1.000000</td>\n",
       "    </tr>\n",
       "    <tr>\n",
       "      <th>138</th>\n",
       "      <td>P09-20240624-165332</td>\n",
       "      <td>P09</td>\n",
       "      <td>5509058</td>\n",
       "      <td>5509059</td>\n",
       "      <td>1.000000</td>\n",
       "    </tr>\n",
       "  </tbody>\n",
       "</table>\n",
       "<p>139 rows × 5 columns</p>\n",
       "</div>"
      ],
      "text/plain": [
       "                video_id participant_id  overlap  tap_total  containment\n",
       "0    P01-20240202-110250            P01  1841857    1847905     0.996727\n",
       "1    P01-20240202-161354            P01  1209264    1246080     0.970455\n",
       "2    P01-20240202-161948            P01        0          0     0.000000\n",
       "3    P01-20240202-171220            P01  1544016    1544016     1.000000\n",
       "4    P01-20240202-175627            P01  1630658    1630658     1.000000\n",
       "..                   ...            ...      ...        ...          ...\n",
       "134  P09-20240623-153253            P09  2029440    2095872     0.968303\n",
       "135  P09-20240623-153748            P09  1373184    1373184     1.000000\n",
       "136  P09-20240623-154547            P09        0          0     0.000000\n",
       "137  P09-20240624-160737            P09  5292143    5292143     1.000000\n",
       "138  P09-20240624-165332            P09  5509058    5509059     1.000000\n",
       "\n",
       "[139 rows x 5 columns]"
      ]
     },
     "execution_count": 27,
     "metadata": {},
     "output_type": "execute_result"
    }
   ],
   "source": [
    "cont"
   ]
  },
  {
   "cell_type": "code",
   "execution_count": 28,
   "id": "a8c659c4-32c1-4a7c-ad61-5c4149db5b75",
   "metadata": {},
   "outputs": [
    {
     "data": {
      "text/plain": [
       "'\\\\begin{tabular}{lrrrrrrrrr}\\nparticipant_id & P01 & P02 & P03 & P04 & P05 & P06 & P07 & P08 & P09 \\\\\\\\\\n0 & 0.999 & 0.995 & 0.991 & 0.983 & 0.976 & 0.927 & 0.993 & 0.984 & 0.968 \\\\\\\\\\n\\\\end{tabular}\\n'"
      ]
     },
     "execution_count": 28,
     "metadata": {},
     "output_type": "execute_result"
    }
   ],
   "source": [
    "cont_part = cont.groupby(\"participant_id\").sum(numeric_only=True)\n",
    "cont_part = cont_part.overlap / cont_part.tap_total\n",
    "pd.DataFrame(cont_part).T.style.format(precision=3).to_latex()"
   ]
  },
  {
   "cell_type": "code",
   "execution_count": 29,
   "id": "2111be3e-a2c3-42e8-ba0e-2ae39accc667",
   "metadata": {},
   "outputs": [
    {
     "data": {
      "text/html": [
       "<div>\n",
       "<style scoped>\n",
       "    .dataframe tbody tr th:only-of-type {\n",
       "        vertical-align: middle;\n",
       "    }\n",
       "\n",
       "    .dataframe tbody tr th {\n",
       "        vertical-align: top;\n",
       "    }\n",
       "\n",
       "    .dataframe thead th {\n",
       "        text-align: right;\n",
       "    }\n",
       "</style>\n",
       "<table border=\"1\" class=\"dataframe\">\n",
       "  <thead>\n",
       "    <tr style=\"text-align: right;\">\n",
       "      <th>participant_id</th>\n",
       "      <th>P01</th>\n",
       "      <th>P02</th>\n",
       "      <th>P03</th>\n",
       "      <th>P04</th>\n",
       "      <th>P05</th>\n",
       "      <th>P06</th>\n",
       "      <th>P07</th>\n",
       "      <th>P08</th>\n",
       "      <th>P09</th>\n",
       "    </tr>\n",
       "  </thead>\n",
       "  <tbody>\n",
       "    <tr>\n",
       "      <th>0</th>\n",
       "      <td>0.999003</td>\n",
       "      <td>0.995044</td>\n",
       "      <td>0.990772</td>\n",
       "      <td>0.983414</td>\n",
       "      <td>0.976166</td>\n",
       "      <td>0.927373</td>\n",
       "      <td>0.992628</td>\n",
       "      <td>0.983841</td>\n",
       "      <td>0.967991</td>\n",
       "    </tr>\n",
       "  </tbody>\n",
       "</table>\n",
       "</div>"
      ],
      "text/plain": [
       "participant_id       P01       P02       P03       P04       P05       P06  \\\n",
       "0               0.999003  0.995044  0.990772  0.983414  0.976166  0.927373   \n",
       "\n",
       "participant_id       P07       P08       P09  \n",
       "0               0.992628  0.983841  0.967991  "
      ]
     },
     "execution_count": 29,
     "metadata": {},
     "output_type": "execute_result"
    }
   ],
   "source": [
    "pd.DataFrame(cont_part).T"
   ]
  },
  {
   "cell_type": "code",
   "execution_count": 30,
   "id": "f11cc194-58d4-4712-a2da-86afd7f8e163",
   "metadata": {},
   "outputs": [
    {
     "data": {
      "text/plain": [
       "0.9775923249713208"
      ]
     },
     "execution_count": 30,
     "metadata": {},
     "output_type": "execute_result"
    }
   ],
   "source": [
    "cont.overlap.sum() / cont.tap_total.sum()"
   ]
  }
 ],
 "metadata": {
  "kernelspec": {
   "display_name": "Python 3 (ipykernel)",
   "language": "python",
   "name": "python3"
  },
  "language_info": {
   "codemirror_mode": {
    "name": "ipython",
    "version": 3
   },
   "file_extension": ".py",
   "mimetype": "text/x-python",
   "name": "python",
   "nbconvert_exporter": "python",
   "pygments_lexer": "ipython3",
   "version": "3.11.4"
  }
 },
 "nbformat": 4,
 "nbformat_minor": 5
}
